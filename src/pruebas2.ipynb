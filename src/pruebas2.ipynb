{
 "cells": [
  {
   "cell_type": "code",
   "execution_count": 1,
   "id": "7fcac4b9",
   "metadata": {},
   "outputs": [],
   "source": [
    "from __future__ import absolute_import\n",
    "from __future__ import division\n",
    "from __future__ import print_function\n",
    "\n",
    "import _init_paths\n",
    "\n",
    "import os\n",
    "\n",
    "import torch\n",
    "import torch.utils.data\n",
    "from opts import opts\n",
    "from models.model import create_model, load_model, save_model\n",
    "from models.data_parallel import DataParallel\n",
    "from logger import Logger\n",
    "from datasets.dataset_factory import get_dataset\n",
    "from trains.train_factory import train_factory\n",
    "import cv2\n",
    "import sys\n",
    "%matplotlib inline\n",
    "import matplotlib.pyplot as plt"
   ]
  },
  {
   "cell_type": "code",
   "execution_count": 2,
   "id": "7d806c0f",
   "metadata": {},
   "outputs": [
    {
     "name": "stdout",
     "output_type": "stream",
     "text": [
      "Fix size testing.\n",
      "training chunk_sizes: [2]\n",
      "The output will be saved to  C:\\Users\\avata\\FewShot-CenterNet\\src\\lib\\..\\..\\exp\\fewdetv3\\coco_dlav7\n",
      "fewdetv3\n",
      "0\n",
      "2\n"
     ]
    }
   ],
   "source": [
    "sys.argv = ['-f', 'fewdetv3', '--exp_id', 'coco_dlav7','--num_workers', '0','--batch_size','2', '--arch','dlav7_34'] #cmd = 'ctdet --exp_id coco_dla --batch_size 4 --lr 1.25e-4  --gpus 0 --num_workers 0'\n",
    "opt = opts().parse()\n",
    "print(opt.task)\n",
    "print(opt.num_workers)\n",
    "print(opt.batch_size)"
   ]
  },
  {
   "cell_type": "code",
   "execution_count": 3,
   "id": "86f23558",
   "metadata": {},
   "outputs": [],
   "source": [
    "torch.manual_seed(opt.seed)\n",
    "torch.backends.cudnn.benchmark = not opt.not_cuda_benchmark and not opt.test"
   ]
  },
  {
   "cell_type": "code",
   "execution_count": 4,
   "id": "c2169f24",
   "metadata": {},
   "outputs": [
    {
     "name": "stdout",
     "output_type": "stream",
     "text": [
      "heads {'ss': 80, 'hm': 1, 'wh': 2, 'reg': 2}\n"
     ]
    }
   ],
   "source": [
    "Dataset = get_dataset(opt.dataset, opt.task)\n",
    "opt = opts().update_dataset_info_and_set_heads(opt, Dataset)\n",
    "logger = Logger(opt)\n",
    "os.environ['CUDA_VISIBLE_DEVICES'] = opt.gpus_str\n",
    "opt.device = torch.device('cuda' if opt.gpus[0] >= 0 else 'cpu')"
   ]
  },
  {
   "cell_type": "code",
   "execution_count": 5,
   "id": "c21b6b67",
   "metadata": {},
   "outputs": [],
   "source": [
    "model = create_model(opt.arch, opt.heads, opt.head_conv)\n",
    "optimizer = torch.optim.Adam(model.parameters(), opt.lr)\n",
    "start_epoch = 0\n",
    "if opt.load_model != '':\n",
    "    model, optimizer, start_epoch = load_model(model, opt.load_model, optimizer, opt.resume, opt.lr, opt.lr_step)"
   ]
  },
  {
   "cell_type": "code",
   "execution_count": 6,
   "id": "c5830351",
   "metadata": {},
   "outputs": [],
   "source": [
    "Trainer = train_factory[opt.task]\n",
    "trainer = Trainer(opt, model, optimizer)\n",
    "trainer.set_device(opt.gpus, opt.chunk_sizes, opt.device)"
   ]
  },
  {
   "cell_type": "code",
   "execution_count": 7,
   "id": "3a45e48b",
   "metadata": {},
   "outputs": [
    {
     "name": "stdout",
     "output_type": "stream",
     "text": [
      "==> initializing coco 2017 train data.\n",
      "loading annotations into memory...\n",
      "Done (t=13.67s)\n",
      "creating index...\n",
      "index created!\n",
      "Loaded train 118287 samples\n"
     ]
    }
   ],
   "source": [
    "train_loader = torch.utils.data.DataLoader(\n",
    "      Dataset(opt, 'train'), \n",
    "      batch_size=opt.batch_size, \n",
    "      shuffle=True,\n",
    "      num_workers=opt.num_workers,\n",
    "      pin_memory=True,\n",
    "      drop_last=True\n",
    "  )"
   ]
  },
  {
   "cell_type": "code",
   "execution_count": 18,
   "id": "1aefd1a0",
   "metadata": {},
   "outputs": [],
   "source": [
    "img = next(iter(train_loader))"
   ]
  },
  {
   "cell_type": "code",
   "execution_count": 19,
   "id": "1860f085",
   "metadata": {},
   "outputs": [
    {
     "name": "stdout",
     "output_type": "stream",
     "text": [
      "dict_keys(['input', 'ss', 'hm', 'reg_mask', 'ind', 'wh', 'hm_og', 'reg'])\n",
      "torch.Size([2, 3, 512, 512])\n"
     ]
    }
   ],
   "source": [
    "print(img.keys())\n",
    "print(img['input'].size())"
   ]
  },
  {
   "cell_type": "code",
   "execution_count": 20,
   "id": "ac190ad1",
   "metadata": {},
   "outputs": [
    {
     "name": "stdout",
     "output_type": "stream",
     "text": [
      "dict_keys(['fc_ss', 'ss', 'hm', 'wh', 'reg'])\n"
     ]
    }
   ],
   "source": [
    "model.to('cuda')\n",
    "torch.cuda.empty_cache()\n",
    "outputs = model(img['input'].to('cuda'))\n",
    "output = outputs[0]\n",
    "print(output.keys())"
   ]
  },
  {
   "cell_type": "code",
   "execution_count": 21,
   "id": "a373f1b0",
   "metadata": {},
   "outputs": [],
   "source": [
    "batch=img\n",
    "mask = batch['reg_mask']\n",
    "ind = batch['ind']\n",
    "target_wh = batch['wh']\n",
    "target_reg = batch['reg']"
   ]
  },
  {
   "cell_type": "code",
   "execution_count": 50,
   "id": "677f29e7",
   "metadata": {},
   "outputs": [
    {
     "name": "stdout",
     "output_type": "stream",
     "text": [
      "tensor(13.)\n",
      "tensor(32755.)\n"
     ]
    }
   ],
   "source": [
    "pos_inds = gt_hm.eq(1)\n",
    "neg_inds = gt_hm.lt(1)\n",
    "print(pos_inds.float().sum())\n",
    "print(neg_inds.float().sum())"
   ]
  },
  {
   "cell_type": "code",
   "execution_count": 52,
   "id": "dc6d7b97",
   "metadata": {},
   "outputs": [
    {
     "name": "stdout",
     "output_type": "stream",
     "text": [
      "torch.Size([32755])\n",
      "tensor([0.1063, 0.1334, 0.0963, 0.0920, 0.1166, 0.1167, 0.1094, 0.1525, 0.1173,\n",
      "        0.1062, 0.1002, 0.0906, 0.1091], device='cuda:0',\n",
      "       grad_fn=<IndexBackward>)\n",
      "tensor(13.)\n",
      "tensor(-22.7080, device='cuda:0', grad_fn=<SumBackward0>)\n",
      "tensor(-45.4723, device='cuda:0', grad_fn=<SumBackward0>)\n",
      "tensor(5.2446, device='cuda:0', grad_fn=<RsubBackward1>)\n"
     ]
    }
   ],
   "source": [
    "neg_weights = torch.pow(1 - gt_hm[neg_inds], 4).to('cuda')\n",
    "print(neg_weights.size())\n",
    "\n",
    "loss = 0\n",
    "pos_pred = pred_hm[pos_inds].to('cuda')\n",
    "print(pos_pred)\n",
    "neg_pred = pred_hm[neg_inds].to('cuda')\n",
    "\n",
    "pos_loss = torch.log(pos_pred) * torch.pow(1 - pos_pred, 2)\n",
    "neg_loss = torch.log(1 - neg_pred) * torch.pow(neg_pred, 2) * neg_weights\n",
    "\n",
    "num_pos  = pos_inds.float().sum()\n",
    "print(num_pos)\n",
    "pos_loss = pos_loss.sum()\n",
    "neg_loss = neg_loss.sum()\n",
    "print(pos_loss)\n",
    "print(neg_loss)\n",
    "if pos_pred.nelement() == 0:\n",
    "    loss = loss - neg_loss\n",
    "else:\n",
    "    loss = loss - (pos_loss + neg_loss) / num_pos\n",
    "print(loss)"
   ]
  },
  {
   "cell_type": "code",
   "execution_count": 42,
   "id": "9f17cabb",
   "metadata": {},
   "outputs": [
    {
     "name": "stdout",
     "output_type": "stream",
     "text": [
      "torch.Size([32755])\n",
      "torch.Size([32755])\n",
      "torch.Size([32755])\n",
      "tensor(13.)\n",
      "tensor(0., device='cuda:0')\n",
      "tensor(-8.9276, device='cuda:0')\n",
      "tensor(0.6867, device='cuda:0')\n"
     ]
    }
   ],
   "source": [
    "neg_weights = torch.pow(1 - gt_hm[neg_inds], 4).to('cuda')\n",
    "print(neg_weights.size())\n",
    "\n",
    "loss = 0\n",
    "pos_pred = gt_hm[pos_inds].to('cuda')\n",
    "neg_pred = gt_hm[neg_inds].to('cuda')\n",
    "print(neg_pred.size())\n",
    "\n",
    "pos_loss = torch.log(pos_pred) * torch.pow(1 - pos_pred, 2)\n",
    "neg_loss = torch.log(1 - neg_pred) * torch.pow(neg_pred, 2) * neg_weights\n",
    "print(neg_loss.size())\n",
    "\n",
    "num_pos  = pos_inds.float().sum()\n",
    "print(num_pos)\n",
    "pos_loss = pos_loss.sum()\n",
    "neg_loss = neg_loss.sum()\n",
    "print(pos_loss)\n",
    "print(neg_loss)\n",
    "if pos_pred.nelement() == 0:\n",
    "    loss = loss - neg_loss\n",
    "else:\n",
    "    loss = loss - (pos_loss + neg_loss) / num_pos\n",
    "print(loss)"
   ]
  },
  {
   "cell_type": "code",
   "execution_count": 43,
   "id": "a7f58206",
   "metadata": {},
   "outputs": [
    {
     "data": {
      "text/plain": [
       "<matplotlib.image.AxesImage at 0x2332cd05688>"
      ]
     },
     "execution_count": 43,
     "metadata": {},
     "output_type": "execute_result"
    },
    {
     "data": {
      "image/png": "[encoded data removed]",
      "text/plain": [
       "<Figure size 432x288 with 1 Axes>"
      ]
     },
     "metadata": {
      "needs_background": "light"
     },
     "output_type": "display_data"
    }
   ],
   "source": [
    "img_pred = pred_hm.detach().cpu().numpy()\n",
    "plt.imshow(img_pred[1], cmap='hot', interpolation='nearest')"
   ]
  },
  {
   "cell_type": "code",
   "execution_count": 44,
   "id": "6aee26bb",
   "metadata": {},
   "outputs": [
    {
     "name": "stdout",
     "output_type": "stream",
     "text": [
      "One heatmap\n"
     ]
    },
    {
     "data": {
      "text/plain": [
       "<matplotlib.image.AxesImage at 0x233304db748>"
      ]
     },
     "execution_count": 44,
     "metadata": {},
     "output_type": "execute_result"
    },
    {
     "data": {
      "image/png": "[encoded data removed]",
      "text/plain": [
       "<Figure size 432x288 with 1 Axes>"
      ]
     },
     "metadata": {
      "needs_background": "light"
     },
     "output_type": "display_data"
    }
   ],
   "source": [
    "print('One heatmap')\n",
    "img_gt = gt_hm.detach().cpu().numpy()\n",
    "plt.imshow(img_gt[0], cmap='hot', interpolation='nearest')"
   ]
  },
  {
   "cell_type": "code",
   "execution_count": 45,
   "id": "571dda20",
   "metadata": {},
   "outputs": [
    {
     "name": "stdout",
     "output_type": "stream",
     "text": [
      "C heatmaps summed\n",
      "torch.Size([2, 80, 128, 128])\n"
     ]
    },
    {
     "data": {
      "text/plain": [
       "<matplotlib.image.AxesImage at 0x23331a4b188>"
      ]
     },
     "execution_count": 45,
     "metadata": {},
     "output_type": "execute_result"
    },
    {
     "data": {
      "image/png": "[encoded data removed]",
      "text/plain": [
       "<Figure size 432x288 with 1 Axes>"
      ]
     },
     "metadata": {
      "needs_background": "light"
     },
     "output_type": "display_data"
    }
   ],
   "source": [
    "print('C heatmaps summed')\n",
    "gt_hm2 = batch['hm_og']\n",
    "print(gt_hm2.size())\n",
    "img_gt2 = gt_hm2.detach().cpu().numpy() #2x80x180x180\n",
    "img_gt2 = img_gt2.sum(1)/img_gt.max()\n",
    "plt.imshow(img_gt2[0], cmap='hot', interpolation='nearest')"
   ]
  },
  {
   "cell_type": "code",
   "execution_count": 46,
   "id": "837ae1fe",
   "metadata": {},
   "outputs": [
    {
     "name": "stdout",
     "output_type": "stream",
     "text": [
      "torch.Size([32755])\n",
      "torch.Size([32755])\n",
      "torch.Size([32755])\n",
      "tensor(13.)\n",
      "tensor(-22.7080, device='cuda:0', grad_fn=<SumBackward0>)\n",
      "tensor(-45.4645, device='cuda:0', grad_fn=<SumBackward0>)\n",
      "tensor(5.2440, device='cuda:0', grad_fn=<RsubBackward1>)\n"
     ]
    }
   ],
   "source": [
    "#Predicted vs hm_og sum dim 1\n",
    "gt_hm2 = gt_hm2.sum(1)/img_gt.max()\n",
    "neg_weights = torch.pow(1 - gt_hm2[neg_inds], 4).to('cuda')\n",
    "print(neg_weights.size())\n",
    "\n",
    "loss = 0\n",
    "pos_pred = pred_hm[pos_inds].to('cuda')\n",
    "neg_pred = pred_hm[neg_inds].to('cuda')\n",
    "print(neg_pred.size())\n",
    "\n",
    "pos_loss = torch.log(pos_pred) * torch.pow(1 - pos_pred, 2)\n",
    "neg_loss = torch.log(1 - neg_pred) * torch.pow(neg_pred, 2) * neg_weights\n",
    "print(neg_loss.size())\n",
    "\n",
    "num_pos  = pos_inds.float().sum()\n",
    "print(num_pos)\n",
    "pos_loss = pos_loss.sum()\n",
    "neg_loss = neg_loss.sum()\n",
    "print(pos_loss)\n",
    "print(neg_loss)\n",
    "if pos_pred.nelement() == 0:\n",
    "    loss = loss - neg_loss\n",
    "else:\n",
    "    loss = loss - (pos_loss + neg_loss) / num_pos\n",
    "print(loss)"
   ]
  },
  {
   "cell_type": "code",
   "execution_count": 48,
   "id": "57127f69",
   "metadata": {},
   "outputs": [
    {
     "name": "stdout",
     "output_type": "stream",
     "text": [
      "torch.Size([2621427])\n",
      "torch.Size([2621427])\n",
      "torch.Size([2621427])\n",
      "tensor(13.)\n",
      "tensor(-9.0100, device='cuda:0')\n",
      "tensor(0.6931, device='cuda:0')\n"
     ]
    }
   ],
   "source": [
    "gt_hm2 = batch['hm_og']\n",
    "pos_inds = gt_hm2.eq(1)\n",
    "neg_inds = gt_hm2.lt(1)\n",
    "neg_weights = torch.pow(1 - gt_hm2[neg_inds], 4).to('cuda')\n",
    "print(neg_weights.size())\n",
    "\n",
    "loss = 0\n",
    "pos_pred = gt_hm2[pos_inds].to('cuda')\n",
    "neg_pred = gt_hm2[neg_inds].to('cuda')\n",
    "print(neg_pred.size())\n",
    "\n",
    "pos_loss = torch.log(pos_pred) * torch.pow(1 - pos_pred, 2)\n",
    "neg_loss = torch.log(1 - neg_pred) * torch.pow(neg_pred, 2) * neg_weights\n",
    "print(neg_loss.size())\n",
    "\n",
    "num_pos  = pos_inds.float().sum()\n",
    "print(num_pos)\n",
    "pos_loss = pos_loss.sum()\n",
    "neg_loss = neg_loss.sum()\n",
    "print(neg_loss)\n",
    "if pos_pred.nelement() == 0:\n",
    "    loss = loss - neg_loss\n",
    "else:\n",
    "    loss = loss - (pos_loss + neg_loss) / num_pos\n",
    "print(loss)"
   ]
  },
  {
   "cell_type": "code",
   "execution_count": null,
   "id": "b6db5c22",
   "metadata": {},
   "outputs": [],
   "source": []
  }
 ],
 "metadata": {
  "kernelspec": {
   "display_name": "Python 3 (ipykernel)",
   "language": "python",
   "name": "python3"
  },
  "language_info": {
   "codemirror_mode": {
    "name": "ipython",
    "version": 3
   },
   "file_extension": ".py",
   "mimetype": "text/x-python",
   "name": "python",
   "nbconvert_exporter": "python",
   "pygments_lexer": "ipython3",
   "version": "3.7.13"
  }
 },
 "nbformat": 4,
 "nbformat_minor": 5
}
