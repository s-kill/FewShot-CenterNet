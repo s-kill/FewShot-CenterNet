{
 "cells": [
  {
   "cell_type": "code",
   "execution_count": 1,
   "id": "7fcac4b9",
   "metadata": {},
   "outputs": [],
   "source": [
    "from __future__ import absolute_import\n",
    "from __future__ import division\n",
    "from __future__ import print_function\n",
    "\n",
    "import _init_paths\n",
    "\n",
    "import os\n",
    "\n",
    "import torch\n",
    "import torch.utils.data\n",
    "from opts import opts\n",
    "from models.model import create_model, load_model, save_model\n",
    "from models.data_parallel import DataParallel\n",
    "from logger import Logger\n",
    "from datasets.dataset_factory import get_dataset\n",
    "from trains.train_factory import train_factory\n",
    "import cv2\n",
    "import sys\n",
    "%matplotlib inline\n",
    "import matplotlib.pyplot as plt"
   ]
  },
  {
   "cell_type": "code",
   "execution_count": 6,
   "id": "198d72e0",
   "metadata": {},
   "outputs": [
    {
     "name": "stdout",
     "output_type": "stream",
     "text": [
      "Fix size testing.\n",
      "training chunk_sizes: [2]\n",
      "The output will be saved to  C:\\Users\\avata\\FewShot-CenterNet\\src\\lib\\..\\..\\exp\\ctdet\\coco_dlav7\n",
      "ctdet\n",
      "0\n",
      "2\n"
     ]
    }
   ],
   "source": [
    "sys.argv = ['-f', 'ctdet', '--exp_id', 'coco_dlav7','--num_workers', '0','--batch_size','2', '--arch','dla_34'] #cmd = 'ctdet --exp_id coco_dla --batch_size 4 --lr 1.25e-4  --gpus 0 --num_workers 0'\n",
    "opt = opts().parse()\n",
    "print(opt.task)\n",
    "print(opt.num_workers)\n",
    "print(opt.batch_size)"
   ]
  },
  {
   "cell_type": "code",
   "execution_count": 8,
   "id": "ffcc0c47",
   "metadata": {},
   "outputs": [],
   "source": [
    "torch.manual_seed(opt.seed)\n",
    "torch.backends.cudnn.benchmark = not opt.not_cuda_benchmark and not opt.test"
   ]
  },
  {
   "cell_type": "code",
   "execution_count": 9,
   "id": "83194c7e",
   "metadata": {},
   "outputs": [
    {
     "name": "stdout",
     "output_type": "stream",
     "text": [
      "heads {'hm': 80, 'wh': 2, 'reg': 2}\n"
     ]
    }
   ],
   "source": [
    "Dataset = get_dataset(opt.dataset, opt.task)\n",
    "opt = opts().update_dataset_info_and_set_heads(opt, Dataset)\n",
    "logger = Logger(opt)\n",
    "os.environ['CUDA_VISIBLE_DEVICES'] = opt.gpus_str\n",
    "opt.device = torch.device('cuda' if opt.gpus[0] >= 0 else 'cpu')"
   ]
  },
  {
   "cell_type": "code",
   "execution_count": 10,
   "id": "bfd37642",
   "metadata": {},
   "outputs": [],
   "source": [
    "model = create_model(opt.arch, opt.heads, opt.head_conv)\n",
    "optimizer = torch.optim.Adam(model.parameters(), opt.lr)\n",
    "start_epoch = 0\n",
    "if opt.load_model != '':\n",
    "    model, optimizer, start_epoch = load_model(model, opt.load_model, optimizer, opt.resume, opt.lr, opt.lr_step)"
   ]
  },
  {
   "cell_type": "code",
   "execution_count": 11,
   "id": "9511ef67",
   "metadata": {},
   "outputs": [],
   "source": [
    "Trainer = train_factory[opt.task]\n",
    "trainer = Trainer(opt, model, optimizer)\n",
    "trainer.set_device(opt.gpus, opt.chunk_sizes, opt.device)"
   ]
  },
  {
   "cell_type": "code",
   "execution_count": 12,
   "id": "c01a1c4d",
   "metadata": {},
   "outputs": [
    {
     "name": "stdout",
     "output_type": "stream",
     "text": [
      "==> initializing coco 2017 train data.\n",
      "loading annotations into memory...\n",
      "Done (t=20.58s)\n",
      "creating index...\n",
      "index created!\n",
      "Loaded train 118287 samples\n"
     ]
    }
   ],
   "source": [
    "train_loader = torch.utils.data.DataLoader(\n",
    "      Dataset(opt, 'train'), \n",
    "      batch_size=opt.batch_size, \n",
    "      shuffle=True,\n",
    "      num_workers=opt.num_workers,\n",
    "      pin_memory=True,\n",
    "      drop_last=True\n",
    "  )"
   ]
  },
  {
   "cell_type": "code",
   "execution_count": 13,
   "id": "522cb76c",
   "metadata": {},
   "outputs": [],
   "source": [
    "img = next(iter(train_loader))"
   ]
  },
  {
   "cell_type": "code",
   "execution_count": 14,
   "id": "83d93b8e",
   "metadata": {},
   "outputs": [
    {
     "name": "stdout",
     "output_type": "stream",
     "text": [
      "dict_keys(['input', 'hm', 'reg_mask', 'ind', 'wh', 'reg'])\n",
      "torch.Size([2, 3, 512, 512])\n"
     ]
    }
   ],
   "source": [
    "print(img.keys())\n",
    "print(img['input'].size())"
   ]
  },
  {
   "cell_type": "code",
   "execution_count": 15,
   "id": "292d4518",
   "metadata": {},
   "outputs": [
    {
     "name": "stdout",
     "output_type": "stream",
     "text": [
      "dict_keys(['hm', 'wh', 'reg'])\n"
     ]
    }
   ],
   "source": [
    "model.to('cuda')\n",
    "torch.cuda.empty_cache()\n",
    "outputs = model(img['input'].to('cuda'))\n",
    "output = outputs[0]\n",
    "print(output.keys())"
   ]
  },
  {
   "cell_type": "code",
   "execution_count": 17,
   "id": "14cda10f",
   "metadata": {},
   "outputs": [],
   "source": [
    "batch=img\n",
    "mask = batch['reg_mask']\n",
    "ind = batch['ind']\n",
    "target_wh = batch['wh']\n",
    "target_reg = batch['reg']"
   ]
  },
  {
   "cell_type": "code",
   "execution_count": 24,
   "id": "44524237",
   "metadata": {},
   "outputs": [
    {
     "name": "stdout",
     "output_type": "stream",
     "text": [
      "torch.Size([2, 80, 128, 128])\n",
      "torch.Size([2, 80, 128, 128])\n"
     ]
    }
   ],
   "source": [
    "pred_hm = output['hm'].sigmoid()\n",
    "print(pred_hm.size())\n",
    "gt_hm = batch['hm']\n",
    "print(gt_hm.size())"
   ]
  },
  {
   "cell_type": "code",
   "execution_count": 28,
   "id": "e134cf3a",
   "metadata": {},
   "outputs": [],
   "source": [
    "pos_inds = gt_hm.eq(1)\n",
    "neg_inds = gt_hm.lt(1)"
   ]
  },
  {
   "cell_type": "code",
   "execution_count": 51,
   "id": "5d7adccc",
   "metadata": {},
   "outputs": [
    {
     "name": "stdout",
     "output_type": "stream",
     "text": [
      "torch.Size([2621430])\n",
      "torch.Size([2621430])\n",
      "torch.Size([2621430])\n",
      "tensor(10.)\n",
      "tensor(-3037.0044, device='cuda:0', grad_fn=<SumBackward0>)\n",
      "tensor(305.7274, device='cuda:0', grad_fn=<RsubBackward1>)\n"
     ]
    }
   ],
   "source": [
    "neg_weights = torch.pow(1 - gt_hm[neg_inds], 4).to('cuda')\n",
    "print(neg_weights.size())\n",
    "\n",
    "loss = 0\n",
    "pos_pred = pred_hm[pos_inds].to('cuda')\n",
    "neg_pred = pred_hm[neg_inds].to('cuda')\n",
    "print(neg_pred.size())\n",
    "\n",
    "pos_loss = torch.log(pos_pred) * torch.pow(1 - pos_pred, 2)\n",
    "neg_loss = torch.log(1 - neg_pred) * torch.pow(neg_pred, 2) * neg_weights\n",
    "print(neg_loss.size())\n",
    "\n",
    "num_pos  = pos_inds.float().sum()\n",
    "print(num_pos)\n",
    "pos_loss = pos_loss.sum()\n",
    "neg_loss = neg_loss.sum()\n",
    "print(neg_loss)\n",
    "if pos_pred.nelement() == 0:\n",
    "    loss = loss - neg_loss\n",
    "else:\n",
    "    loss = loss - (pos_loss + neg_loss) / num_pos\n",
    "print(loss)"
   ]
  },
  {
   "cell_type": "code",
   "execution_count": 52,
   "id": "d19953ed",
   "metadata": {},
   "outputs": [
    {
     "name": "stdout",
     "output_type": "stream",
     "text": [
      "torch.Size([2621430])\n",
      "torch.Size([2621430])\n",
      "torch.Size([2621430])\n",
      "tensor(10.)\n",
      "tensor(-4.0204, device='cuda:0')\n",
      "tensor(0.4020, device='cuda:0')\n"
     ]
    }
   ],
   "source": [
    "neg_weights = torch.pow(1 - gt_hm[neg_inds], 4).to('cuda')\n",
    "print(neg_weights.size())\n",
    "\n",
    "loss = 0\n",
    "pos_pred = gt_hm[pos_inds].to('cuda')\n",
    "neg_pred = gt_hm[neg_inds].to('cuda')\n",
    "print(neg_pred.size())\n",
    "\n",
    "pos_loss = torch.log(pos_pred) * torch.pow(1 - pos_pred, 2)\n",
    "neg_loss = torch.log(1 - neg_pred) * torch.pow(neg_pred, 2) * neg_weights\n",
    "print(neg_loss.size())\n",
    "\n",
    "num_pos  = pos_inds.float().sum()\n",
    "print(num_pos)\n",
    "pos_loss = pos_loss.sum()\n",
    "neg_loss = neg_loss.sum()\n",
    "print(neg_loss)\n",
    "if pos_pred.nelement() == 0:\n",
    "    loss = loss - neg_loss\n",
    "else:\n",
    "    loss = loss - (pos_loss + neg_loss) / num_pos\n",
    "print(loss)"
   ]
  },
  {
   "cell_type": "code",
   "execution_count": 70,
   "id": "8fbbc024",
   "metadata": {},
   "outputs": [
    {
     "data": {
      "text/plain": [
       "<matplotlib.image.AxesImage at 0x21b379341c8>"
      ]
     },
     "execution_count": 70,
     "metadata": {},
     "output_type": "execute_result"
    },
    {
     "data": {
      "image/png": "[encoded data removed]",
      "text/plain": [
       "<Figure size 432x288 with 1 Axes>"
      ]
     },
     "metadata": {
      "needs_background": "light"
     },
     "output_type": "display_data"
    }
   ],
   "source": [
    "img_pred = pred_hm.detach().cpu().numpy() #2x80x180x180\n",
    "img_pred = img_pred.sum(1)/80\n",
    "plt.imshow(img_pred[1], cmap='hot', interpolation='nearest')"
   ]
  },
  {
   "cell_type": "code",
   "execution_count": 71,
   "id": "1d294db5",
   "metadata": {},
   "outputs": [
    {
     "data": {
      "text/plain": [
       "<matplotlib.image.AxesImage at 0x21b37ec5e08>"
      ]
     },
     "execution_count": 71,
     "metadata": {},
     "output_type": "execute_result"
    },
    {
     "data": {
      "image/png": "[encoded data removed]",
      "text/plain": [
       "<Figure size 432x288 with 1 Axes>"
      ]
     },
     "metadata": {
      "needs_background": "light"
     },
     "output_type": "display_data"
    }
   ],
   "source": [
    "img_gt = gt_hm.detach().cpu().numpy() #2x80x180x180\n",
    "img_gt = img_gt.sum(1)/img_gt.max()\n",
    "plt.imshow(img_gt[1], cmap='hot', interpolation='nearest')"
   ]
  },
  {
   "cell_type": "code",
   "execution_count": 72,
   "id": "2f253ff0",
   "metadata": {},
   "outputs": [
    {
     "data": {
      "text/plain": [
       "True"
      ]
     },
     "execution_count": 72,
     "metadata": {},
     "output_type": "execute_result"
    }
   ],
   "source": [
    "1 in img_gt[1]"
   ]
  },
  {
   "cell_type": "code",
   "execution_count": 77,
   "id": "a1b79149",
   "metadata": {},
   "outputs": [
    {
     "name": "stdout",
     "output_type": "stream",
     "text": [
      "torch.Size([2, 80, 128, 128])\n",
      "torch.Size([2, 80, 128, 128])\n",
      "torch.Size([2, 128, 128])\n",
      "torch.Size([2, 128, 128])\n",
      "torch.Size([32758])\n",
      "torch.Size([32758])\n",
      "torch.Size([32758])\n",
      "tensor(10.)\n",
      "tensor(nan, device='cuda:0', grad_fn=<SumBackward0>)\n",
      "tensor(nan, device='cuda:0', grad_fn=<RsubBackward1>)\n"
     ]
    }
   ],
   "source": [
    "pred_hm = output['hm'].sigmoid()\n",
    "print(pred_hm.size())\n",
    "gt_hm = batch['hm']\n",
    "print(gt_hm.size())\n",
    "\n",
    "pred_hm = pred_hm.sum(1)/pred_hm.max()\n",
    "print(pred_hm.size())\n",
    "gt_hm = gt_hm.sum(1)/gt_hm.max()\n",
    "print(gt_hm.size())\n",
    "\n",
    "\n",
    "pos_inds = gt_hm.eq(1)\n",
    "neg_inds = gt_hm.lt(1)\n",
    "\n",
    "neg_weights = torch.pow(1 - gt_hm[neg_inds], 4).to('cuda')\n",
    "print(neg_weights.size())\n",
    "\n",
    "loss = 0\n",
    "pos_pred = pred_hm[pos_inds].to('cuda')\n",
    "neg_pred = pred_hm[neg_inds].to('cuda')\n",
    "print(neg_pred.size())\n",
    "\n",
    "pos_loss = torch.log(pos_pred) * torch.pow(1 - pos_pred, 2)\n",
    "neg_loss = torch.log(1 - neg_pred) * torch.pow(neg_pred, 2) * neg_weights\n",
    "print(neg_loss.size())\n",
    "\n",
    "num_pos  = pos_inds.float().sum()\n",
    "print(num_pos)\n",
    "pos_loss = pos_loss.sum()\n",
    "neg_loss = neg_loss.sum()\n",
    "print(neg_loss)\n",
    "if pos_pred.nelement() == 0:\n",
    "    loss = loss - neg_loss\n",
    "else:\n",
    "    loss = loss - (pos_loss + neg_loss) / num_pos\n",
    "print(loss)"
   ]
  },
  {
   "cell_type": "code",
   "execution_count": 78,
   "id": "25849fdb",
   "metadata": {},
   "outputs": [
    {
     "name": "stdout",
     "output_type": "stream",
     "text": [
      "torch.Size([2, 80, 128, 128])\n",
      "torch.Size([2, 80, 128, 128])\n",
      "torch.Size([2, 128, 128])\n",
      "torch.Size([2, 128, 128])\n",
      "torch.Size([32758])\n",
      "torch.Size([32758])\n",
      "torch.Size([32758])\n",
      "tensor(10.)\n",
      "tensor(-4.0528, device='cuda:0')\n",
      "tensor(0.4053, device='cuda:0')\n"
     ]
    }
   ],
   "source": [
    "pred_hm = output['hm'].sigmoid()\n",
    "print(pred_hm.size())\n",
    "gt_hm = batch['hm']\n",
    "print(gt_hm.size())\n",
    "pred_hm = gt_hm\n",
    "\n",
    "pred_hm = pred_hm.sum(1)/pred_hm.max()\n",
    "print(pred_hm.size())\n",
    "gt_hm = gt_hm.sum(1)/gt_hm.max()\n",
    "print(gt_hm.size())\n",
    "\n",
    "\n",
    "pos_inds = gt_hm.eq(1)\n",
    "neg_inds = gt_hm.lt(1)\n",
    "\n",
    "neg_weights = torch.pow(1 - gt_hm[neg_inds], 4).to('cuda')\n",
    "print(neg_weights.size())\n",
    "\n",
    "loss = 0\n",
    "pos_pred = gt_hm[pos_inds].to('cuda')\n",
    "neg_pred = gt_hm[neg_inds].to('cuda')\n",
    "print(neg_pred.size())\n",
    "\n",
    "pos_loss = torch.log(pos_pred) * torch.pow(1 - pos_pred, 2)\n",
    "neg_loss = torch.log(1 - neg_pred) * torch.pow(neg_pred, 2) * neg_weights\n",
    "print(neg_loss.size())\n",
    "\n",
    "num_pos  = pos_inds.float().sum()\n",
    "print(num_pos)\n",
    "pos_loss = pos_loss.sum()\n",
    "neg_loss = neg_loss.sum()\n",
    "print(neg_loss)\n",
    "if pos_pred.nelement() == 0:\n",
    "    loss = loss - neg_loss\n",
    "else:\n",
    "    loss = loss - (pos_loss + neg_loss) / num_pos\n",
    "print(loss)"
   ]
  }
 ],
 "metadata": {
  "kernelspec": {
   "display_name": "Python 3 (ipykernel)",
   "language": "python",
   "name": "python3"
  },
  "language_info": {
   "codemirror_mode": {
    "name": "ipython",
    "version": 3
   },
   "file_extension": ".py",
   "mimetype": "text/x-python",
   "name": "python",
   "nbconvert_exporter": "python",
   "pygments_lexer": "ipython3",
   "version": "3.7.13"
  }
 },
 "nbformat": 4,
 "nbformat_minor": 5
}
