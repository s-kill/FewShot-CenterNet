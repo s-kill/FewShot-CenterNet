{
 "cells": [
  {
   "cell_type": "markdown",
   "id": "653ee3f5",
   "metadata": {},
   "source": [
    "Printeo del nuevo modelo usado"
   ]
  },
  {
   "cell_type": "code",
   "execution_count": 1,
   "id": "0137c982",
   "metadata": {},
   "outputs": [],
   "source": [
    "from __future__ import absolute_import\n",
    "from __future__ import division\n",
    "from __future__ import print_function\n",
    "\n",
    "import _init_paths\n",
    "\n",
    "import os\n",
    "\n",
    "import torch\n",
    "import torch.utils.data\n",
    "from opts import opts\n",
    "from models.model import create_model, load_model, save_model\n",
    "from models.data_parallel import DataParallel\n",
    "from logger import Logger\n",
    "from datasets.dataset_factory import get_dataset\n",
    "from trains.train_factory import train_factory\n",
    "import cv2\n",
    "import sys\n",
    "%matplotlib inline\n",
    "import matplotlib.pyplot as plt"
   ]
  },
  {
   "cell_type": "code",
   "execution_count": 2,
   "id": "8055aeba",
   "metadata": {},
   "outputs": [
    {
     "name": "stdout",
     "output_type": "stream",
     "text": [
      "Fix size testing.\n",
      "training chunk_sizes: [2]\n",
      "The output will be saved to  C:\\Users\\avata\\FewShot-CenterNet\\src\\lib\\..\\..\\exp\\fewdetv3\\coco_dlav7\n",
      "fewdetv3\n",
      "0\n",
      "2\n"
     ]
    }
   ],
   "source": [
    "sys.argv = ['-f', 'fewdetv3', '--exp_id', 'coco_dlav7','--num_workers', '0','--batch_size','2', '--arch','dlav7_34'] #cmd = 'ctdet --exp_id coco_dla --batch_size 4 --lr 1.25e-4  --gpus 0 --num_workers 0'\n",
    "opt = opts().parse()\n",
    "print(opt.task)\n",
    "print(opt.num_workers)\n",
    "print(opt.batch_size)"
   ]
  },
  {
   "cell_type": "code",
   "execution_count": 3,
   "id": "94a0b2cd",
   "metadata": {},
   "outputs": [],
   "source": [
    "torch.manual_seed(opt.seed)\n",
    "torch.backends.cudnn.benchmark = not opt.not_cuda_benchmark and not opt.test"
   ]
  },
  {
   "cell_type": "code",
   "execution_count": 4,
   "id": "31fb07c6",
   "metadata": {},
   "outputs": [
    {
     "data": {
      "text/plain": [
       "'l1'"
      ]
     },
     "execution_count": 4,
     "metadata": {},
     "output_type": "execute_result"
    }
   ],
   "source": [
    "opt.reg_loss"
   ]
  },
  {
   "cell_type": "code",
   "execution_count": 5,
   "id": "0f1efb5b",
   "metadata": {},
   "outputs": [
    {
     "name": "stdout",
     "output_type": "stream",
     "text": [
      "heads {'ss': 80, 'hm': 1, 'wh': 2, 'reg': 2}\n"
     ]
    }
   ],
   "source": [
    "Dataset = get_dataset(opt.dataset, opt.task)\n",
    "opt = opts().update_dataset_info_and_set_heads(opt, Dataset)\n",
    "logger = Logger(opt)\n",
    "os.environ['CUDA_VISIBLE_DEVICES'] = opt.gpus_str\n",
    "opt.device = torch.device('cuda' if opt.gpus[0] >= 0 else 'cpu')"
   ]
  },
  {
   "cell_type": "code",
   "execution_count": 6,
   "id": "993b1c20",
   "metadata": {},
   "outputs": [],
   "source": [
    "model = create_model(opt.arch, opt.heads, opt.head_conv)\n",
    "optimizer = torch.optim.Adam(model.parameters(), opt.lr)\n",
    "start_epoch = 0\n",
    "if opt.load_model != '':\n",
    "    model, optimizer, start_epoch = load_model(model, opt.load_model, optimizer, opt.resume, opt.lr, opt.lr_step)"
   ]
  },
  {
   "cell_type": "code",
   "execution_count": 7,
   "id": "23a8022f",
   "metadata": {},
   "outputs": [],
   "source": [
    "Trainer = train_factory[opt.task]\n",
    "trainer = Trainer(opt, model, optimizer)\n",
    "trainer.set_device(opt.gpus, opt.chunk_sizes, opt.device)"
   ]
  },
  {
   "cell_type": "code",
   "execution_count": 8,
   "id": "52500c75",
   "metadata": {},
   "outputs": [
    {
     "name": "stdout",
     "output_type": "stream",
     "text": [
      "==> initializing coco 2017 train data.\n",
      "loading annotations into memory...\n",
      "Done (t=15.15s)\n",
      "creating index...\n",
      "index created!\n",
      "Loaded train 118287 samples\n"
     ]
    }
   ],
   "source": [
    "train_loader = torch.utils.data.DataLoader(\n",
    "      Dataset(opt, 'train'), \n",
    "      batch_size=opt.batch_size, \n",
    "      shuffle=True,\n",
    "      num_workers=opt.num_workers,\n",
    "      pin_memory=True,\n",
    "      drop_last=True\n",
    "  )"
   ]
  },
  {
   "cell_type": "code",
   "execution_count": 9,
   "id": "f9bd7661",
   "metadata": {},
   "outputs": [],
   "source": [
    "img = next(iter(train_loader))"
   ]
  },
  {
   "cell_type": "code",
   "execution_count": 10,
   "id": "ef9d4468",
   "metadata": {},
   "outputs": [
    {
     "name": "stdout",
     "output_type": "stream",
     "text": [
      "dict_keys(['input', 'ss', 'hm', 'reg_mask', 'ind', 'wh', 'reg'])\n",
      "torch.Size([2, 3, 512, 512])\n"
     ]
    }
   ],
   "source": [
    "print(img.keys())\n",
    "print(img['input'].size())"
   ]
  },
  {
   "cell_type": "code",
   "execution_count": 11,
   "id": "f7d47315",
   "metadata": {},
   "outputs": [],
   "source": [
    "model.to('cuda')\n",
    "torch.cuda.empty_cache()\n",
    "outputs = model(img['input'].to('cuda'))"
   ]
  },
  {
   "cell_type": "code",
   "execution_count": 12,
   "id": "2a92c66e",
   "metadata": {},
   "outputs": [
    {
     "name": "stdout",
     "output_type": "stream",
     "text": [
      "dict_keys(['fc_ss', 'ss', 'hm', 'wh', 'reg'])\n"
     ]
    }
   ],
   "source": [
    "output = outputs[0]\n",
    "print(output.keys())"
   ]
  },
  {
   "cell_type": "code",
   "execution_count": 13,
   "id": "89a6a833",
   "metadata": {},
   "outputs": [],
   "source": [
    "from models.losses import *\n",
    "from models.utils import _transpose_and_gather_feat"
   ]
  },
  {
   "cell_type": "code",
   "execution_count": 14,
   "id": "984b33b2",
   "metadata": {},
   "outputs": [],
   "source": [
    "batch=img\n",
    "mask = batch['reg_mask']\n",
    "ind = batch['ind']\n",
    "target_wh = batch['wh']\n",
    "target_reg = batch['reg']\n",
    "target_ss = batch['ss']"
   ]
  },
  {
   "cell_type": "code",
   "execution_count": 15,
   "id": "276d125a",
   "metadata": {},
   "outputs": [
    {
     "data": {
      "text/plain": [
       "torch.Size([2, 128, 2])"
      ]
     },
     "execution_count": 15,
     "metadata": {},
     "output_type": "execute_result"
    }
   ],
   "source": [
    "target_wh.size()"
   ]
  },
  {
   "cell_type": "code",
   "execution_count": 18,
   "id": "9e6e8c65",
   "metadata": {},
   "outputs": [
    {
     "data": {
      "text/plain": [
       "torch.Size([2, 128])"
      ]
     },
     "execution_count": 18,
     "metadata": {},
     "output_type": "execute_result"
    }
   ],
   "source": [
    "target_ss.size()"
   ]
  },
  {
   "cell_type": "code",
   "execution_count": 19,
   "id": "c9aa38bc",
   "metadata": {},
   "outputs": [
    {
     "name": "stdout",
     "output_type": "stream",
     "text": [
      "torch.Size([2, 2, 128, 128])\n",
      "torch.Size([2, 128, 2])\n",
      "torch.Size([2, 128])\n",
      "torch.Size([2, 128, 2])\n"
     ]
    }
   ],
   "source": [
    "print(output['wh'].size())\n",
    "pred =_transpose_and_gather_feat(output['wh'].to('cuda'),ind.to('cuda'))\n",
    "print(pred.size())\n",
    "print(mask.size())\n",
    "mask2 = mask.unsqueeze(2).expand_as(pred).float()\n",
    "print(mask2.size())"
   ]
  },
  {
   "cell_type": "code",
   "execution_count": 20,
   "id": "ba25cb96",
   "metadata": {},
   "outputs": [
    {
     "name": "stdout",
     "output_type": "stream",
     "text": [
      "torch.Size([2, 80, 128, 128])\n",
      "torch.Size([2, 128, 80])\n",
      "torch.Size([2, 128])\n",
      "torch.Size([2, 128, 80])\n"
     ]
    }
   ],
   "source": [
    "print(output['ss'].size())\n",
    "pred_ss =_transpose_and_gather_feat(output['ss'].to('cuda'),ind.to('cuda'))\n",
    "print(pred_ss.size())\n",
    "print(mask.size())\n",
    "mask3 = mask.unsqueeze(2).expand_as(pred_ss).float()\n",
    "print(mask3.size())"
   ]
  },
  {
   "cell_type": "code",
   "execution_count": 26,
   "id": "2f82f8e3",
   "metadata": {},
   "outputs": [
    {
     "data": {
      "text/plain": [
       "tensor([33, 62, 15])"
      ]
     },
     "execution_count": 26,
     "metadata": {},
     "output_type": "execute_result"
    }
   ],
   "source": [
    "target_ss[mask.bool()]"
   ]
  },
  {
   "cell_type": "code",
   "execution_count": 36,
   "id": "54963d9a",
   "metadata": {},
   "outputs": [
    {
     "data": {
      "text/plain": [
       "tensor([[0.0126, 0.0089, 0.0007, 0.0082, 0.0046, 0.0070, 0.0228, 0.0116, 0.0320,\n",
       "         0.0285, 0.0031, 0.0230, 0.0361, 0.0120, 0.0047, 0.0089, 0.0011, 0.0016,\n",
       "         0.0106, 0.0062, 0.0118, 0.0309, 0.0055, 0.0017, 0.0083, 0.0035, 0.0025,\n",
       "         0.0005, 0.0425, 0.0030, 0.0011, 0.0066, 0.0215, 0.0141, 0.0808, 0.0622,\n",
       "         0.0040, 0.0080, 0.0235, 0.0093, 0.0113, 0.0077, 0.0014, 0.0432, 0.0036,\n",
       "         0.0024, 0.0053, 0.0025, 0.0053, 0.0036, 0.0072, 0.0095, 0.0303, 0.0056,\n",
       "         0.0055, 0.0100, 0.0107, 0.0692, 0.0028, 0.0031, 0.0021, 0.0017, 0.0082,\n",
       "         0.0043, 0.0202, 0.0102, 0.0013, 0.0027, 0.0175, 0.0172, 0.0328, 0.0026,\n",
       "         0.0063, 0.0088, 0.0025, 0.0049, 0.0107, 0.0045, 0.0121, 0.0032],\n",
       "        [0.0281, 0.0089, 0.0050, 0.0107, 0.0253, 0.0961, 0.0043, 0.0071, 0.0237,\n",
       "         0.0047, 0.0032, 0.0206, 0.0083, 0.0077, 0.0086, 0.0050, 0.0010, 0.0077,\n",
       "         0.0046, 0.0155, 0.0060, 0.0048, 0.0012, 0.0095, 0.0030, 0.0017, 0.0196,\n",
       "         0.0755, 0.0082, 0.0860, 0.0106, 0.0004, 0.0032, 0.0057, 0.0080, 0.0073,\n",
       "         0.0040, 0.0362, 0.0163, 0.0142, 0.0273, 0.0023, 0.0005, 0.0361, 0.0038,\n",
       "         0.0020, 0.0072, 0.0044, 0.0073, 0.0029, 0.0054, 0.0018, 0.0187, 0.0055,\n",
       "         0.0174, 0.0044, 0.0052, 0.0052, 0.0010, 0.0078, 0.0108, 0.0037, 0.0059,\n",
       "         0.0181, 0.0305, 0.0194, 0.0030, 0.0335, 0.0130, 0.0067, 0.0086, 0.0011,\n",
       "         0.0195, 0.0037, 0.0046, 0.0022, 0.0041, 0.0144, 0.0105, 0.0027],\n",
       "        [0.0087, 0.0070, 0.0069, 0.0105, 0.0094, 0.0036, 0.0127, 0.0090, 0.0134,\n",
       "         0.0118, 0.0007, 0.0901, 0.0022, 0.0074, 0.0086, 0.0181, 0.0073, 0.0058,\n",
       "         0.0071, 0.0197, 0.0076, 0.0046, 0.0011, 0.0034, 0.0203, 0.0032, 0.0163,\n",
       "         0.0237, 0.0180, 0.0078, 0.0108, 0.0024, 0.0100, 0.0133, 0.0139, 0.0117,\n",
       "         0.0020, 0.0200, 0.0246, 0.0048, 0.0195, 0.0031, 0.0016, 0.0350, 0.0125,\n",
       "         0.0028, 0.0059, 0.0209, 0.0084, 0.0065, 0.0069, 0.0091, 0.0093, 0.0043,\n",
       "         0.0176, 0.0059, 0.0100, 0.0073, 0.0065, 0.0024, 0.0029, 0.0024, 0.0232,\n",
       "         0.0126, 0.0084, 0.0078, 0.0068, 0.0433, 0.0014, 0.0554, 0.0249, 0.0051,\n",
       "         0.0018, 0.0027, 0.0074, 0.0132, 0.0569, 0.0256, 0.0210, 0.0022]],\n",
       "       device='cuda:0', grad_fn=<IndexBackward>)"
      ]
     },
     "execution_count": 36,
     "metadata": {},
     "output_type": "execute_result"
    }
   ],
   "source": [
    "pred_ss[mask.bool()]"
   ]
  },
  {
   "cell_type": "code",
   "execution_count": 39,
   "id": "138e74e3",
   "metadata": {},
   "outputs": [],
   "source": [
    "import torch.nn as nn"
   ]
  },
  {
   "cell_type": "code",
   "execution_count": 46,
   "id": "81d8aec9",
   "metadata": {},
   "outputs": [
    {
     "data": {
      "text/plain": [
       "tensor(4.3819, device='cuda:0', grad_fn=<NllLossBackward>)"
      ]
     },
     "execution_count": 46,
     "metadata": {},
     "output_type": "execute_result"
    }
   ],
   "source": [
    "nn.CrossEntropyLoss()(pred_ss[mask.bool()].to('cuda'),target_ss[mask.bool()].to('cuda'))"
   ]
  },
  {
   "cell_type": "code",
   "execution_count": 49,
   "id": "add2549f",
   "metadata": {},
   "outputs": [
    {
     "data": {
      "text/plain": [
       "tensor(4.3819, device='cuda:0', grad_fn=<NllLossBackward>)"
      ]
     },
     "execution_count": 49,
     "metadata": {},
     "output_type": "execute_result"
    }
   ],
   "source": [
    "F.cross_entropy(pred_ss[mask.bool()].to('cuda'),target_ss[mask.bool()].to('cuda'))"
   ]
  },
  {
   "cell_type": "markdown",
   "id": "1d0e87c1",
   "metadata": {},
   "source": [
    "# Respecto a la deteccion"
   ]
  },
  {
   "cell_type": "code",
   "execution_count": null,
   "id": "82b57f7f",
   "metadata": {},
   "outputs": [],
   "source": [
    "print()"
   ]
  }
 ],
 "metadata": {
  "kernelspec": {
   "display_name": "Python 3 (ipykernel)",
   "language": "python",
   "name": "python3"
  },
  "language_info": {
   "codemirror_mode": {
    "name": "ipython",
    "version": 3
   },
   "file_extension": ".py",
   "mimetype": "text/x-python",
   "name": "python",
   "nbconvert_exporter": "python",
   "pygments_lexer": "ipython3",
   "version": "3.7.13"
  }
 },
 "nbformat": 4,
 "nbformat_minor": 5
}
