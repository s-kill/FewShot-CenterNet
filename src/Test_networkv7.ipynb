{
 "cells": [
  {
   "cell_type": "markdown",
   "id": "653ee3f5",
   "metadata": {},
   "source": [
    "Printeo del nuevo modelo usado"
   ]
  },
  {
   "cell_type": "code",
   "execution_count": 1,
   "id": "0137c982",
   "metadata": {},
   "outputs": [],
   "source": [
    "from __future__ import absolute_import\n",
    "from __future__ import division\n",
    "from __future__ import print_function\n",
    "\n",
    "import _init_paths\n",
    "\n",
    "import os\n",
    "\n",
    "import torch\n",
    "import torch.utils.data\n",
    "from opts import opts\n",
    "from models.model import create_model, load_model, save_model\n",
    "from models.data_parallel import DataParallel\n",
    "from logger import Logger\n",
    "from datasets.dataset_factory import get_dataset\n",
    "from trains.train_factory import train_factory\n",
    "import cv2\n",
    "import sys\n",
    "%matplotlib inline\n",
    "import matplotlib.pyplot as plt"
   ]
  },
  {
   "cell_type": "code",
   "execution_count": 2,
   "id": "8055aeba",
   "metadata": {},
   "outputs": [
    {
     "name": "stdout",
     "output_type": "stream",
     "text": [
      "Fix size testing.\n",
      "training chunk_sizes: [2]\n",
      "The output will be saved to  C:\\Users\\avata\\FewShot-CenterNet\\src\\lib\\..\\..\\exp\\fewdetv3\\coco_dlav7\n",
      "fewdetv3\n",
      "0\n",
      "2\n"
     ]
    }
   ],
   "source": [
    "sys.argv = ['-f', 'fewdetv3', '--exp_id', 'coco_dlav7','--num_workers', '0','--batch_size','2', '--arch','dlav7_34'] #cmd = 'ctdet --exp_id coco_dla --batch_size 4 --lr 1.25e-4  --gpus 0 --num_workers 0'\n",
    "opt = opts().parse()\n",
    "print(opt.task)\n",
    "print(opt.num_workers)\n",
    "print(opt.batch_size)"
   ]
  },
  {
   "cell_type": "code",
   "execution_count": 3,
   "id": "94a0b2cd",
   "metadata": {},
   "outputs": [],
   "source": [
    "torch.manual_seed(opt.seed)\n",
    "torch.backends.cudnn.benchmark = not opt.not_cuda_benchmark and not opt.test"
   ]
  },
  {
   "cell_type": "code",
   "execution_count": 4,
   "id": "31fb07c6",
   "metadata": {},
   "outputs": [
    {
     "data": {
      "text/plain": [
       "'l1'"
      ]
     },
     "execution_count": 4,
     "metadata": {},
     "output_type": "execute_result"
    }
   ],
   "source": [
    "opt.reg_loss"
   ]
  },
  {
   "cell_type": "code",
   "execution_count": 5,
   "id": "0f1efb5b",
   "metadata": {},
   "outputs": [
    {
     "name": "stdout",
     "output_type": "stream",
     "text": [
      "heads {'ss': 80, 'hm': 1, 'wh': 2, 'reg': 2}\n"
     ]
    }
   ],
   "source": [
    "Dataset = get_dataset(opt.dataset, opt.task)\n",
    "opt = opts().update_dataset_info_and_set_heads(opt, Dataset)\n",
    "logger = Logger(opt)\n",
    "os.environ['CUDA_VISIBLE_DEVICES'] = opt.gpus_str\n",
    "opt.device = torch.device('cuda' if opt.gpus[0] >= 0 else 'cpu')"
   ]
  },
  {
   "cell_type": "code",
   "execution_count": 6,
   "id": "993b1c20",
   "metadata": {},
   "outputs": [],
   "source": [
    "model = create_model(opt.arch, opt.heads, opt.head_conv)\n",
    "optimizer = torch.optim.Adam(model.parameters(), opt.lr)\n",
    "start_epoch = 0\n",
    "if opt.load_model != '':\n",
    "    model, optimizer, start_epoch = load_model(model, opt.load_model, optimizer, opt.resume, opt.lr, opt.lr_step)"
   ]
  },
  {
   "cell_type": "code",
   "execution_count": 7,
   "id": "23a8022f",
   "metadata": {},
   "outputs": [],
   "source": [
    "Trainer = train_factory[opt.task]\n",
    "trainer = Trainer(opt, model, optimizer)\n",
    "trainer.set_device(opt.gpus, opt.chunk_sizes, opt.device)"
   ]
  },
  {
   "cell_type": "code",
   "execution_count": 8,
   "id": "52500c75",
   "metadata": {},
   "outputs": [
    {
     "name": "stdout",
     "output_type": "stream",
     "text": [
      "==> initializing coco 2017 train data.\n",
      "loading annotations into memory...\n",
      "Done (t=14.18s)\n",
      "creating index...\n",
      "index created!\n",
      "Loaded train 118287 samples\n"
     ]
    }
   ],
   "source": [
    "train_loader = torch.utils.data.DataLoader(\n",
    "      Dataset(opt, 'train'), \n",
    "      batch_size=opt.batch_size, \n",
    "      shuffle=True,\n",
    "      num_workers=opt.num_workers,\n",
    "      pin_memory=True,\n",
    "      drop_last=True\n",
    "  )"
   ]
  },
  {
   "cell_type": "code",
   "execution_count": 9,
   "id": "f9bd7661",
   "metadata": {},
   "outputs": [],
   "source": [
    "img = next(iter(train_loader))"
   ]
  },
  {
   "cell_type": "code",
   "execution_count": 10,
   "id": "ef9d4468",
   "metadata": {},
   "outputs": [
    {
     "name": "stdout",
     "output_type": "stream",
     "text": [
      "dict_keys(['input', 'ss', 'hm', 'reg_mask', 'ind', 'wh', 'reg'])\n",
      "torch.Size([2, 3, 512, 512])\n"
     ]
    }
   ],
   "source": [
    "print(img.keys())\n",
    "print(img['input'].size())"
   ]
  },
  {
   "cell_type": "code",
   "execution_count": 11,
   "id": "f7d47315",
   "metadata": {},
   "outputs": [],
   "source": [
    "model.to('cuda')\n",
    "torch.cuda.empty_cache()\n",
    "outputs = model(img['input'].to('cuda'))"
   ]
  },
  {
   "cell_type": "code",
   "execution_count": 12,
   "id": "2a92c66e",
   "metadata": {},
   "outputs": [
    {
     "name": "stdout",
     "output_type": "stream",
     "text": [
      "dict_keys(['fc_ss', 'ss', 'hm', 'wh', 'reg'])\n"
     ]
    }
   ],
   "source": [
    "output = outputs[0]\n",
    "print(output.keys())"
   ]
  },
  {
   "cell_type": "code",
   "execution_count": 18,
   "id": "2cc3b313",
   "metadata": {},
   "outputs": [
    {
     "data": {
      "text/plain": [
       "tensor(1.0000, device='cuda:0', grad_fn=<AddBackward0>)"
      ]
     },
     "execution_count": 18,
     "metadata": {},
     "output_type": "execute_result"
    }
   ],
   "source": [
    "sum((output['ss'].softmax(dim=1))[0,:,0,0])"
   ]
  },
  {
   "cell_type": "code",
   "execution_count": 13,
   "id": "89a6a833",
   "metadata": {},
   "outputs": [],
   "source": [
    "from models.losses import *\n",
    "from models.utils import _transpose_and_gather_feat"
   ]
  },
  {
   "cell_type": "code",
   "execution_count": 14,
   "id": "984b33b2",
   "metadata": {},
   "outputs": [],
   "source": [
    "batch=img\n",
    "mask = batch['reg_mask']\n",
    "ind = batch['ind']\n",
    "target_wh = batch['wh']\n",
    "target_reg = batch['reg']\n",
    "target_ss = batch['ss']"
   ]
  },
  {
   "cell_type": "code",
   "execution_count": 15,
   "id": "276d125a",
   "metadata": {},
   "outputs": [
    {
     "data": {
      "text/plain": [
       "torch.Size([2, 128, 2])"
      ]
     },
     "execution_count": 15,
     "metadata": {},
     "output_type": "execute_result"
    }
   ],
   "source": [
    "target_wh.size()"
   ]
  },
  {
   "cell_type": "code",
   "execution_count": 16,
   "id": "9e6e8c65",
   "metadata": {},
   "outputs": [
    {
     "data": {
      "text/plain": [
       "torch.Size([2, 128])"
      ]
     },
     "execution_count": 16,
     "metadata": {},
     "output_type": "execute_result"
    }
   ],
   "source": [
    "target_ss.size()"
   ]
  },
  {
   "cell_type": "code",
   "execution_count": 17,
   "id": "c9aa38bc",
   "metadata": {},
   "outputs": [
    {
     "name": "stdout",
     "output_type": "stream",
     "text": [
      "torch.Size([2, 2, 128, 128])\n",
      "torch.Size([2, 128, 2])\n",
      "torch.Size([2, 128])\n",
      "torch.Size([2, 128, 2])\n"
     ]
    }
   ],
   "source": [
    "print(output['wh'].size())\n",
    "pred =_transpose_and_gather_feat(output['wh'].to('cuda'),ind.to('cuda'))\n",
    "print(pred.size())\n",
    "print(mask.size())\n",
    "mask2 = mask.unsqueeze(2).expand_as(pred).float()\n",
    "print(mask2.size())"
   ]
  },
  {
   "cell_type": "code",
   "execution_count": 18,
   "id": "ba25cb96",
   "metadata": {},
   "outputs": [
    {
     "name": "stdout",
     "output_type": "stream",
     "text": [
      "torch.Size([2, 80, 128, 128])\n",
      "torch.Size([2, 128, 80])\n",
      "torch.Size([2, 128])\n",
      "torch.Size([2, 128, 80])\n"
     ]
    }
   ],
   "source": [
    "print(output['ss'].size())\n",
    "pred_ss =_transpose_and_gather_feat(output['ss'].to('cuda'),ind.to('cuda'))\n",
    "print(pred_ss.size())\n",
    "print(mask.size())\n",
    "mask3 = mask.unsqueeze(2).expand_as(pred_ss).float()\n",
    "print(mask3.size())"
   ]
  },
  {
   "cell_type": "code",
   "execution_count": 19,
   "id": "5b9bac45",
   "metadata": {},
   "outputs": [
    {
     "data": {
      "text/plain": [
       "tensor([[ 0, 33,  0,  0,  0,  0,  0,  0,  0,  0,  0,  0,  0,  0,  0,  0,  0,  0,\n",
       "          0,  0,  0,  0,  0,  0,  0,  0,  0,  0,  0,  0,  0,  0,  0,  0,  0,  0,\n",
       "          0,  0,  0,  0,  0,  0,  0,  0,  0,  0,  0,  0,  0,  0,  0,  0,  0,  0,\n",
       "          0,  0,  0,  0,  0,  0,  0,  0,  0,  0,  0,  0,  0,  0,  0,  0,  0,  0,\n",
       "          0,  0,  0,  0,  0,  0,  0,  0,  0,  0,  0,  0,  0,  0,  0,  0,  0,  0,\n",
       "          0,  0,  0,  0,  0,  0,  0,  0,  0,  0,  0,  0,  0,  0,  0,  0,  0,  0,\n",
       "          0,  0,  0,  0,  0,  0,  0,  0,  0,  0,  0,  0,  0,  0,  0,  0,  0,  0,\n",
       "          0,  0],\n",
       "        [62, 15,  0,  0,  0,  0,  0,  0,  0,  0,  0,  0,  0,  0,  0,  0,  0,  0,\n",
       "          0,  0,  0,  0,  0,  0,  0,  0,  0,  0,  0,  0,  0,  0,  0,  0,  0,  0,\n",
       "          0,  0,  0,  0,  0,  0,  0,  0,  0,  0,  0,  0,  0,  0,  0,  0,  0,  0,\n",
       "          0,  0,  0,  0,  0,  0,  0,  0,  0,  0,  0,  0,  0,  0,  0,  0,  0,  0,\n",
       "          0,  0,  0,  0,  0,  0,  0,  0,  0,  0,  0,  0,  0,  0,  0,  0,  0,  0,\n",
       "          0,  0,  0,  0,  0,  0,  0,  0,  0,  0,  0,  0,  0,  0,  0,  0,  0,  0,\n",
       "          0,  0,  0,  0,  0,  0,  0,  0,  0,  0,  0,  0,  0,  0,  0,  0,  0,  0,\n",
       "          0,  0]])"
      ]
     },
     "execution_count": 19,
     "metadata": {},
     "output_type": "execute_result"
    }
   ],
   "source": [
    "target_ss"
   ]
  },
  {
   "cell_type": "code",
   "execution_count": 20,
   "id": "2f82f8e3",
   "metadata": {},
   "outputs": [
    {
     "data": {
      "text/plain": [
       "tensor([ 0, 33,  0, 62, 15])"
      ]
     },
     "execution_count": 20,
     "metadata": {},
     "output_type": "execute_result"
    }
   ],
   "source": [
    "target_ss[mask.bool()]"
   ]
  },
  {
   "cell_type": "code",
   "execution_count": 21,
   "id": "54963d9a",
   "metadata": {},
   "outputs": [
    {
     "data": {
      "text/plain": [
       "tensor([[0.0525, 0.0044, 0.0217, 0.0047, 0.0152, 0.0132, 0.0239, 0.0258, 0.0214,\n",
       "         0.0101, 0.0091, 0.0137, 0.0061, 0.0016, 0.0100, 0.0029, 0.0089, 0.0025,\n",
       "         0.0042, 0.0439, 0.0061, 0.0022, 0.0006, 0.0046, 0.0367, 0.0077, 0.0040,\n",
       "         0.0028, 0.0048, 0.0833, 0.0083, 0.0033, 0.0167, 0.0018, 0.0058, 0.0013,\n",
       "         0.0044, 0.0137, 0.0105, 0.0066, 0.0223, 0.0039, 0.0031, 0.0546, 0.0099,\n",
       "         0.0050, 0.0125, 0.0248, 0.0087, 0.0038, 0.0062, 0.0022, 0.0043, 0.0016,\n",
       "         0.0053, 0.0036, 0.0023, 0.0057, 0.0022, 0.0065, 0.0046, 0.0010, 0.0058,\n",
       "         0.0238, 0.0071, 0.0264, 0.0044, 0.0128, 0.0045, 0.0094, 0.0053, 0.0024,\n",
       "         0.0080, 0.0286, 0.0148, 0.0022, 0.0211, 0.0033, 0.0959, 0.0089],\n",
       "        [0.0027, 0.0137, 0.0037, 0.0198, 0.0051, 0.0225, 0.0245, 0.0102, 0.0236,\n",
       "         0.0098, 0.0430, 0.0623, 0.0180, 0.0021, 0.0057, 0.0009, 0.0037, 0.0057,\n",
       "         0.0121, 0.0216, 0.0159, 0.0026, 0.0038, 0.0005, 0.0319, 0.0093, 0.0073,\n",
       "         0.0020, 0.0497, 0.0076, 0.0063, 0.0024, 0.0123, 0.0226, 0.0103, 0.0068,\n",
       "         0.0004, 0.0943, 0.0068, 0.0019, 0.0102, 0.0254, 0.0031, 0.0093, 0.0055,\n",
       "         0.0195, 0.0092, 0.0022, 0.0065, 0.0191, 0.0089, 0.0124, 0.0049, 0.0055,\n",
       "         0.0170, 0.0004, 0.0102, 0.0285, 0.0076, 0.0021, 0.0017, 0.0064, 0.0261,\n",
       "         0.0209, 0.0062, 0.0113, 0.0044, 0.0046, 0.0033, 0.0147, 0.0062, 0.0036,\n",
       "         0.0011, 0.0277, 0.0021, 0.0014, 0.0294, 0.0063, 0.0091, 0.0009],\n",
       "        [0.0764, 0.0152, 0.0017, 0.0165, 0.0022, 0.0972, 0.0351, 0.0110, 0.0300,\n",
       "         0.0062, 0.0045, 0.0140, 0.0070, 0.0051, 0.0272, 0.0028, 0.0011, 0.0017,\n",
       "         0.0063, 0.0199, 0.0057, 0.0051, 0.0014, 0.0010, 0.0036, 0.0042, 0.0212,\n",
       "         0.0137, 0.0094, 0.0420, 0.0045, 0.0019, 0.0018, 0.0061, 0.0065, 0.0034,\n",
       "         0.0024, 0.0147, 0.0237, 0.0129, 0.0125, 0.0111, 0.0009, 0.0304, 0.0036,\n",
       "         0.0273, 0.0015, 0.0045, 0.0124, 0.0096, 0.0100, 0.0019, 0.0143, 0.0049,\n",
       "         0.0209, 0.0121, 0.0053, 0.0034, 0.0010, 0.0026, 0.0056, 0.0041, 0.0033,\n",
       "         0.0118, 0.0035, 0.0432, 0.0054, 0.0184, 0.0019, 0.0091, 0.0055, 0.0018,\n",
       "         0.0258, 0.0425, 0.0097, 0.0057, 0.0226, 0.0059, 0.0125, 0.0049],\n",
       "        [0.0091, 0.0075, 0.0029, 0.0231, 0.0102, 0.0497, 0.0101, 0.0141, 0.0118,\n",
       "         0.0065, 0.0988, 0.0336, 0.0098, 0.0005, 0.0128, 0.0011, 0.0038, 0.0017,\n",
       "         0.0033, 0.0212, 0.0072, 0.0135, 0.0071, 0.0008, 0.0103, 0.0022, 0.0519,\n",
       "         0.0022, 0.0584, 0.0170, 0.0040, 0.0002, 0.0059, 0.0105, 0.0020, 0.0088,\n",
       "         0.0006, 0.0552, 0.0042, 0.0037, 0.0051, 0.0076, 0.0101, 0.0498, 0.0015,\n",
       "         0.0035, 0.0023, 0.0021, 0.0039, 0.0037, 0.0211, 0.0042, 0.0049, 0.0040,\n",
       "         0.0082, 0.0018, 0.0162, 0.0092, 0.0223, 0.0021, 0.0038, 0.0125, 0.0023,\n",
       "         0.0134, 0.0213, 0.0095, 0.0191, 0.0035, 0.0223, 0.0109, 0.0110, 0.0056,\n",
       "         0.0175, 0.0144, 0.0030, 0.0126, 0.0131, 0.0167, 0.0019, 0.0046],\n",
       "        [0.0733, 0.0222, 0.0050, 0.0109, 0.0065, 0.0240, 0.0089, 0.0239, 0.0318,\n",
       "         0.0128, 0.0055, 0.0256, 0.0095, 0.0065, 0.0015, 0.0021, 0.0027, 0.0162,\n",
       "         0.0070, 0.0245, 0.0057, 0.0062, 0.0032, 0.0007, 0.0226, 0.0027, 0.0070,\n",
       "         0.0029, 0.0115, 0.0343, 0.0049, 0.0022, 0.0164, 0.0024, 0.0202, 0.0033,\n",
       "         0.0059, 0.0184, 0.0285, 0.0016, 0.0350, 0.0065, 0.0012, 0.0175, 0.0030,\n",
       "         0.0033, 0.0071, 0.0180, 0.0035, 0.0070, 0.0321, 0.0058, 0.0152, 0.0008,\n",
       "         0.0416, 0.0010, 0.0043, 0.0044, 0.0055, 0.0083, 0.0051, 0.0081, 0.0079,\n",
       "         0.0198, 0.0028, 0.0695, 0.0130, 0.0270, 0.0042, 0.0125, 0.0101, 0.0023,\n",
       "         0.0083, 0.0104, 0.0044, 0.0016, 0.0159, 0.0015, 0.0256, 0.0078]],\n",
       "       device='cuda:0', grad_fn=<IndexBackward>)"
      ]
     },
     "execution_count": 21,
     "metadata": {},
     "output_type": "execute_result"
    }
   ],
   "source": [
    "pred_ss[mask.bool()]"
   ]
  },
  {
   "cell_type": "code",
   "execution_count": 22,
   "id": "138e74e3",
   "metadata": {},
   "outputs": [],
   "source": [
    "import torch.nn as nn"
   ]
  },
  {
   "cell_type": "code",
   "execution_count": 23,
   "id": "81d8aec9",
   "metadata": {},
   "outputs": [
    {
     "data": {
      "text/plain": [
       "tensor(4.3635, device='cuda:0', grad_fn=<NllLossBackward>)"
      ]
     },
     "execution_count": 23,
     "metadata": {},
     "output_type": "execute_result"
    }
   ],
   "source": [
    "nn.CrossEntropyLoss()(pred_ss[mask.bool()].to('cuda'),target_ss[mask.bool()].to('cuda'))"
   ]
  },
  {
   "cell_type": "code",
   "execution_count": 24,
   "id": "add2549f",
   "metadata": {},
   "outputs": [
    {
     "data": {
      "text/plain": [
       "tensor(4.3635, device='cuda:0', grad_fn=<NllLossBackward>)"
      ]
     },
     "execution_count": 24,
     "metadata": {},
     "output_type": "execute_result"
    }
   ],
   "source": [
    "F.cross_entropy(pred_ss[mask.bool()].to('cuda'),target_ss[mask.bool()].to('cuda'))"
   ]
  },
  {
   "cell_type": "code",
   "execution_count": 25,
   "id": "c8815ed1",
   "metadata": {},
   "outputs": [
    {
     "data": {
      "text/plain": [
       "torch.Size([2, 1, 128, 128])"
      ]
     },
     "execution_count": 25,
     "metadata": {},
     "output_type": "execute_result"
    }
   ],
   "source": [
    "output['hm'].size()"
   ]
  },
  {
   "cell_type": "code",
   "execution_count": 26,
   "id": "af00796d",
   "metadata": {},
   "outputs": [
    {
     "data": {
      "text/plain": [
       "torch.Size([2, 128, 128])"
      ]
     },
     "execution_count": 26,
     "metadata": {},
     "output_type": "execute_result"
    }
   ],
   "source": [
    "batch['hm'].size()"
   ]
  },
  {
   "cell_type": "code",
   "execution_count": 27,
   "id": "5a39b73f",
   "metadata": {},
   "outputs": [
    {
     "name": "stdout",
     "output_type": "stream",
     "text": [
      "torch.Size([2, 128, 128])\n",
      "torch.Size([2, 128, 128])\n"
     ]
    }
   ],
   "source": [
    "gt = batch['hm']\n",
    "pred = torch.nn.Sigmoid()(output['hm'].squeeze(1))\n",
    "print(gt.size())\n",
    "print(pred.size())"
   ]
  },
  {
   "cell_type": "code",
   "execution_count": 28,
   "id": "341b5e6b",
   "metadata": {},
   "outputs": [
    {
     "data": {
      "text/plain": [
       "torch.Size([2, 128, 128])"
      ]
     },
     "execution_count": 28,
     "metadata": {},
     "output_type": "execute_result"
    }
   ],
   "source": [
    "pred.squeeze(1).size()"
   ]
  },
  {
   "cell_type": "code",
   "execution_count": 33,
   "id": "0266dd18",
   "metadata": {},
   "outputs": [],
   "source": [
    "def _slow_neg_loss(pred, gt):\n",
    "  '''focal loss from CornerNet'''\n",
    "  pos_inds = gt.eq(1)\n",
    "  neg_inds = gt.lt(1)\n",
    "\n",
    "  neg_weights = torch.pow(1 - gt[neg_inds], 4)\n",
    "\n",
    "  loss = 0\n",
    "  pos_pred = pred[pos_inds]\n",
    "  neg_pred = pred[neg_inds]\n",
    "\n",
    "  pos_loss = torch.log(pos_pred) * torch.pow(1 - pos_pred, 2)\n",
    "  neg_loss = torch.log(1 - neg_pred) * torch.pow(neg_pred, 2) * neg_weights\n",
    "\n",
    "  num_pos  = pos_inds.float().sum()\n",
    "  pos_loss = pos_loss.sum()\n",
    "  neg_loss = neg_loss.sum()\n",
    "\n",
    "  if pos_pred.nelement() == 0:\n",
    "    loss = loss - neg_loss\n",
    "  else:\n",
    "    loss = loss - (pos_loss + neg_loss) / num_pos\n",
    "  return loss"
   ]
  },
  {
   "cell_type": "code",
   "execution_count": 46,
   "id": "85b88d69",
   "metadata": {},
   "outputs": [
    {
     "data": {
      "text/plain": [
       "tensor(9.2038, device='cuda:0', grad_fn=<RsubBackward1>)"
      ]
     },
     "execution_count": 46,
     "metadata": {},
     "output_type": "execute_result"
    }
   ],
   "source": [
    "_slow_neg_loss(pred.to('cuda'),gt.to('cuda'))"
   ]
  },
  {
   "cell_type": "markdown",
   "id": "1d0e87c1",
   "metadata": {},
   "source": [
    "# Respecto a la deteccion"
   ]
  },
  {
   "cell_type": "code",
   "execution_count": 28,
   "id": "1ea4a986",
   "metadata": {},
   "outputs": [],
   "source": [
    "pred = torch.nn.Sigmoid()(output['hm'].squeeze(1))\n",
    "batch=img\n",
    "mask = batch['reg_mask']\n",
    "ind = batch['ind']\n",
    "target_wh = batch['wh']\n",
    "target_reg = batch['reg']\n",
    "target_ss = batch['ss']\n",
    "target_hm = batch['hm']"
   ]
  },
  {
   "cell_type": "code",
   "execution_count": 29,
   "id": "4bc0bf08",
   "metadata": {},
   "outputs": [],
   "source": [
    "from models.fewdecode import fewdet_decode\n",
    "from models.fewdecode import _nms"
   ]
  },
  {
   "cell_type": "code",
   "execution_count": 30,
   "id": "262022d2",
   "metadata": {},
   "outputs": [
    {
     "name": "stdout",
     "output_type": "stream",
     "text": [
      "torch.Size([2, 80, 128, 128])\n"
     ]
    }
   ],
   "source": [
    "batch, cat, height, width = output['ss'].size() \n",
    "print(output['ss'].size())"
   ]
  },
  {
   "cell_type": "code",
   "execution_count": 31,
   "id": "83dba373",
   "metadata": {},
   "outputs": [
    {
     "name": "stdout",
     "output_type": "stream",
     "text": [
      "torch.Size([2, 128, 128])\n"
     ]
    }
   ],
   "source": [
    "target_nms=_nms(target_hm)\n",
    "print(target_nms.size())"
   ]
  },
  {
   "cell_type": "code",
   "execution_count": 38,
   "id": "a0afdecb",
   "metadata": {},
   "outputs": [
    {
     "name": "stdout",
     "output_type": "stream",
     "text": [
      "torch.Size([2, 16384])\n",
      "torch.Size([2, 100]) torch.Size([2, 100])\n"
     ]
    }
   ],
   "source": [
    "target_2d=target_nms.view(batch, -1)\n",
    "print(target_2d.size())\n",
    "mask_hm, topk_inds = torch.topk(target_2d.view(batch, -1), 100)\n",
    "print(mask_hm.size(), topk_inds.size())"
   ]
  },
  {
   "cell_type": "code",
   "execution_count": 39,
   "id": "90d8bf0d",
   "metadata": {},
   "outputs": [],
   "source": [
    "topk_inds = topk_inds % (128*128)"
   ]
  },
  {
   "cell_type": "code",
   "execution_count": 44,
   "id": "230235c2",
   "metadata": {},
   "outputs": [],
   "source": [
    "topk_ys   = (topk_inds / width).int().float()\n",
    "topk_xs   = (topk_inds % width).int().float()"
   ]
  },
  {
   "cell_type": "code",
   "execution_count": 47,
   "id": "bbf0caae",
   "metadata": {},
   "outputs": [],
   "source": [
    "pred = _transpose_and_gather_feat(output['ss'], topk_inds.to('cuda')) "
   ]
  },
  {
   "cell_type": "code",
   "execution_count": 56,
   "id": "e6c29c8a",
   "metadata": {},
   "outputs": [],
   "source": [
    "topk_score, topk_clses = torch.max(pred,dim=-1) \n",
    "topk_score, topk_clses = topk_score*mask_hm.to('cuda'),topk_clses*mask_hm.to('cuda')"
   ]
  },
  {
   "cell_type": "code",
   "execution_count": 58,
   "id": "32bd8d95",
   "metadata": {},
   "outputs": [
    {
     "data": {
      "text/plain": [
       "tensor([[ 5., 78., 37.,  0.,  0.,  0.,  0.,  0.,  0.,  0.,  0.,  0.,  0.,  0.,\n",
       "          0.,  0.,  0.,  0.,  0.,  0.,  0.,  0.,  0.,  0.,  0.,  0.,  0.,  0.,\n",
       "          0.,  0.,  0.,  0.,  0.,  0.,  0.,  0.,  0.,  0.,  0.,  0.,  0.,  0.,\n",
       "          0.,  0.,  0.,  0.,  0.,  0.,  0.,  0.,  0.,  0.,  0.,  0.,  0.,  0.,\n",
       "          0.,  0.,  0.,  0.,  0.,  0.,  0.,  0.,  0.,  0.,  0.,  0.,  0.,  0.,\n",
       "          0.,  0.,  0.,  0.,  0.,  0.,  0.,  0.,  0.,  0.,  0.,  0.,  0.,  0.,\n",
       "          0.,  0.,  0.,  0.,  0.,  0.,  0.,  0.,  0.,  0.,  0.,  0.,  0.,  0.,\n",
       "          0.,  0.],\n",
       "        [10.,  0.,  0.,  0.,  0.,  0.,  0.,  0.,  0.,  0.,  0.,  0.,  0.,  0.,\n",
       "          0.,  0.,  0.,  0.,  0.,  0.,  0.,  0.,  0.,  0.,  0.,  0.,  0.,  0.,\n",
       "          0.,  0.,  0.,  0.,  0.,  0.,  0.,  0.,  0.,  0.,  0.,  0.,  0.,  0.,\n",
       "          0.,  0.,  0.,  0.,  0.,  0.,  0.,  0.,  0.,  0.,  0.,  0.,  0.,  0.,\n",
       "          0.,  0.,  0.,  0.,  0.,  0.,  0.,  0.,  0.,  0.,  0.,  0.,  0.,  0.,\n",
       "          0.,  0.,  0.,  0.,  0.,  0.,  0.,  0.,  0.,  0.,  0.,  0.,  0.,  0.,\n",
       "          0.,  0.,  0.,  0.,  0.,  0.,  0.,  0.,  0.,  0.,  0.,  0.,  0.,  0.,\n",
       "          0.,  0.]], device='cuda:0')"
      ]
     },
     "execution_count": 58,
     "metadata": {},
     "output_type": "execute_result"
    }
   ],
   "source": [
    "topk_clses"
   ]
  },
  {
   "cell_type": "code",
   "execution_count": 57,
   "id": "bf5c74f3",
   "metadata": {},
   "outputs": [
    {
     "data": {
      "text/plain": [
       "tensor([[0.0972, 0.0959, 0.0943, 0.0000, 0.0000, 0.0000, 0.0000, 0.0000, 0.0000,\n",
       "         0.0000, 0.0000, 0.0000, 0.0000, 0.0000, 0.0000, 0.0000, 0.0000, 0.0000,\n",
       "         0.0000, 0.0000, 0.0000, 0.0000, 0.0000, 0.0000, 0.0000, 0.0000, 0.0000,\n",
       "         0.0000, 0.0000, 0.0000, 0.0000, 0.0000, 0.0000, 0.0000, 0.0000, 0.0000,\n",
       "         0.0000, 0.0000, 0.0000, 0.0000, 0.0000, 0.0000, 0.0000, 0.0000, 0.0000,\n",
       "         0.0000, 0.0000, 0.0000, 0.0000, 0.0000, 0.0000, 0.0000, 0.0000, 0.0000,\n",
       "         0.0000, 0.0000, 0.0000, 0.0000, 0.0000, 0.0000, 0.0000, 0.0000, 0.0000,\n",
       "         0.0000, 0.0000, 0.0000, 0.0000, 0.0000, 0.0000, 0.0000, 0.0000, 0.0000,\n",
       "         0.0000, 0.0000, 0.0000, 0.0000, 0.0000, 0.0000, 0.0000, 0.0000, 0.0000,\n",
       "         0.0000, 0.0000, 0.0000, 0.0000, 0.0000, 0.0000, 0.0000, 0.0000, 0.0000,\n",
       "         0.0000, 0.0000, 0.0000, 0.0000, 0.0000, 0.0000, 0.0000, 0.0000, 0.0000,\n",
       "         0.0000],\n",
       "        [0.0988, 0.0733, 0.0000, 0.0000, 0.0000, 0.0000, 0.0000, 0.0000, 0.0000,\n",
       "         0.0000, 0.0000, 0.0000, 0.0000, 0.0000, 0.0000, 0.0000, 0.0000, 0.0000,\n",
       "         0.0000, 0.0000, 0.0000, 0.0000, 0.0000, 0.0000, 0.0000, 0.0000, 0.0000,\n",
       "         0.0000, 0.0000, 0.0000, 0.0000, 0.0000, 0.0000, 0.0000, 0.0000, 0.0000,\n",
       "         0.0000, 0.0000, 0.0000, 0.0000, 0.0000, 0.0000, 0.0000, 0.0000, 0.0000,\n",
       "         0.0000, 0.0000, 0.0000, 0.0000, 0.0000, 0.0000, 0.0000, 0.0000, 0.0000,\n",
       "         0.0000, 0.0000, 0.0000, 0.0000, 0.0000, 0.0000, 0.0000, 0.0000, 0.0000,\n",
       "         0.0000, 0.0000, 0.0000, 0.0000, 0.0000, 0.0000, 0.0000, 0.0000, 0.0000,\n",
       "         0.0000, 0.0000, 0.0000, 0.0000, 0.0000, 0.0000, 0.0000, 0.0000, 0.0000,\n",
       "         0.0000, 0.0000, 0.0000, 0.0000, 0.0000, 0.0000, 0.0000, 0.0000, 0.0000,\n",
       "         0.0000, 0.0000, 0.0000, 0.0000, 0.0000, 0.0000, 0.0000, 0.0000, 0.0000,\n",
       "         0.0000]], device='cuda:0', grad_fn=<MulBackward0>)"
      ]
     },
     "execution_count": 57,
     "metadata": {},
     "output_type": "execute_result"
    }
   ],
   "source": [
    "topk_score"
   ]
  }
 ],
 "metadata": {
  "kernelspec": {
   "display_name": "Python 3 (ipykernel)",
   "language": "python",
   "name": "python3"
  },
  "language_info": {
   "codemirror_mode": {
    "name": "ipython",
    "version": 3
   },
   "file_extension": ".py",
   "mimetype": "text/x-python",
   "name": "python",
   "nbconvert_exporter": "python",
   "pygments_lexer": "ipython3",
   "version": "3.7.13"
  }
 },
 "nbformat": 4,
 "nbformat_minor": 5
}
