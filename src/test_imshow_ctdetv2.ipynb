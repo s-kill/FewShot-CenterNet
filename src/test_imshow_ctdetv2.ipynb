{
 "cells": [
  {
   "cell_type": "markdown",
   "id": "653ee3f5",
   "metadata": {},
   "source": [
    "Printeo de imagen y los heatmap creados por centernet original (dataset/sample/ctdet.py)"
   ]
  },
  {
   "cell_type": "code",
   "execution_count": 1,
   "id": "0137c982",
   "metadata": {},
   "outputs": [],
   "source": [
    "from __future__ import absolute_import\n",
    "from __future__ import division\n",
    "from __future__ import print_function\n",
    "\n",
    "import _init_paths\n",
    "\n",
    "import os\n",
    "\n",
    "import torch\n",
    "import torch.utils.data\n",
    "from opts import opts\n",
    "from models.model import create_model, load_model, save_model\n",
    "from models.data_parallel import DataParallel\n",
    "from logger import Logger\n",
    "from datasets.dataset_factory import get_dataset\n",
    "from trains.train_factory import train_factory\n",
    "import cv2\n",
    "import sys\n",
    "%matplotlib inline\n",
    "import matplotlib.pyplot as plt"
   ]
  },
  {
   "cell_type": "code",
   "execution_count": 2,
   "id": "8055aeba",
   "metadata": {},
   "outputs": [
    {
     "name": "stdout",
     "output_type": "stream",
     "text": [
      "Fix size testing.\n",
      "training chunk_sizes: [2]\n",
      "The output will be saved to  C:\\Users\\avata\\FewShot-CenterNet\\src\\lib\\..\\..\\exp\\ctdetv2\\coco_dla\n",
      "ctdetv2\n",
      "0\n",
      "2\n"
     ]
    }
   ],
   "source": [
    "sys.argv = ['-f', 'ctdetv2', '--exp_id', 'coco_dla','--num_workers', '0','--batch_size','2', '--arch','dlav6_34'] #cmd = 'ctdet --exp_id coco_dla --batch_size 4 --lr 1.25e-4  --gpus 0 --num_workers 0'\n",
    "opt = opts().parse()\n",
    "print(opt.task)\n",
    "print(opt.num_workers)\n",
    "print(opt.batch_size)"
   ]
  },
  {
   "cell_type": "code",
   "execution_count": 3,
   "id": "94a0b2cd",
   "metadata": {},
   "outputs": [],
   "source": [
    "torch.manual_seed(opt.seed)\n",
    "torch.backends.cudnn.benchmark = not opt.not_cuda_benchmark and not opt.test"
   ]
  },
  {
   "cell_type": "code",
   "execution_count": 4,
   "id": "31fb07c6",
   "metadata": {},
   "outputs": [
    {
     "data": {
      "text/plain": [
       "'l1'"
      ]
     },
     "execution_count": 4,
     "metadata": {},
     "output_type": "execute_result"
    }
   ],
   "source": [
    "opt.reg_loss"
   ]
  },
  {
   "cell_type": "code",
   "execution_count": 5,
   "id": "0f1efb5b",
   "metadata": {},
   "outputs": [
    {
     "name": "stdout",
     "output_type": "stream",
     "text": [
      "heads {'hm': 80, 'wh': 2, 'reg': 2}\n"
     ]
    }
   ],
   "source": [
    "Dataset = get_dataset(opt.dataset, opt.task)\n",
    "opt = opts().update_dataset_info_and_set_heads(opt, Dataset)\n",
    "logger = Logger(opt)\n",
    "os.environ['CUDA_VISIBLE_DEVICES'] = opt.gpus_str\n",
    "opt.device = torch.device('cuda' if opt.gpus[0] >= 0 else 'cpu')"
   ]
  },
  {
   "cell_type": "code",
   "execution_count": 6,
   "id": "691ffdc9",
   "metadata": {},
   "outputs": [],
   "source": [
    "model = create_model(opt.arch, opt.heads, opt.head_conv)\n",
    "optimizer = torch.optim.Adam(model.parameters(), opt.lr)\n",
    "start_epoch = 0\n",
    "if opt.load_model != '':\n",
    "    model, optimizer, start_epoch = load_model(model, opt.load_model, optimizer, opt.resume, opt.lr, opt.lr_step)"
   ]
  },
  {
   "cell_type": "code",
   "execution_count": 7,
   "id": "23a8022f",
   "metadata": {},
   "outputs": [],
   "source": [
    "Trainer = train_factory[opt.task]\n",
    "trainer = Trainer(opt, model, optimizer)\n",
    "trainer.set_device(opt.gpus, opt.chunk_sizes, opt.device)"
   ]
  },
  {
   "cell_type": "code",
   "execution_count": 8,
   "id": "52500c75",
   "metadata": {},
   "outputs": [
    {
     "name": "stdout",
     "output_type": "stream",
     "text": [
      "==> initializing coco 2017 train data.\n",
      "loading annotations into memory...\n",
      "Done (t=16.35s)\n",
      "creating index...\n",
      "index created!\n",
      "Loaded train 118287 samples\n"
     ]
    }
   ],
   "source": [
    "train_loader = torch.utils.data.DataLoader(\n",
    "      Dataset(opt, 'train'), \n",
    "      batch_size=opt.batch_size, \n",
    "      shuffle=True,\n",
    "      num_workers=opt.num_workers,\n",
    "      pin_memory=True,\n",
    "      drop_last=True\n",
    "  )"
   ]
  },
  {
   "cell_type": "code",
   "execution_count": 9,
   "id": "f9bd7661",
   "metadata": {},
   "outputs": [],
   "source": [
    "img = next(iter(train_loader))"
   ]
  },
  {
   "cell_type": "code",
   "execution_count": 10,
   "id": "ef9d4468",
   "metadata": {},
   "outputs": [
    {
     "name": "stdout",
     "output_type": "stream",
     "text": [
      "dict_keys(['input', 'hm', 'reg_mask', 'ind', 'wh', 'reg'])\n",
      "torch.Size([2, 3, 512, 512])\n"
     ]
    }
   ],
   "source": [
    "print(img.keys())\n",
    "print(img['input'].size())"
   ]
  },
  {
   "cell_type": "code",
   "execution_count": 11,
   "id": "173e261e",
   "metadata": {},
   "outputs": [],
   "source": [
    "model.to('cuda')\n",
    "torch.cuda.empty_cache()\n",
    "outputs = model(img['input'].to('cuda'))"
   ]
  },
  {
   "cell_type": "code",
   "execution_count": 12,
   "id": "4e41695d",
   "metadata": {},
   "outputs": [
    {
     "name": "stdout",
     "output_type": "stream",
     "text": [
      "dict_keys(['objns', 'hm', 'wh', 'reg'])\n"
     ]
    }
   ],
   "source": [
    "output=outputs[0]\n",
    "print(output.keys())"
   ]
  },
  {
   "cell_type": "code",
   "execution_count": 13,
   "id": "3da25bee",
   "metadata": {},
   "outputs": [
    {
     "data": {
      "text/plain": [
       "tensor([[[[-0.1135,  0.0853,  0.0335,  ...,  0.0325,  0.1120,  0.0010],\n",
       "          [-0.1940, -0.0243, -0.0092,  ..., -0.1659, -0.0365,  0.0264],\n",
       "          [-0.1745,  0.0227, -0.0218,  ..., -0.0898,  0.0282,  0.0370],\n",
       "          ...,\n",
       "          [ 0.0158,  0.0828,  0.0908,  ..., -0.2737, -0.2716, -0.0261],\n",
       "          [ 0.0280,  0.1316,  0.0516,  ..., -0.0701, -0.0481, -0.0538],\n",
       "          [-0.0230,  0.0635,  0.0270,  ..., -0.0940, -0.1624, -0.0941]],\n",
       "\n",
       "         [[ 0.1298,  0.0378,  0.0237,  ..., -0.0016, -0.0089, -0.0303],\n",
       "          [ 0.1398,  0.0565, -0.0550,  ..., -0.0886, -0.0834, -0.0648],\n",
       "          [ 0.2808,  0.2490,  0.2919,  ...,  0.0673, -0.0332, -0.0023],\n",
       "          ...,\n",
       "          [-0.0372, -0.1416, -0.2398,  ..., -0.1020, -0.3349, -0.1109],\n",
       "          [-0.0907, -0.1070, -0.1871,  ..., -0.0739, -0.1232, -0.0479],\n",
       "          [-0.0520,  0.0153, -0.0554,  ..., -0.0123, -0.1159,  0.0459]]],\n",
       "\n",
       "\n",
       "        [[[-0.0615,  0.0060, -0.0109,  ...,  0.0338,  0.0862, -0.0535],\n",
       "          [-0.0952, -0.0259, -0.0471,  ..., -0.1508, -0.0449, -0.0500],\n",
       "          [-0.0769,  0.0812,  0.0522,  ..., -0.0577,  0.0069, -0.0320],\n",
       "          ...,\n",
       "          [-0.1009,  0.0915, -0.0122,  ..., -0.2269, -0.1280, -0.1222],\n",
       "          [-0.0831,  0.0830,  0.0662,  ..., -0.0236,  0.0342, -0.0739],\n",
       "          [-0.0368,  0.0082,  0.0415,  ...,  0.0243,  0.0050, -0.0868]],\n",
       "\n",
       "         [[ 0.0358, -0.0891, -0.1010,  ..., -0.0552, -0.1176, -0.1115],\n",
       "          [ 0.0274,  0.0498, -0.0977,  ..., -0.1548, -0.1557, -0.0855],\n",
       "          [ 0.0192,  0.0718,  0.0288,  ..., -0.0122, -0.2125, -0.1034],\n",
       "          ...,\n",
       "          [-0.1929, -0.1804, -0.1332,  ..., -0.1702, -0.1917, -0.0404],\n",
       "          [-0.1469, -0.1543, -0.2005,  ..., -0.1087, -0.1059, -0.0271],\n",
       "          [-0.1321, -0.0679, -0.1057,  ...,  0.0567,  0.0203,  0.1396]]]],\n",
       "       device='cuda:0', grad_fn=<CudnnConvolutionBackward>)"
      ]
     },
     "execution_count": 13,
     "metadata": {},
     "output_type": "execute_result"
    }
   ],
   "source": [
    "output['wh']"
   ]
  },
  {
   "cell_type": "code",
   "execution_count": null,
   "id": "d6fdd723",
   "metadata": {},
   "outputs": [],
   "source": []
  },
  {
   "cell_type": "code",
   "execution_count": 13,
   "id": "ca28721a",
   "metadata": {},
   "outputs": [
    {
     "data": {
      "text/plain": [
       "torch.Size([80, 128, 128])"
      ]
     },
     "execution_count": 13,
     "metadata": {},
     "output_type": "execute_result"
    }
   ],
   "source": [
    "img['hm'][0].size()"
   ]
  },
  {
   "cell_type": "code",
   "execution_count": 118,
   "id": "d9e837b9",
   "metadata": {},
   "outputs": [
    {
     "name": "stderr",
     "output_type": "stream",
     "text": [
      "Clipping input data to the valid range for imshow with RGB data ([0..1] for floats or [0..255] for integers).\n"
     ]
    },
    {
     "data": {
      "text/plain": [
       "<matplotlib.image.AxesImage at 0x2d57c40a448>"
      ]
     },
     "execution_count": 118,
     "metadata": {},
     "output_type": "execute_result"
    },
    {
     "data": {
      "image/png": "[encoded data removed]",
      "text/plain": [
       "<Figure size 432x288 with 1 Axes>"
      ]
     },
     "metadata": {
      "needs_background": "light"
     },
     "output_type": "display_data"
    }
   ],
   "source": [
    "b = 0\n",
    "img_r = img['input'][b].permute(1,2,0)\n",
    "img_hm = img['hm'][b]\n",
    "plt.imshow(img_r)"
   ]
  },
  {
   "cell_type": "code",
   "execution_count": 119,
   "id": "ebac7e57",
   "metadata": {
    "scrolled": true
   },
   "outputs": [
    {
     "data": {
      "text/plain": [
       "<matplotlib.image.AxesImage at 0x2d57c4926c8>"
      ]
     },
     "execution_count": 119,
     "metadata": {},
     "output_type": "execute_result"
    },
    {
     "data": {
      "image/png": "[encoded data removed]",
      "text/plain": [
       "<Figure size 432x288 with 1 Axes>"
      ]
     },
     "metadata": {
      "needs_background": "light"
     },
     "output_type": "display_data"
    }
   ],
   "source": [
    "plt.imshow(torch.sum(img_hm,dim=0), cmap='hot', interpolation='nearest')"
   ]
  },
  {
   "cell_type": "code",
   "execution_count": 106,
   "id": "71d9faf2",
   "metadata": {},
   "outputs": [
    {
     "data": {
      "text/plain": [
       "tensor(1.)"
      ]
     },
     "execution_count": 106,
     "metadata": {},
     "output_type": "execute_result"
    }
   ],
   "source": [
    "torch.max(torch.sum(img_hm,dim=0))"
   ]
  },
  {
   "cell_type": "code",
   "execution_count": null,
   "id": "eae1d3a2",
   "metadata": {},
   "outputs": [],
   "source": []
  },
  {
   "cell_type": "code",
   "execution_count": null,
   "id": "0ac54e06",
   "metadata": {},
   "outputs": [],
   "source": []
  },
  {
   "cell_type": "code",
   "execution_count": null,
   "id": "98214289",
   "metadata": {},
   "outputs": [],
   "source": []
  },
  {
   "cell_type": "code",
   "execution_count": 14,
   "id": "c91dde02",
   "metadata": {},
   "outputs": [],
   "source": [
    "from models.fewdecode import fewdet_decode\n",
    "from models.fewdecode import _nms\n",
    "from models.fewdecode import _gather_feat"
   ]
  },
  {
   "cell_type": "code",
   "execution_count": 35,
   "id": "91aac1d5",
   "metadata": {},
   "outputs": [],
   "source": [
    "output = img['hm']\n",
    "scores = _nms(output)"
   ]
  },
  {
   "cell_type": "code",
   "execution_count": 36,
   "id": "71f2a7c7",
   "metadata": {},
   "outputs": [],
   "source": [
    "batch, cat, height, width = output.size()"
   ]
  },
  {
   "cell_type": "code",
   "execution_count": 37,
   "id": "1c23cb0d",
   "metadata": {},
   "outputs": [
    {
     "name": "stdout",
     "output_type": "stream",
     "text": [
      "torch.Size([2, 80, 100])\n",
      "torch.Size([2, 80, 100])\n"
     ]
    }
   ],
   "source": [
    "topk_scores, topk_inds = torch.topk(scores.view(batch, cat, -1), 100)\n",
    "print(topk_scores.size())\n",
    "print(topk_inds.size())"
   ]
  },
  {
   "cell_type": "code",
   "execution_count": 38,
   "id": "a3ee0980",
   "metadata": {},
   "outputs": [
    {
     "name": "stdout",
     "output_type": "stream",
     "text": [
      "torch.Size([2, 100])\n",
      "torch.Size([2, 100])\n",
      "torch.Size([2, 100])\n"
     ]
    }
   ],
   "source": [
    "topk_score, topk_ind = torch.topk(topk_scores.view(batch, -1), 100)\n",
    "topk_inds = topk_inds % (height * width)\n",
    "print(topk_score.size())\n",
    "print(topk_ind.size())\n",
    "topk_clses = (topk_ind / 100).int()\n",
    "print(topk_clses.size())"
   ]
  },
  {
   "cell_type": "code",
   "execution_count": 19,
   "id": "bed4de6f",
   "metadata": {},
   "outputs": [],
   "source": [
    "topk_inds = topk_inds % (height * width)\n",
    "topk_ys   = (topk_inds / width).int().float()\n",
    "topk_xs   = (topk_inds % width).int().float()"
   ]
  },
  {
   "cell_type": "code",
   "execution_count": 48,
   "id": "c5b62dd4",
   "metadata": {},
   "outputs": [
    {
     "data": {
      "text/plain": [
       "tensor([[[92., 78., 78.,  ...,  2.,  6., 14.],\n",
       "         [78., 94., 46.,  ..., 14., 30., 62.],\n",
       "         [78., 94., 46.,  ..., 14., 30., 62.],\n",
       "         ...,\n",
       "         [78., 94., 46.,  ..., 14., 30., 62.],\n",
       "         [78., 94., 46.,  ..., 14., 30., 62.],\n",
       "         [78., 94., 46.,  ..., 14., 30., 62.]],\n",
       "\n",
       "        [[78., 94., 46.,  ..., 14., 30., 62.],\n",
       "         [78., 94., 46.,  ..., 14., 30., 62.],\n",
       "         [78., 94., 46.,  ..., 14., 30., 62.],\n",
       "         ...,\n",
       "         [78., 94., 46.,  ..., 14., 30., 62.],\n",
       "         [78., 94., 46.,  ..., 14., 30., 62.],\n",
       "         [78., 94., 46.,  ..., 14., 30., 62.]]])"
      ]
     },
     "execution_count": 48,
     "metadata": {},
     "output_type": "execute_result"
    }
   ],
   "source": [
    "topk_xs"
   ]
  },
  {
   "cell_type": "code",
   "execution_count": 42,
   "id": "5cd14d87",
   "metadata": {},
   "outputs": [],
   "source": [
    "topk_inds = _gather_feat(\n",
    "        topk_inds.view(batch, -1, 1), topk_ind).view(batch, 100)"
   ]
  },
  {
   "cell_type": "code",
   "execution_count": 44,
   "id": "9540d25b",
   "metadata": {},
   "outputs": [
    {
     "data": {
      "text/plain": [
       "tensor([[ 8924,  9550,    83,    11,    49,    75,    20,    91,    52,     5,\n",
       "            58,    13,    71,     8,    79,    90,    87,     4,    95,    26,\n",
       "             6,    56,    27,    66,    29,    32,    63,    69,    36,    73,\n",
       "            82,    77,    40,    81,    22,    85,    44,    89,    98,    93,\n",
       "            48,    97,    94,     0,    25,    14,    54,    55,    28,    57,\n",
       "            70,    59,    64,    60,    34,    31,    68,    65,    33,    72,\n",
       "             7,    18,    35,    76,    17,    86,    37,    80,     3,    42,\n",
       "            39,    84,    19,    46,    41,    88,     9,    10,    43,    92,\n",
       "            21,    50,    45,    96,     1,    24,    47,    99,    23,    61,\n",
       "            51,     2,    12,    53,    15,    78,    38,    74,    16,    67],\n",
       "        [11442, 12386,    41,    51,     0,    37,    88,    45,    12,    55,\n",
       "            60,    59,    35,    80,    39,    10,    43,    96,    47,    66,\n",
       "            30,    28,    57,    34,    63,    68,    31,     7,    76,    17,\n",
       "            42,     3,    84,    19,    50,     9,    92,    21,    24,     1,\n",
       "            99,    23,    54,     6,    53,    62,    58,    27,    64,    13,\n",
       "            38,    29,    32,    61,    74,    65,    16,    15,    69,    36,\n",
       "            71,    82,    73,     8,    75,    22,    77,    40,    79,    90,\n",
       "            81,    20,    83,    70,    85,    44,    87,    98,    89,     4,\n",
       "            91,    26,    93,    48,    95,    52,    97,    11,    49,    94,\n",
       "             2,    25,    14,    56,     5,    67,    78,    46,    86,    18]])"
      ]
     },
     "execution_count": 44,
     "metadata": {},
     "output_type": "execute_result"
    }
   ],
   "source": [
    "topk_inds"
   ]
  },
  {
   "cell_type": "code",
   "execution_count": 49,
   "id": "532d82bf",
   "metadata": {},
   "outputs": [
    {
     "data": {
      "text/plain": [
       "tensor([[1., 1., 0., 0., 0., 0., 0., 0., 0., 0., 0., 0., 0., 0., 0., 0., 0., 0.,\n",
       "         0., 0., 0., 0., 0., 0., 0., 0., 0., 0., 0., 0., 0., 0., 0., 0., 0., 0.,\n",
       "         0., 0., 0., 0., 0., 0., 0., 0., 0., 0., 0., 0., 0., 0., 0., 0., 0., 0.,\n",
       "         0., 0., 0., 0., 0., 0., 0., 0., 0., 0., 0., 0., 0., 0., 0., 0., 0., 0.,\n",
       "         0., 0., 0., 0., 0., 0., 0., 0., 0., 0., 0., 0., 0., 0., 0., 0., 0., 0.,\n",
       "         0., 0., 0., 0., 0., 0., 0., 0., 0., 0.],\n",
       "        [1., 1., 0., 0., 0., 0., 0., 0., 0., 0., 0., 0., 0., 0., 0., 0., 0., 0.,\n",
       "         0., 0., 0., 0., 0., 0., 0., 0., 0., 0., 0., 0., 0., 0., 0., 0., 0., 0.,\n",
       "         0., 0., 0., 0., 0., 0., 0., 0., 0., 0., 0., 0., 0., 0., 0., 0., 0., 0.,\n",
       "         0., 0., 0., 0., 0., 0., 0., 0., 0., 0., 0., 0., 0., 0., 0., 0., 0., 0.,\n",
       "         0., 0., 0., 0., 0., 0., 0., 0., 0., 0., 0., 0., 0., 0., 0., 0., 0., 0.,\n",
       "         0., 0., 0., 0., 0., 0., 0., 0., 0., 0.]])"
      ]
     },
     "execution_count": 49,
     "metadata": {},
     "output_type": "execute_result"
    }
   ],
   "source": [
    "topk_score"
   ]
  },
  {
   "cell_type": "code",
   "execution_count": 50,
   "id": "51fa5ecd",
   "metadata": {},
   "outputs": [
    {
     "data": {
      "text/plain": [
       "tensor([[ 0,  0,  0,  0,  0,  0,  0,  0,  0,  0,  0,  0,  0,  0,  0,  0,  0,  0,\n",
       "          0,  0,  0,  0,  0,  0,  0,  0,  0,  0,  0,  0,  0,  0,  0,  0,  0,  0,\n",
       "          0,  0,  0,  0,  0,  0,  0,  0,  0,  0,  0,  0,  0,  0,  0,  0,  0,  0,\n",
       "          0,  0,  0,  0,  0,  0,  0,  0,  0,  0,  0,  0,  0,  0,  0,  0,  0,  0,\n",
       "          0,  0,  0,  0,  0,  0,  0,  0,  0,  0,  0,  0,  0,  0,  0,  0,  0,  0,\n",
       "          0,  0,  0,  0,  0,  0,  0,  0,  0,  0],\n",
       "        [15, 62,  0,  0,  0,  0,  0,  0,  0,  0,  0,  0,  0,  0,  0,  0,  0,  0,\n",
       "          0,  0,  0,  0,  0,  0,  0,  0,  0,  0,  0,  0,  0,  0,  0,  0,  0,  0,\n",
       "          0,  0,  0,  0,  0,  0,  0,  0,  0,  0,  0,  0,  0,  0,  0,  0,  0,  0,\n",
       "          0,  0,  0,  0,  0,  0,  0,  0,  0,  0,  0,  0,  0,  0,  0,  0,  0,  0,\n",
       "          0,  0,  0,  0,  0,  0,  0,  0,  0,  0,  0,  0,  0,  0,  0,  0,  0,  0,\n",
       "          0,  0,  0,  0,  0,  0,  0,  0,  0,  0]], dtype=torch.int32)"
      ]
     },
     "execution_count": 50,
     "metadata": {},
     "output_type": "execute_result"
    }
   ],
   "source": [
    "topk_clses"
   ]
  }
 ],
 "metadata": {
  "kernelspec": {
   "display_name": "Python 3 (ipykernel)",
   "language": "python",
   "name": "python3"
  },
  "language_info": {
   "codemirror_mode": {
    "name": "ipython",
    "version": 3
   },
   "file_extension": ".py",
   "mimetype": "text/x-python",
   "name": "python",
   "nbconvert_exporter": "python",
   "pygments_lexer": "ipython3",
   "version": "3.7.13"
  }
 },
 "nbformat": 4,
 "nbformat_minor": 5
}
