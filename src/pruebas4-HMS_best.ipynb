{
 "cells": [
  {
   "cell_type": "markdown",
   "id": "c5872380",
   "metadata": {},
   "source": [
    "Pruebas en el modelo v6"
   ]
  },
  {
   "cell_type": "code",
   "execution_count": 1,
   "id": "7fcac4b9",
   "metadata": {},
   "outputs": [],
   "source": [
    "from __future__ import absolute_import\n",
    "from __future__ import division\n",
    "from __future__ import print_function\n",
    "\n",
    "import _init_paths\n",
    "\n",
    "import os\n",
    "\n",
    "import torch\n",
    "import torch.utils.data\n",
    "from opts import opts\n",
    "from models.model import create_model, load_model, save_model\n",
    "from models.data_parallel import DataParallel\n",
    "from logger import Logger\n",
    "from datasets.dataset_factory import get_dataset\n",
    "from trains.train_factory import train_factory\n",
    "import cv2\n",
    "import sys\n",
    "%matplotlib inline\n",
    "import matplotlib.pyplot as plt"
   ]
  },
  {
   "cell_type": "code",
   "execution_count": 2,
   "id": "198d72e0",
   "metadata": {},
   "outputs": [
    {
     "name": "stdout",
     "output_type": "stream",
     "text": [
      "Fix size testing.\n",
      "training chunk_sizes: [2]\n",
      "The output will be saved to  C:\\Users\\avata\\FewShot-CenterNet\\src\\lib\\..\\..\\exp\\ctdetv2\\coco_dlav6\n",
      "ctdetv2\n",
      "0\n",
      "2\n"
     ]
    }
   ],
   "source": [
    "sys.argv = ['-f', 'ctdetv2', '--exp_id', 'coco_dlav6','--num_workers', '0','--batch_size','2', '--arch','dlav6_34',  '--load_model' ,'../exp/ctdetv2/coco_dlav6/model_last_.pth'] #cmd = 'ctdet --exp_id coco_dla --batch_size 4 --lr 1.25e-4  --gpus 0 --num_workers 0'\n",
    "opt = opts().parse()\n",
    "print(opt.task)\n",
    "print(opt.num_workers)\n",
    "print(opt.batch_size)"
   ]
  },
  {
   "cell_type": "code",
   "execution_count": 3,
   "id": "ffcc0c47",
   "metadata": {},
   "outputs": [],
   "source": [
    "torch.manual_seed(opt.seed)\n",
    "torch.backends.cudnn.benchmark = not opt.not_cuda_benchmark and not opt.test"
   ]
  },
  {
   "cell_type": "code",
   "execution_count": 4,
   "id": "83194c7e",
   "metadata": {},
   "outputs": [
    {
     "name": "stdout",
     "output_type": "stream",
     "text": [
      "heads {'hm': 80, 'wh': 2, 'reg': 2}\n"
     ]
    }
   ],
   "source": [
    "Dataset = get_dataset(opt.dataset, opt.task)\n",
    "opt = opts().update_dataset_info_and_set_heads(opt, Dataset)\n",
    "logger = Logger(opt)\n",
    "os.environ['CUDA_VISIBLE_DEVICES'] = opt.gpus_str\n",
    "opt.device = torch.device('cuda' if opt.gpus[0] >= 0 else 'cpu')"
   ]
  },
  {
   "cell_type": "code",
   "execution_count": 5,
   "id": "bfd37642",
   "metadata": {},
   "outputs": [
    {
     "name": "stdout",
     "output_type": "stream",
     "text": [
      "loaded ../exp/ctdetv2/coco_dlav6/model_last_.pth, epoch 12\n"
     ]
    }
   ],
   "source": [
    "model = create_model(opt.arch, opt.heads, opt.head_conv)\n",
    "optimizer = torch.optim.Adam(model.parameters(), opt.lr)\n",
    "start_epoch = 0\n",
    "if opt.load_model != '':\n",
    "    model, optimizer, start_epoch = load_model(model, opt.load_model, optimizer, opt.resume, opt.lr, opt.lr_step)"
   ]
  },
  {
   "cell_type": "code",
   "execution_count": 6,
   "id": "9511ef67",
   "metadata": {},
   "outputs": [],
   "source": [
    "Trainer = train_factory[opt.task]\n",
    "trainer = Trainer(opt, model, optimizer)\n",
    "trainer.set_device(opt.gpus, opt.chunk_sizes, opt.device)"
   ]
  },
  {
   "cell_type": "code",
   "execution_count": 7,
   "id": "c01a1c4d",
   "metadata": {},
   "outputs": [
    {
     "name": "stdout",
     "output_type": "stream",
     "text": [
      "==> initializing coco 2017 train data.\n",
      "loading annotations into memory...\n",
      "Done (t=14.45s)\n",
      "creating index...\n",
      "index created!\n",
      "Loaded train 118287 samples\n"
     ]
    }
   ],
   "source": [
    "train_loader = torch.utils.data.DataLoader(\n",
    "      Dataset(opt, 'train'), \n",
    "      batch_size=opt.batch_size, \n",
    "      shuffle=True,\n",
    "      num_workers=opt.num_workers,\n",
    "      pin_memory=True,\n",
    "      drop_last=True\n",
    "  )"
   ]
  },
  {
   "cell_type": "code",
   "execution_count": 37,
   "id": "522cb76c",
   "metadata": {},
   "outputs": [],
   "source": [
    "img = next(iter(train_loader))"
   ]
  },
  {
   "cell_type": "code",
   "execution_count": 38,
   "id": "83d93b8e",
   "metadata": {},
   "outputs": [
    {
     "name": "stdout",
     "output_type": "stream",
     "text": [
      "dict_keys(['input', 'hm', 'reg_mask', 'ind', 'wh', 'hm_mod', 'reg'])\n",
      "torch.Size([2, 3, 512, 512])\n"
     ]
    }
   ],
   "source": [
    "print(img.keys())\n",
    "print(img['input'].size())"
   ]
  },
  {
   "cell_type": "code",
   "execution_count": 39,
   "id": "292d4518",
   "metadata": {},
   "outputs": [
    {
     "name": "stdout",
     "output_type": "stream",
     "text": [
      "dict_keys(['objns', 'hm', 'wh', 'reg'])\n"
     ]
    }
   ],
   "source": [
    "model.to('cuda')\n",
    "torch.cuda.empty_cache()\n",
    "outputs = model(img['input'].to('cuda'))\n",
    "output = outputs[0]\n",
    "print(output.keys())"
   ]
  },
  {
   "cell_type": "code",
   "execution_count": 40,
   "id": "14cda10f",
   "metadata": {},
   "outputs": [],
   "source": [
    "batch=img\n",
    "mask = batch['reg_mask']\n",
    "ind = batch['ind']\n",
    "target_wh = batch['wh']\n",
    "target_reg = batch['reg']"
   ]
  },
  {
   "cell_type": "code",
   "execution_count": 41,
   "id": "44524237",
   "metadata": {},
   "outputs": [
    {
     "name": "stdout",
     "output_type": "stream",
     "text": [
      "torch.Size([2, 80, 128, 128])\n",
      "torch.Size([2, 80, 128, 128])\n"
     ]
    }
   ],
   "source": [
    "pred_hm = output['hm'].sigmoid()\n",
    "print(pred_hm.size())\n",
    "gt_hm = batch['hm']\n",
    "print(gt_hm.size())"
   ]
  },
  {
   "cell_type": "code",
   "execution_count": 48,
   "id": "b76a2cf1",
   "metadata": {},
   "outputs": [
    {
     "name": "stdout",
     "output_type": "stream",
     "text": [
      "C heatmaps summed\n",
      "torch.Size([2, 80, 128, 128])\n",
      "0.5999875\n"
     ]
    },
    {
     "data": {
      "text/plain": [
       "<matplotlib.image.AxesImage at 0x1b937e5cfc8>"
      ]
     },
     "execution_count": 48,
     "metadata": {},
     "output_type": "execute_result"
    },
    {
     "data": {
      "image/png": "[encoded data removed]",
      "text/plain": [
       "<Figure size 432x288 with 1 Axes>"
      ]
     },
     "metadata": {
      "needs_background": "light"
     },
     "output_type": "display_data"
    }
   ],
   "source": [
    "print('C heatmaps summed')\n",
    "img_gt2 = pred_hm.detach().cpu().numpy()\n",
    "img_r = img_gt2[0,0,:,:]\n",
    "print(pred_hm.size())\n",
    "print(img_r.max())\n",
    "plt.imshow(img_r, cmap='hot', interpolation='nearest')"
   ]
  },
  {
   "cell_type": "code",
   "execution_count": 51,
   "id": "0c6833b5",
   "metadata": {
    "scrolled": true
   },
   "outputs": [
    {
     "name": "stdout",
     "output_type": "stream",
     "text": [
      "C heatmaps summed\n",
      "torch.Size([2, 1, 128, 128])\n",
      "tensor(0.7310, device='cuda:0', grad_fn=<MaxBackward1>)\n"
     ]
    },
    {
     "data": {
      "text/plain": [
       "<matplotlib.image.AxesImage at 0x1b9c95877c8>"
      ]
     },
     "execution_count": 51,
     "metadata": {},
     "output_type": "execute_result"
    },
    {
     "data": {
      "image/png": "[encoded data removed]",
      "text/plain": [
       "<Figure size 432x288 with 1 Axes>"
      ]
     },
     "metadata": {
      "needs_background": "light"
     },
     "output_type": "display_data"
    }
   ],
   "source": [
    "print('C heatmaps summed')\n",
    "pred_obj = output['objns'].sigmoid()\n",
    "img_gt2 = pred_obj.detach().cpu().numpy()\n",
    "img_r = img_gt2[0,0,:,:]\n",
    "print(pred_obj.size())\n",
    "print(pred_obj.max())\n",
    "plt.imshow(img_r, cmap='hot', interpolation='nearest')"
   ]
  },
  {
   "cell_type": "code",
   "execution_count": 44,
   "id": "86480b96",
   "metadata": {},
   "outputs": [
    {
     "data": {
      "text/plain": [
       "array([[[0.5004316 , 0.50002503, 0.50002503, ..., 0.50002503,\n",
       "         0.50012124, 0.5001999 ],\n",
       "        [0.50367147, 0.50002503, 0.50002503, ..., 0.50002503,\n",
       "         0.50013036, 0.50005084],\n",
       "        [0.5010059 , 0.50002503, 0.50002503, ..., 0.50002503,\n",
       "         0.50002503, 0.50002503],\n",
       "        ...,\n",
       "        [0.5024259 , 0.5002544 , 0.5000506 , ..., 0.5017758 ,\n",
       "         0.5102259 , 0.50077087],\n",
       "        [0.5063275 , 0.5007975 , 0.50016004, ..., 0.5043974 ,\n",
       "         0.5170625 , 0.50131166],\n",
       "        [0.50315416, 0.5004127 , 0.50018877, ..., 0.50068307,\n",
       "         0.5020506 , 0.5009823 ]],\n",
       "\n",
       "       [[0.5586346 , 0.5279291 , 0.5251848 , ..., 0.5130843 ,\n",
       "         0.51804996, 0.5035141 ],\n",
       "        [0.5400772 , 0.5182054 , 0.5158757 , ..., 0.5039571 ,\n",
       "         0.506315  , 0.50103265],\n",
       "        [0.5459544 , 0.5246014 , 0.522763  , ..., 0.5082601 ,\n",
       "         0.511268  , 0.5012708 ],\n",
       "        ...,\n",
       "        [0.50417113, 0.5013247 , 0.50085616, ..., 0.5016835 ,\n",
       "         0.5030388 , 0.500236  ],\n",
       "        [0.50972205, 0.50266796, 0.50191075, ..., 0.50156045,\n",
       "         0.5034818 , 0.500394  ],\n",
       "        [0.5042134 , 0.5008562 , 0.500659  , ..., 0.5003073 ,\n",
       "         0.5006211 , 0.50041103]]], dtype=float32)"
      ]
     },
     "execution_count": 44,
     "metadata": {},
     "output_type": "execute_result"
    }
   ],
   "source": [
    "(img_gt2.squeeze(1))\n"
   ]
  },
  {
   "cell_type": "code",
   "execution_count": 45,
   "id": "49bc86db",
   "metadata": {},
   "outputs": [
    {
     "name": "stderr",
     "output_type": "stream",
     "text": [
      "Clipping input data to the valid range for imshow with RGB data ([0..1] for floats or [0..255] for integers).\n"
     ]
    },
    {
     "data": {
      "text/plain": [
       "<matplotlib.image.AxesImage at 0x1b932d3d888>"
      ]
     },
     "execution_count": 45,
     "metadata": {},
     "output_type": "execute_result"
    },
    {
     "data": {
      "image/png": "[encoded data removed]",
      "text/plain": [
       "<Figure size 432x288 with 1 Axes>"
      ]
     },
     "metadata": {
      "needs_background": "light"
     },
     "output_type": "display_data"
    }
   ],
   "source": [
    "plt.imshow(img['input'][0].permute(1,2,0))"
   ]
  },
  {
   "cell_type": "code",
   "execution_count": 46,
   "id": "310f0589",
   "metadata": {},
   "outputs": [
    {
     "name": "stdout",
     "output_type": "stream",
     "text": [
      "C heatmaps summed\n"
     ]
    },
    {
     "data": {
      "text/plain": [
       "<matplotlib.image.AxesImage at 0x1b932db4048>"
      ]
     },
     "execution_count": 46,
     "metadata": {},
     "output_type": "execute_result"
    },
    {
     "data": {
      "image/png": "[encoded data removed]",
      "text/plain": [
       "<Figure size 432x288 with 1 Axes>"
      ]
     },
     "metadata": {
      "needs_background": "light"
     },
     "output_type": "display_data"
    }
   ],
   "source": [
    "print('C heatmaps summed')\n",
    "plt.imshow(gt_hm[0,0,:,:].detach().cpu().numpy(), cmap='hot', interpolation='nearest')"
   ]
  },
  {
   "cell_type": "code",
   "execution_count": 144,
   "id": "31af0f72",
   "metadata": {},
   "outputs": [],
   "source": [
    "class_name = ['person', 'bicycle', 'car', 'motorcycle', 'airplane',\n",
    "      'bus', 'train', 'truck', 'boat', 'traffic light', 'fire hydrant',\n",
    "      'stop sign', 'parking meter', 'bench', 'bird', 'cat', 'dog', 'horse',\n",
    "      'sheep', 'cow', 'elephant', 'bear', 'zebra', 'giraffe', 'backpack',\n",
    "      'umbrella', 'handbag', 'tie', 'suitcase', 'frisbee', 'skis',\n",
    "      'snowboard', 'sports ball', 'kite', 'baseball bat', 'baseball glove',\n",
    "      'skateboard', 'surfboard', 'tennis racket', 'bottle', 'wine glass',\n",
    "      'cup', 'fork', 'knife', 'spoon', 'bowl', 'banana', 'apple', 'sandwich',\n",
    "      'orange', 'broccoli', 'carrot', 'hot dog', 'pizza', 'donut', 'cake',\n",
    "      'chair', 'couch', 'potted plant', 'bed', 'dining table', 'toilet', 'tv',\n",
    "      'laptop', 'mouse', 'remote', 'keyboard', 'cell phone', 'microwave',\n",
    "      'oven', 'toaster', 'sink', 'refrigerator', 'book', 'clock', 'vase',\n",
    "      'scissors', 'teddy bear', 'hair drier', 'toothbrush']"
   ]
  },
  {
   "cell_type": "code",
   "execution_count": 145,
   "id": "d6aaf4bb",
   "metadata": {},
   "outputs": [
    {
     "data": {
      "text/plain": [
       "'chair'"
      ]
     },
     "execution_count": 145,
     "metadata": {},
     "output_type": "execute_result"
    }
   ],
   "source": [
    "class_name[56]"
   ]
  }
 ],
 "metadata": {
  "kernelspec": {
   "display_name": "Python 3 (ipykernel)",
   "language": "python",
   "name": "python3"
  },
  "language_info": {
   "codemirror_mode": {
    "name": "ipython",
    "version": 3
   },
   "file_extension": ".py",
   "mimetype": "text/x-python",
   "name": "python",
   "nbconvert_exporter": "python",
   "pygments_lexer": "ipython3",
   "version": "3.7.13"
  }
 },
 "nbformat": 4,
 "nbformat_minor": 5
}
