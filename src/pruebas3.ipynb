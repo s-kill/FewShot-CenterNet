{
 "cells": [
  {
   "cell_type": "code",
   "execution_count": 16,
   "id": "7fcac4b9",
   "metadata": {},
   "outputs": [],
   "source": [
    "from __future__ import absolute_import\n",
    "from __future__ import division\n",
    "from __future__ import print_function\n",
    "\n",
    "import _init_paths\n",
    "\n",
    "import os\n",
    "import torch\n",
    "import torch.utils.data\n",
    "from opts import opts\n",
    "from models.model import create_model, load_model, save_model\n",
    "from models.data_parallel import DataParallel\n",
    "from logger import Logger\n",
    "from datasets.dataset_factory import get_dataset\n",
    "from trains.train_factory import train_factory\n",
    "import cv2\n",
    "import sys\n",
    "%matplotlib inline\n",
    "import matplotlib.pyplot as plt"
   ]
  },
  {
   "cell_type": "code",
   "execution_count": 17,
   "id": "198d72e0",
   "metadata": {},
   "outputs": [
    {
     "name": "stdout",
     "output_type": "stream",
     "text": [
      "Fix size testing.\n",
      "training chunk_sizes: [2]\n",
      "The output will be saved to  C:\\Users\\avata\\FewShot-CenterNet\\src\\lib\\..\\..\\exp\\ctdet\\coco_dlav7\n",
      "ctdet\n",
      "0\n",
      "2\n"
     ]
    }
   ],
   "source": [
    "sys.argv = ['-f', 'ctdet', '--exp_id', 'coco_dlav7','--num_workers', '0','--batch_size','2', '--arch','dlav6_34'] #cmd = 'ctdet --exp_id coco_dla --batch_size 4 --lr 1.25e-4  --gpus 0 --num_workers 0'\n",
    "opt = opts().parse()\n",
    "print(opt.task)\n",
    "print(opt.num_workers)\n",
    "print(opt.batch_size)"
   ]
  },
  {
   "cell_type": "code",
   "execution_count": 18,
   "id": "ffcc0c47",
   "metadata": {},
   "outputs": [],
   "source": [
    "torch.manual_seed(opt.seed)\n",
    "torch.backends.cudnn.benchmark = not opt.not_cuda_benchmark and not opt.test"
   ]
  },
  {
   "cell_type": "code",
   "execution_count": 19,
   "id": "83194c7e",
   "metadata": {},
   "outputs": [
    {
     "name": "stdout",
     "output_type": "stream",
     "text": [
      "heads {'hm': 80, 'wh': 2, 'reg': 2}\n"
     ]
    }
   ],
   "source": [
    "Dataset = get_dataset(opt.dataset, opt.task)\n",
    "opt = opts().update_dataset_info_and_set_heads(opt, Dataset)\n",
    "logger = Logger(opt)\n",
    "os.environ['CUDA_VISIBLE_DEVICES'] = opt.gpus_str\n",
    "opt.device = torch.device('cuda' if opt.gpus[0] >= 0 else 'cpu')"
   ]
  },
  {
   "cell_type": "code",
   "execution_count": 20,
   "id": "bfd37642",
   "metadata": {},
   "outputs": [],
   "source": [
    "model = create_model(opt.arch, opt.heads, opt.head_conv)\n",
    "optimizer = torch.optim.Adam(model.parameters(), opt.lr)\n",
    "start_epoch = 0\n",
    "if opt.load_model != '':\n",
    "    model, optimizer, start_epoch = load_model(model, opt.load_model, optimizer, opt.resume, opt.lr, opt.lr_step)"
   ]
  },
  {
   "cell_type": "code",
   "execution_count": 21,
   "id": "9511ef67",
   "metadata": {},
   "outputs": [],
   "source": [
    "Trainer = train_factory[opt.task]\n",
    "trainer = Trainer(opt, model, optimizer)\n",
    "trainer.set_device(opt.gpus, opt.chunk_sizes, opt.device)"
   ]
  },
  {
   "cell_type": "code",
   "execution_count": 22,
   "id": "c01a1c4d",
   "metadata": {},
   "outputs": [
    {
     "name": "stdout",
     "output_type": "stream",
     "text": [
      "==> initializing coco 2017 train data.\n",
      "loading annotations into memory...\n",
      "Done (t=20.14s)\n",
      "creating index...\n",
      "index created!\n",
      "Loaded train 118287 samples\n"
     ]
    }
   ],
   "source": [
    "train_loader = torch.utils.data.DataLoader(\n",
    "      Dataset(opt, 'train'), \n",
    "      batch_size=opt.batch_size, \n",
    "      shuffle=True,\n",
    "      num_workers=opt.num_workers,\n",
    "      pin_memory=True,\n",
    "      drop_last=True\n",
    "  )"
   ]
  },
  {
   "cell_type": "code",
   "execution_count": 23,
   "id": "522cb76c",
   "metadata": {},
   "outputs": [],
   "source": [
    "img = next(iter(train_loader))"
   ]
  },
  {
   "cell_type": "code",
   "execution_count": 24,
   "id": "83d93b8e",
   "metadata": {},
   "outputs": [
    {
     "name": "stdout",
     "output_type": "stream",
     "text": [
      "dict_keys(['input', 'hm', 'reg_mask', 'ind', 'wh', 'hm_mod', 'reg'])\n",
      "torch.Size([2, 3, 512, 512])\n"
     ]
    }
   ],
   "source": [
    "print(img.keys())\n",
    "print(img['input'].size())"
   ]
  },
  {
   "cell_type": "code",
   "execution_count": 28,
   "id": "61f7bee9",
   "metadata": {},
   "outputs": [
    {
     "data": {
      "text/plain": [
       "128"
      ]
     },
     "execution_count": 28,
     "metadata": {},
     "output_type": "execute_result"
    }
   ],
   "source": [
    "img['hm_mod'].shape[1]"
   ]
  },
  {
   "cell_type": "code",
   "execution_count": 26,
   "id": "292d4518",
   "metadata": {},
   "outputs": [
    {
     "name": "stdout",
     "output_type": "stream",
     "text": [
      "dict_keys(['objns', 'hm', 'wh', 'reg'])\n"
     ]
    }
   ],
   "source": [
    "model.to('cuda')\n",
    "torch.cuda.empty_cache()\n",
    "outputs = model(img['input'].to('cuda'))\n",
    "output = outputs[0]\n",
    "print(output.keys())"
   ]
  },
  {
   "cell_type": "code",
   "execution_count": 11,
   "id": "14cda10f",
   "metadata": {},
   "outputs": [],
   "source": [
    "batch=img\n",
    "mask = batch['reg_mask']\n",
    "ind = batch['ind']\n",
    "target_wh = batch['wh']\n",
    "target_reg = batch['reg']"
   ]
  },
  {
   "cell_type": "code",
   "execution_count": 12,
   "id": "44524237",
   "metadata": {},
   "outputs": [
    {
     "name": "stdout",
     "output_type": "stream",
     "text": [
      "torch.Size([2, 80, 128, 128])\n",
      "torch.Size([2, 80, 128, 128])\n"
     ]
    }
   ],
   "source": [
    "pred_hm = output['hm'].sigmoid()\n",
    "print(pred_hm.size())\n",
    "gt_hm = batch['hm']\n",
    "print(gt_hm.size())"
   ]
  },
  {
   "cell_type": "code",
   "execution_count": 13,
   "id": "3e9a61e8",
   "metadata": {},
   "outputs": [
    {
     "name": "stdout",
     "output_type": "stream",
     "text": [
      "tensor(11.)\n",
      "tensor(2621429.)\n",
      "torch.Size([2621429])\n",
      "torch.Size([2621429])\n",
      "torch.Size([2621429])\n",
      "tensor(11.)\n",
      "tensor(-22.6171, device='cuda:0', grad_fn=<SumBackward0>)\n",
      "tensor(-3031.7805, device='cuda:0', grad_fn=<SumBackward0>)\n",
      "tensor(277.6725, device='cuda:0', grad_fn=<RsubBackward1>)\n"
     ]
    }
   ],
   "source": [
    "#80C Heatmap pred vs 80C heatmap gt\n",
    "pos_inds = gt_hm.eq(1)\n",
    "neg_inds = gt_hm.lt(1)\n",
    "print(pos_inds.float().sum())\n",
    "print(neg_inds.float().sum())\n",
    "neg_weights = torch.pow(1 - gt_hm[neg_inds], 4).to('cuda')\n",
    "print(neg_weights.size())\n",
    "\n",
    "loss = 0\n",
    "pos_pred = pred_hm[pos_inds].to('cuda')\n",
    "neg_pred = pred_hm[neg_inds].to('cuda')\n",
    "print(neg_pred.size())\n",
    "\n",
    "pos_loss = torch.log(pos_pred) * torch.pow(1 - pos_pred, 2)\n",
    "neg_loss = torch.log(1 - neg_pred) * torch.pow(neg_pred, 2) * neg_weights\n",
    "print(neg_loss.size())\n",
    "\n",
    "num_pos  = pos_inds.float().sum()\n",
    "print(num_pos)\n",
    "pos_loss = pos_loss.sum()\n",
    "neg_loss = neg_loss.sum()\n",
    "print(pos_loss)\n",
    "print(neg_loss)\n",
    "if pos_pred.nelement() == 0:\n",
    "    loss = loss - neg_loss\n",
    "else:\n",
    "    loss = loss - (pos_loss + neg_loss) / num_pos\n",
    "print(loss)"
   ]
  },
  {
   "cell_type": "code",
   "execution_count": 14,
   "id": "81665cf5",
   "metadata": {},
   "outputs": [
    {
     "name": "stdout",
     "output_type": "stream",
     "text": [
      "tensor(11.)\n",
      "tensor(2621429.)\n",
      "torch.Size([2621429])\n",
      "torch.Size([2621429])\n",
      "torch.Size([2621429])\n",
      "tensor(11.)\n",
      "tensor(0., device='cuda:0')\n",
      "tensor(-3.8679, device='cuda:0')\n",
      "tensor(0.3516, device='cuda:0')\n"
     ]
    }
   ],
   "source": [
    "#80C Heatmap gt vs 80C heatmap gt\n",
    "pos_inds = gt_hm.eq(1)\n",
    "neg_inds = gt_hm.lt(1)\n",
    "print(pos_inds.float().sum())\n",
    "print(neg_inds.float().sum())\n",
    "neg_weights = torch.pow(1 - gt_hm[neg_inds], 4).to('cuda')\n",
    "print(neg_weights.size())\n",
    "\n",
    "loss = 0\n",
    "pos_pred = gt_hm[pos_inds].to('cuda')\n",
    "neg_pred = gt_hm[neg_inds].to('cuda')\n",
    "print(neg_pred.size())\n",
    "\n",
    "pos_loss = torch.log(pos_pred) * torch.pow(1 - pos_pred, 2)\n",
    "neg_loss = torch.log(1 - neg_pred) * torch.pow(neg_pred, 2) * neg_weights\n",
    "print(neg_loss.size())\n",
    "\n",
    "num_pos  = pos_inds.float().sum()\n",
    "print(num_pos)\n",
    "pos_loss = pos_loss.sum()\n",
    "neg_loss = neg_loss.sum()\n",
    "print(pos_loss)\n",
    "print(neg_loss)\n",
    "if pos_pred.nelement() == 0:\n",
    "    loss = loss - neg_loss\n",
    "else:\n",
    "    loss = loss - (pos_loss + neg_loss) / num_pos\n",
    "print(loss)"
   ]
  },
  {
   "cell_type": "code",
   "execution_count": 44,
   "id": "ba660cde",
   "metadata": {},
   "outputs": [
    {
     "name": "stdout",
     "output_type": "stream",
     "text": [
      "tensor(11.)\n",
      "tensor(32757.)\n",
      "torch.Size([32757])\n",
      "torch.Size([32757])\n",
      "torch.Size([32757])\n",
      "tensor(11.)\n",
      "tensor(0., device='cuda:0')\n",
      "tensor(-3.8679, device='cuda:0')\n",
      "tensor(0.3516, device='cuda:0')\n"
     ]
    }
   ],
   "source": [
    "##1 Heatmap gt vs 80C heatmap gt sumdim 1\n",
    "hm_1c = img['hm_mod'] #gt 1heatmap\n",
    "gt_hm2 = gt_hm.sum(1)/gt_hm.max() #gt 80c to 1c sum\n",
    "\n",
    "pos_inds = gt_hm2.eq(1)\n",
    "neg_inds = gt_hm2.lt(1)\n",
    "print(pos_inds.float().sum())\n",
    "print(neg_inds.float().sum())\n",
    "neg_weights = torch.pow(1 - gt_hm2[neg_inds], 4).to('cuda')\n",
    "print(neg_weights.size())\n",
    "\n",
    "loss = 0\n",
    "pos_pred = hm_1c[pos_inds].to('cuda')\n",
    "neg_pred = hm_1c[neg_inds].to('cuda')\n",
    "print(neg_pred.size())\n",
    "\n",
    "pos_loss = torch.log(pos_pred) * torch.pow(1 - pos_pred, 2)\n",
    "neg_loss = torch.log(1 - neg_pred) * torch.pow(neg_pred, 2) * neg_weights\n",
    "print(neg_loss.size())\n",
    "\n",
    "num_pos  = pos_inds.float().sum()\n",
    "print(num_pos)\n",
    "pos_loss = pos_loss.sum()\n",
    "neg_loss = neg_loss.sum()\n",
    "print(pos_loss)\n",
    "print(neg_loss)\n",
    "if pos_pred.nelement() == 0:\n",
    "    loss = loss - neg_loss\n",
    "else:\n",
    "    loss = loss - (pos_loss + neg_loss) / num_pos\n",
    "print(loss)"
   ]
  },
  {
   "cell_type": "code",
   "execution_count": 16,
   "id": "b6254213",
   "metadata": {},
   "outputs": [
    {
     "name": "stdout",
     "output_type": "stream",
     "text": [
      "tensor(11.)\n",
      "tensor(32757.)\n",
      "torch.Size([32757])\n",
      "torch.Size([32757])\n",
      "torch.Size([32757])\n",
      "tensor(11.)\n",
      "tensor(-24.0373, device='cuda:0', grad_fn=<SumBackward0>)\n",
      "tensor(-25.6394, device='cuda:0', grad_fn=<SumBackward0>)\n",
      "tensor(4.5161, device='cuda:0', grad_fn=<RsubBackward1>)\n"
     ]
    }
   ],
   "source": [
    "##80C Heatmap pred to 1C vs 80C heatmap gt sumdim 1\n",
    "hm_1c = img['hm_mod'] #gt 1heatmap\n",
    "pred_hm2 = pred_hm[:,0,:,:] #gt 80c to 1c sum\n",
    "\n",
    "pos_inds = gt_hm2.eq(1)\n",
    "neg_inds = gt_hm2.lt(1)\n",
    "print(pos_inds.float().sum())\n",
    "print(neg_inds.float().sum())\n",
    "neg_weights = torch.pow(1 - gt_hm2[neg_inds], 4).to('cuda')\n",
    "print(neg_weights.size())\n",
    "\n",
    "loss = 0\n",
    "pos_pred = pred_hm2[pos_inds].to('cuda')\n",
    "neg_pred = pred_hm2[neg_inds].to('cuda')\n",
    "print(neg_pred.size())\n",
    "\n",
    "pos_loss = torch.log(pos_pred) * torch.pow(1 - pos_pred, 2)\n",
    "neg_loss = torch.log(1 - neg_pred) * torch.pow(neg_pred, 2) * neg_weights\n",
    "print(neg_loss.size())\n",
    "\n",
    "num_pos  = pos_inds.float().sum()\n",
    "print(num_pos)\n",
    "pos_loss = pos_loss.sum()\n",
    "neg_loss = neg_loss.sum()\n",
    "print(pos_loss)\n",
    "print(neg_loss)\n",
    "if pos_pred.nelement() == 0:\n",
    "    loss = loss - neg_loss\n",
    "else:\n",
    "    loss = loss - (pos_loss + neg_loss) / num_pos\n",
    "print(loss)"
   ]
  },
  {
   "cell_type": "code",
   "execution_count": 17,
   "id": "b76a2cf1",
   "metadata": {},
   "outputs": [
    {
     "name": "stdout",
     "output_type": "stream",
     "text": [
      "C heatmaps summed\n",
      "torch.Size([2, 128, 128])\n",
      "tensor(0.1531, device='cuda:0', grad_fn=<MaxBackward1>)\n"
     ]
    },
    {
     "data": {
      "text/plain": [
       "<matplotlib.image.AxesImage at 0x201e95b71c8>"
      ]
     },
     "execution_count": 17,
     "metadata": {},
     "output_type": "execute_result"
    },
    {
     "data": {
      "image/png": "[encoded data removed]",
      "text/plain": [
       "<Figure size 432x288 with 1 Axes>"
      ]
     },
     "metadata": {
      "needs_background": "light"
     },
     "output_type": "display_data"
    }
   ],
   "source": [
    "print('C heatmaps summed')\n",
    "img_gt2 = pred_hm2.detach().cpu().numpy()\n",
    "print(pred_hm2.size())\n",
    "print(pred_hm2.max())\n",
    "plt.imshow(img_gt2[0], cmap='hot', interpolation='nearest')"
   ]
  },
  {
   "cell_type": "code",
   "execution_count": 18,
   "id": "fd1ec11b",
   "metadata": {},
   "outputs": [
    {
     "name": "stdout",
     "output_type": "stream",
     "text": [
      "C heatmaps summed\n",
      "torch.Size([2, 128, 128])\n",
      "tensor(0.1073, device='cuda:0', grad_fn=<MaxBackward1>)\n"
     ]
    },
    {
     "data": {
      "text/plain": [
       "<matplotlib.image.AxesImage at 0x20184edc148>"
      ]
     },
     "execution_count": 18,
     "metadata": {},
     "output_type": "execute_result"
    },
    {
     "data": {
      "image/png": "[encoded data removed]",
      "text/plain": [
       "<Figure size 432x288 with 1 Axes>"
      ]
     },
     "metadata": {
      "needs_background": "light"
     },
     "output_type": "display_data"
    }
   ],
   "source": [
    "print('C heatmaps summed')\n",
    "pred2 = pred_hm.sum(1)/80\n",
    "print(pred2.size())\n",
    "print(pred2.max())\n",
    "img_gt3 = pred2.detach().cpu().numpy()\n",
    "plt.imshow(img_gt3[1], cmap='hot', interpolation='nearest')"
   ]
  },
  {
   "cell_type": "code",
   "execution_count": 34,
   "id": "8b45e0ee",
   "metadata": {},
   "outputs": [
    {
     "name": "stdout",
     "output_type": "stream",
     "text": [
      "torch.Size([2, 128, 128])\n",
      "tensor(0.1073, device='cuda:0', grad_fn=<MaxBackward1>)\n",
      "pos: tensor(11.)\n",
      "neg: tensor(32757.)\n",
      "neg_loss: tensor(-35.1225, device='cuda:0', grad_fn=<SumBackward0>)\n",
      "loss:  tensor(5.0378, device='cuda:0', grad_fn=<RsubBackward1>)\n"
     ]
    }
   ],
   "source": [
    "##80C Heatmap pred to 1C vs 80C heatmap gt sumdim 1 v2\n",
    "hm_1c = img['hm_mod'] #gt 1heatmap\n",
    "pred2 = pred_hm.sum(1)/80\n",
    "print(pred2.size())\n",
    "print(pred2.max())\n",
    "pos_inds = gt_hm2.eq(1)\n",
    "neg_inds = gt_hm2.lt(1)\n",
    "print('pos:',pos_inds.float().sum())\n",
    "print('neg:',neg_inds.float().sum())\n",
    "neg_weights = torch.pow(1 - gt_hm2[neg_inds], 4).to('cuda')\n",
    "\n",
    "loss = 0\n",
    "pos_pred = pred2[pos_inds].to('cuda')\n",
    "neg_pred = pred2[neg_inds].to('cuda')\n",
    "\n",
    "pos_loss = torch.log(pos_pred) * torch.pow(1 - pos_pred, 2)\n",
    "neg_loss = torch.log(1 - neg_pred) * torch.pow(neg_pred, 2) * neg_weights\n",
    "\n",
    "num_pos  = pos_inds.float().sum()\n",
    "pos_loss = pos_loss.sum()\n",
    "neg_loss = neg_loss.sum()\n",
    "print('neg_loss:',neg_loss)\n",
    "if pos_pred.nelement() == 0:\n",
    "    loss = loss - neg_loss\n",
    "else:\n",
    "    loss = loss - (pos_loss + neg_loss) / num_pos\n",
    "print('loss: ',loss)"
   ]
  },
  {
   "cell_type": "code",
   "execution_count": 20,
   "id": "310f0589",
   "metadata": {},
   "outputs": [
    {
     "name": "stdout",
     "output_type": "stream",
     "text": [
      "C heatmaps summed\n"
     ]
    },
    {
     "data": {
      "text/plain": [
       "<matplotlib.image.AxesImage at 0x2021d7e83c8>"
      ]
     },
     "execution_count": 20,
     "metadata": {},
     "output_type": "execute_result"
    },
    {
     "data": {
      "image/png": "[encoded data removed]",
      "text/plain": [
       "<Figure size 432x288 with 1 Axes>"
      ]
     },
     "metadata": {
      "needs_background": "light"
     },
     "output_type": "display_data"
    }
   ],
   "source": [
    "print('C heatmaps summed')\n",
    "plt.imshow(hm_1c.detach().cpu().numpy()[1], cmap='hot', interpolation='nearest')"
   ]
  },
  {
   "cell_type": "markdown",
   "id": "0df4c10e",
   "metadata": {},
   "source": [
    "Prueba de Circlenet_loss"
   ]
  },
  {
   "cell_type": "code",
   "execution_count": 30,
   "id": "106f1cef",
   "metadata": {},
   "outputs": [],
   "source": [
    "import torch.nn.functional as F"
   ]
  },
  {
   "cell_type": "code",
   "execution_count": 38,
   "id": "c4e20e15",
   "metadata": {},
   "outputs": [],
   "source": [
    "import torch.nn as nn"
   ]
  },
  {
   "cell_type": "code",
   "execution_count": 55,
   "id": "c6f0fb2a",
   "metadata": {},
   "outputs": [],
   "source": [
    "class QualityFocalLoss(nn.Module):\n",
    "    '''Quality Focal Loss. Use logits to improve numerical stability. Generalized Focal Loss: https://arxiv.org/abs/2006.04388\n",
    "    '''\n",
    "    def __init__(self, beta: float = 2, reduction: str = 'sum'):\n",
    "        '''Quality Focal Loss. Default values are from the paper\n",
    "        Args:\n",
    "            beta: control the scaling/modulating factor to reduce the impact of easy examples\n",
    "            reduction: either none, sum, or mean \n",
    "        '''\n",
    "        super().__init__()\n",
    "        assert reduction in ('none', 'sum', 'mean')\n",
    "        self.beta = beta\n",
    "        self.reduction = reduction\n",
    "\n",
    "    def forward(self, inputs: torch.Tensor, targets: torch.Tensor):\n",
    "        probs = torch.sigmoid(inputs)\n",
    "\n",
    "        ce_loss = F.binary_cross_entropy_with_logits(inputs, targets, reduction='none')\n",
    "        modulating_factor = torch.pow(torch.abs(targets - probs), self.beta)\n",
    "        \n",
    "        loss = modulating_factor * ce_loss\n",
    "        if self.reduction == 'none':\n",
    "            return loss\n",
    "\n",
    "        loss = torch.sum(loss)\n",
    "        if self.reduction == 'mean':\n",
    "            loss = loss / targets.eq(1).float().sum()\n",
    "\n",
    "        return loss"
   ]
  },
  {
   "cell_type": "code",
   "execution_count": 52,
   "id": "be9f317a",
   "metadata": {},
   "outputs": [
    {
     "name": "stdout",
     "output_type": "stream",
     "text": [
      "tensor(240.7056, device='cuda:0', grad_fn=<SumBackward0>)\n"
     ]
    }
   ],
   "source": [
    "##80C Heatmap pred to 1C vs 80C heatmap gt sumdim 1 v2\n",
    "#pred_hm = output['hm'].sigmoid()\n",
    "hm_1c = img['hm_mod'] #gt 1heatmap torch.Size([2, 128, 128])\n",
    "pred = output['hm'][:,0,:,:] #torch.Size([2, 128, 128])\n",
    "inputs = pred.clone().to('cuda')    #torch.Size([2, 128, 128])\n",
    "targets = hm_1c.clone().to('cuda')  #torch.Size([2, 128, 128])\n",
    "\n",
    "loss = QualityFocalLoss()\n",
    "print(loss(inputs, targets))"
   ]
  },
  {
   "cell_type": "code",
   "execution_count": 51,
   "id": "ca03df92",
   "metadata": {},
   "outputs": [
    {
     "name": "stdout",
     "output_type": "stream",
     "text": [
      "tensor(5581.1318, device='cuda:0')\n"
     ]
    }
   ],
   "source": [
    "hm_1c = img['hm_mod'] #gt 1heatmap\n",
    "gt_hm2 = gt_hm.sum(1)/gt_hm.max() #gt 80c to 1c sum\n",
    "inputs = hm_1c.clone().to('cuda')    #torch.Size([2, 128, 128])\n",
    "targets = gt_hm2.clone().to('cuda')  #torch.Size([2, 128, 128])\n",
    "\n",
    "loss = QualityFocalLoss()\n",
    "print(loss(inputs, targets))"
   ]
  },
  {
   "cell_type": "code",
   "execution_count": 58,
   "id": "72165e4f",
   "metadata": {},
   "outputs": [
    {
     "name": "stdout",
     "output_type": "stream",
     "text": [
      "tensor(41287.6211, device='cuda:0')\n"
     ]
    }
   ],
   "source": [
    "inputs = gt_hm.clone().to('cuda')    #torch.Size([2, 128, 128])\n",
    "targets = gt_hm.clone().to('cuda')  #torch.Size([2, 128, 128])\n",
    "\n",
    "loss = QualityFocalLoss(reduction = 'mean')\n",
    "print(loss(inputs, targets))"
   ]
  }
 ],
 "metadata": {
  "kernelspec": {
   "display_name": "Python 3 (ipykernel)",
   "language": "python",
   "name": "python3"
  },
  "language_info": {
   "codemirror_mode": {
    "name": "ipython",
    "version": 3
   },
   "file_extension": ".py",
   "mimetype": "text/x-python",
   "name": "python",
   "nbconvert_exporter": "python",
   "pygments_lexer": "ipython3",
   "version": "3.7.13"
  }
 },
 "nbformat": 4,
 "nbformat_minor": 5
}
