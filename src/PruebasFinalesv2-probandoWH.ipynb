{
 "cells": [
  {
   "cell_type": "markdown",
   "id": "c5872380",
   "metadata": {},
   "source": [
    "Pruebas en el modelo v6"
   ]
  },
  {
   "cell_type": "code",
   "execution_count": 21,
   "id": "7fcac4b9",
   "metadata": {},
   "outputs": [],
   "source": [
    "from __future__ import absolute_import\n",
    "from __future__ import division\n",
    "from __future__ import print_function\n",
    "\n",
    "import _init_paths\n",
    "\n",
    "import os\n",
    "\n",
    "import torch\n",
    "import torch.utils.data\n",
    "from opts import opts\n",
    "from models.model import create_model, load_model, save_model\n",
    "from models.data_parallel import DataParallel\n",
    "from logger import Logger\n",
    "from datasets.dataset_factory import get_dataset\n",
    "from trains.train_factory import train_factory\n",
    "import cv2\n",
    "import sys\n",
    "%matplotlib inline\n",
    "import matplotlib.pyplot as plt\n",
    "from detectors.detector_factory import detector_factory\n",
    "\n",
    "image_ext = ['jpg', 'jpeg', 'png', 'webp']\n",
    "video_ext = ['mp4', 'mov', 'avi', 'mkv']\n",
    "time_stats = ['tot', 'load', 'pre', 'net', 'dec', 'post', 'merge']"
   ]
  },
  {
   "cell_type": "code",
   "execution_count": 22,
   "id": "1bf5c9fc",
   "metadata": {},
   "outputs": [],
   "source": [
    "def _nms(heat, kernel=3):\n",
    "    pad = (kernel - 1) // 2\n",
    "\n",
    "    hmax = torch.nn.functional.max_pool2d(\n",
    "        heat, (kernel, kernel), stride=1, padding=pad)\n",
    "    keep = (hmax == heat).float()\n",
    "    return heat * keep"
   ]
  },
  {
   "cell_type": "code",
   "execution_count": 23,
   "id": "198d72e0",
   "metadata": {},
   "outputs": [
    {
     "name": "stdout",
     "output_type": "stream",
     "text": [
      "Fix size testing.\n",
      "training chunk_sizes: [32]\n",
      "The output will be saved to  C:\\Users\\avata\\FewShot-CenterNet\\src\\lib\\..\\..\\exp\\ctdetv2\\default\n",
      "ctdetv2\n"
     ]
    }
   ],
   "source": [
    "sys.argv = ['-f', 'ctdetv2', '--demo', '../images/yolo/', '--arch','dlav6_34',  '--load_model' ,'../exp/ctdetv2/coco_dlav6/model_last.pth'] #cmd = 'ctdet --exp_id coco_dla --batch_size 4 --lr 1.25e-4  --gpus 0 --num_workers 0'\n",
    "opt = opts().parse()\n",
    "print(opt.task)"
   ]
  },
  {
   "cell_type": "code",
   "execution_count": 24,
   "id": "76344143",
   "metadata": {},
   "outputs": [
    {
     "name": "stdout",
     "output_type": "stream",
     "text": [
      "Fix size testing.\n",
      "training chunk_sizes: [32]\n",
      "The output will be saved to  C:\\Users\\avata\\FewShot-CenterNet\\src\\lib\\..\\..\\exp\\ctdetv2\\default\n",
      "heads {'hm': 80, 'wh': 2, 'reg': 2}\n"
     ]
    }
   ],
   "source": [
    "opt = opts().init()"
   ]
  },
  {
   "cell_type": "code",
   "execution_count": 25,
   "id": "f678e7fe",
   "metadata": {},
   "outputs": [
    {
     "name": "stdout",
     "output_type": "stream",
     "text": [
      "Creating model...\n",
      "loaded ../exp/ctdetv2/coco_dlav6/model_last.pth, epoch 240\n"
     ]
    }
   ],
   "source": [
    "os.environ['CUDA_VISIBLE_DEVICES'] = opt.gpus_str\n",
    "opt.debug = max(opt.debug, 1)\n",
    "opt.debug = 0\n",
    "Detector = detector_factory[opt.task]\n",
    "detector = Detector(opt)"
   ]
  },
  {
   "cell_type": "code",
   "execution_count": 26,
   "id": "e1245a9f",
   "metadata": {
    "scrolled": true
   },
   "outputs": [
    {
     "data": {
      "text/plain": [
       "DLASeg(\n",
       "  (base): DLA(\n",
       "    (base_layer): Sequential(\n",
       "      (0): Conv2d(3, 16, kernel_size=(7, 7), stride=(1, 1), padding=(3, 3), bias=False)\n",
       "      (1): BatchNorm2d(16, eps=1e-05, momentum=0.1, affine=True, track_running_stats=True)\n",
       "      (2): ReLU(inplace=True)\n",
       "    )\n",
       "    (level0): Sequential(\n",
       "      (0): Conv2d(16, 16, kernel_size=(3, 3), stride=(1, 1), padding=(1, 1), bias=False)\n",
       "      (1): BatchNorm2d(16, eps=1e-05, momentum=0.1, affine=True, track_running_stats=True)\n",
       "      (2): ReLU(inplace=True)\n",
       "    )\n",
       "    (level1): Sequential(\n",
       "      (0): Conv2d(16, 32, kernel_size=(3, 3), stride=(2, 2), padding=(1, 1), bias=False)\n",
       "      (1): BatchNorm2d(32, eps=1e-05, momentum=0.1, affine=True, track_running_stats=True)\n",
       "      (2): ReLU(inplace=True)\n",
       "    )\n",
       "    (level2): Tree(\n",
       "      (tree1): BasicBlock(\n",
       "        (conv1): Conv2d(32, 64, kernel_size=(3, 3), stride=(2, 2), padding=(1, 1), bias=False)\n",
       "        (bn1): BatchNorm2d(64, eps=1e-05, momentum=0.1, affine=True, track_running_stats=True)\n",
       "        (relu): ReLU(inplace=True)\n",
       "        (conv2): Conv2d(64, 64, kernel_size=(3, 3), stride=(1, 1), padding=(1, 1), bias=False)\n",
       "        (bn2): BatchNorm2d(64, eps=1e-05, momentum=0.1, affine=True, track_running_stats=True)\n",
       "      )\n",
       "      (tree2): BasicBlock(\n",
       "        (conv1): Conv2d(64, 64, kernel_size=(3, 3), stride=(1, 1), padding=(1, 1), bias=False)\n",
       "        (bn1): BatchNorm2d(64, eps=1e-05, momentum=0.1, affine=True, track_running_stats=True)\n",
       "        (relu): ReLU(inplace=True)\n",
       "        (conv2): Conv2d(64, 64, kernel_size=(3, 3), stride=(1, 1), padding=(1, 1), bias=False)\n",
       "        (bn2): BatchNorm2d(64, eps=1e-05, momentum=0.1, affine=True, track_running_stats=True)\n",
       "      )\n",
       "      (root): Root(\n",
       "        (conv): Conv2d(128, 64, kernel_size=(1, 1), stride=(1, 1), bias=False)\n",
       "        (bn): BatchNorm2d(64, eps=1e-05, momentum=0.1, affine=True, track_running_stats=True)\n",
       "        (relu): ReLU(inplace=True)\n",
       "      )\n",
       "      (downsample): MaxPool2d(kernel_size=2, stride=2, padding=0, dilation=1, ceil_mode=False)\n",
       "      (project): Sequential(\n",
       "        (0): Conv2d(32, 64, kernel_size=(1, 1), stride=(1, 1), bias=False)\n",
       "        (1): BatchNorm2d(64, eps=1e-05, momentum=0.1, affine=True, track_running_stats=True)\n",
       "      )\n",
       "    )\n",
       "    (level3): Tree(\n",
       "      (tree1): Tree(\n",
       "        (tree1): BasicBlock(\n",
       "          (conv1): Conv2d(64, 128, kernel_size=(3, 3), stride=(2, 2), padding=(1, 1), bias=False)\n",
       "          (bn1): BatchNorm2d(128, eps=1e-05, momentum=0.1, affine=True, track_running_stats=True)\n",
       "          (relu): ReLU(inplace=True)\n",
       "          (conv2): Conv2d(128, 128, kernel_size=(3, 3), stride=(1, 1), padding=(1, 1), bias=False)\n",
       "          (bn2): BatchNorm2d(128, eps=1e-05, momentum=0.1, affine=True, track_running_stats=True)\n",
       "        )\n",
       "        (tree2): BasicBlock(\n",
       "          (conv1): Conv2d(128, 128, kernel_size=(3, 3), stride=(1, 1), padding=(1, 1), bias=False)\n",
       "          (bn1): BatchNorm2d(128, eps=1e-05, momentum=0.1, affine=True, track_running_stats=True)\n",
       "          (relu): ReLU(inplace=True)\n",
       "          (conv2): Conv2d(128, 128, kernel_size=(3, 3), stride=(1, 1), padding=(1, 1), bias=False)\n",
       "          (bn2): BatchNorm2d(128, eps=1e-05, momentum=0.1, affine=True, track_running_stats=True)\n",
       "        )\n",
       "        (root): Root(\n",
       "          (conv): Conv2d(256, 128, kernel_size=(1, 1), stride=(1, 1), bias=False)\n",
       "          (bn): BatchNorm2d(128, eps=1e-05, momentum=0.1, affine=True, track_running_stats=True)\n",
       "          (relu): ReLU(inplace=True)\n",
       "        )\n",
       "        (downsample): MaxPool2d(kernel_size=2, stride=2, padding=0, dilation=1, ceil_mode=False)\n",
       "        (project): Sequential(\n",
       "          (0): Conv2d(64, 128, kernel_size=(1, 1), stride=(1, 1), bias=False)\n",
       "          (1): BatchNorm2d(128, eps=1e-05, momentum=0.1, affine=True, track_running_stats=True)\n",
       "        )\n",
       "      )\n",
       "      (tree2): Tree(\n",
       "        (tree1): BasicBlock(\n",
       "          (conv1): Conv2d(128, 128, kernel_size=(3, 3), stride=(1, 1), padding=(1, 1), bias=False)\n",
       "          (bn1): BatchNorm2d(128, eps=1e-05, momentum=0.1, affine=True, track_running_stats=True)\n",
       "          (relu): ReLU(inplace=True)\n",
       "          (conv2): Conv2d(128, 128, kernel_size=(3, 3), stride=(1, 1), padding=(1, 1), bias=False)\n",
       "          (bn2): BatchNorm2d(128, eps=1e-05, momentum=0.1, affine=True, track_running_stats=True)\n",
       "        )\n",
       "        (tree2): BasicBlock(\n",
       "          (conv1): Conv2d(128, 128, kernel_size=(3, 3), stride=(1, 1), padding=(1, 1), bias=False)\n",
       "          (bn1): BatchNorm2d(128, eps=1e-05, momentum=0.1, affine=True, track_running_stats=True)\n",
       "          (relu): ReLU(inplace=True)\n",
       "          (conv2): Conv2d(128, 128, kernel_size=(3, 3), stride=(1, 1), padding=(1, 1), bias=False)\n",
       "          (bn2): BatchNorm2d(128, eps=1e-05, momentum=0.1, affine=True, track_running_stats=True)\n",
       "        )\n",
       "        (root): Root(\n",
       "          (conv): Conv2d(448, 128, kernel_size=(1, 1), stride=(1, 1), bias=False)\n",
       "          (bn): BatchNorm2d(128, eps=1e-05, momentum=0.1, affine=True, track_running_stats=True)\n",
       "          (relu): ReLU(inplace=True)\n",
       "        )\n",
       "      )\n",
       "      (downsample): MaxPool2d(kernel_size=2, stride=2, padding=0, dilation=1, ceil_mode=False)\n",
       "      (project): Sequential(\n",
       "        (0): Conv2d(64, 128, kernel_size=(1, 1), stride=(1, 1), bias=False)\n",
       "        (1): BatchNorm2d(128, eps=1e-05, momentum=0.1, affine=True, track_running_stats=True)\n",
       "      )\n",
       "    )\n",
       "    (level4): Tree(\n",
       "      (tree1): Tree(\n",
       "        (tree1): BasicBlock(\n",
       "          (conv1): Conv2d(128, 256, kernel_size=(3, 3), stride=(2, 2), padding=(1, 1), bias=False)\n",
       "          (bn1): BatchNorm2d(256, eps=1e-05, momentum=0.1, affine=True, track_running_stats=True)\n",
       "          (relu): ReLU(inplace=True)\n",
       "          (conv2): Conv2d(256, 256, kernel_size=(3, 3), stride=(1, 1), padding=(1, 1), bias=False)\n",
       "          (bn2): BatchNorm2d(256, eps=1e-05, momentum=0.1, affine=True, track_running_stats=True)\n",
       "        )\n",
       "        (tree2): BasicBlock(\n",
       "          (conv1): Conv2d(256, 256, kernel_size=(3, 3), stride=(1, 1), padding=(1, 1), bias=False)\n",
       "          (bn1): BatchNorm2d(256, eps=1e-05, momentum=0.1, affine=True, track_running_stats=True)\n",
       "          (relu): ReLU(inplace=True)\n",
       "          (conv2): Conv2d(256, 256, kernel_size=(3, 3), stride=(1, 1), padding=(1, 1), bias=False)\n",
       "          (bn2): BatchNorm2d(256, eps=1e-05, momentum=0.1, affine=True, track_running_stats=True)\n",
       "        )\n",
       "        (root): Root(\n",
       "          (conv): Conv2d(512, 256, kernel_size=(1, 1), stride=(1, 1), bias=False)\n",
       "          (bn): BatchNorm2d(256, eps=1e-05, momentum=0.1, affine=True, track_running_stats=True)\n",
       "          (relu): ReLU(inplace=True)\n",
       "        )\n",
       "        (downsample): MaxPool2d(kernel_size=2, stride=2, padding=0, dilation=1, ceil_mode=False)\n",
       "        (project): Sequential(\n",
       "          (0): Conv2d(128, 256, kernel_size=(1, 1), stride=(1, 1), bias=False)\n",
       "          (1): BatchNorm2d(256, eps=1e-05, momentum=0.1, affine=True, track_running_stats=True)\n",
       "        )\n",
       "      )\n",
       "      (tree2): Tree(\n",
       "        (tree1): BasicBlock(\n",
       "          (conv1): Conv2d(256, 256, kernel_size=(3, 3), stride=(1, 1), padding=(1, 1), bias=False)\n",
       "          (bn1): BatchNorm2d(256, eps=1e-05, momentum=0.1, affine=True, track_running_stats=True)\n",
       "          (relu): ReLU(inplace=True)\n",
       "          (conv2): Conv2d(256, 256, kernel_size=(3, 3), stride=(1, 1), padding=(1, 1), bias=False)\n",
       "          (bn2): BatchNorm2d(256, eps=1e-05, momentum=0.1, affine=True, track_running_stats=True)\n",
       "        )\n",
       "        (tree2): BasicBlock(\n",
       "          (conv1): Conv2d(256, 256, kernel_size=(3, 3), stride=(1, 1), padding=(1, 1), bias=False)\n",
       "          (bn1): BatchNorm2d(256, eps=1e-05, momentum=0.1, affine=True, track_running_stats=True)\n",
       "          (relu): ReLU(inplace=True)\n",
       "          (conv2): Conv2d(256, 256, kernel_size=(3, 3), stride=(1, 1), padding=(1, 1), bias=False)\n",
       "          (bn2): BatchNorm2d(256, eps=1e-05, momentum=0.1, affine=True, track_running_stats=True)\n",
       "        )\n",
       "        (root): Root(\n",
       "          (conv): Conv2d(896, 256, kernel_size=(1, 1), stride=(1, 1), bias=False)\n",
       "          (bn): BatchNorm2d(256, eps=1e-05, momentum=0.1, affine=True, track_running_stats=True)\n",
       "          (relu): ReLU(inplace=True)\n",
       "        )\n",
       "      )\n",
       "      (downsample): MaxPool2d(kernel_size=2, stride=2, padding=0, dilation=1, ceil_mode=False)\n",
       "      (project): Sequential(\n",
       "        (0): Conv2d(128, 256, kernel_size=(1, 1), stride=(1, 1), bias=False)\n",
       "        (1): BatchNorm2d(256, eps=1e-05, momentum=0.1, affine=True, track_running_stats=True)\n",
       "      )\n",
       "    )\n",
       "    (level5): Tree(\n",
       "      (tree1): BasicBlock(\n",
       "        (conv1): Conv2d(256, 512, kernel_size=(3, 3), stride=(2, 2), padding=(1, 1), bias=False)\n",
       "        (bn1): BatchNorm2d(512, eps=1e-05, momentum=0.1, affine=True, track_running_stats=True)\n",
       "        (relu): ReLU(inplace=True)\n",
       "        (conv2): Conv2d(512, 512, kernel_size=(3, 3), stride=(1, 1), padding=(1, 1), bias=False)\n",
       "        (bn2): BatchNorm2d(512, eps=1e-05, momentum=0.1, affine=True, track_running_stats=True)\n",
       "      )\n",
       "      (tree2): BasicBlock(\n",
       "        (conv1): Conv2d(512, 512, kernel_size=(3, 3), stride=(1, 1), padding=(1, 1), bias=False)\n",
       "        (bn1): BatchNorm2d(512, eps=1e-05, momentum=0.1, affine=True, track_running_stats=True)\n",
       "        (relu): ReLU(inplace=True)\n",
       "        (conv2): Conv2d(512, 512, kernel_size=(3, 3), stride=(1, 1), padding=(1, 1), bias=False)\n",
       "        (bn2): BatchNorm2d(512, eps=1e-05, momentum=0.1, affine=True, track_running_stats=True)\n",
       "      )\n",
       "      (root): Root(\n",
       "        (conv): Conv2d(1280, 512, kernel_size=(1, 1), stride=(1, 1), bias=False)\n",
       "        (bn): BatchNorm2d(512, eps=1e-05, momentum=0.1, affine=True, track_running_stats=True)\n",
       "        (relu): ReLU(inplace=True)\n",
       "      )\n",
       "      (downsample): MaxPool2d(kernel_size=2, stride=2, padding=0, dilation=1, ceil_mode=False)\n",
       "      (project): Sequential(\n",
       "        (0): Conv2d(256, 512, kernel_size=(1, 1), stride=(1, 1), bias=False)\n",
       "        (1): BatchNorm2d(512, eps=1e-05, momentum=0.1, affine=True, track_running_stats=True)\n",
       "      )\n",
       "    )\n",
       "    (fc): Conv2d(512, 1000, kernel_size=(1, 1), stride=(1, 1))\n",
       "  )\n",
       "  (dla_up): DLAUp(\n",
       "    (ida_0): IDAUp(\n",
       "      (proj_1): DeformConv(\n",
       "        (actf): Sequential(\n",
       "          (0): BatchNorm2d(256, eps=1e-05, momentum=0.1, affine=True, track_running_stats=True)\n",
       "          (1): ReLU(inplace=True)\n",
       "        )\n",
       "        (conv): DCN(\n",
       "          (conv_offset_mask): Conv2d(512, 27, kernel_size=(3, 3), stride=(1, 1), padding=(1, 1))\n",
       "        )\n",
       "      )\n",
       "      (up_1): ConvTranspose2d(256, 256, kernel_size=(4, 4), stride=(2, 2), padding=(1, 1), groups=256, bias=False)\n",
       "      (node_1): DeformConv(\n",
       "        (actf): Sequential(\n",
       "          (0): BatchNorm2d(256, eps=1e-05, momentum=0.1, affine=True, track_running_stats=True)\n",
       "          (1): ReLU(inplace=True)\n",
       "        )\n",
       "        (conv): DCN(\n",
       "          (conv_offset_mask): Conv2d(256, 27, kernel_size=(3, 3), stride=(1, 1), padding=(1, 1))\n",
       "        )\n",
       "      )\n",
       "    )\n",
       "    (ida_1): IDAUp(\n",
       "      (proj_1): DeformConv(\n",
       "        (actf): Sequential(\n",
       "          (0): BatchNorm2d(128, eps=1e-05, momentum=0.1, affine=True, track_running_stats=True)\n",
       "          (1): ReLU(inplace=True)\n",
       "        )\n",
       "        (conv): DCN(\n",
       "          (conv_offset_mask): Conv2d(256, 27, kernel_size=(3, 3), stride=(1, 1), padding=(1, 1))\n",
       "        )\n",
       "      )\n",
       "      (up_1): ConvTranspose2d(128, 128, kernel_size=(4, 4), stride=(2, 2), padding=(1, 1), groups=128, bias=False)\n",
       "      (node_1): DeformConv(\n",
       "        (actf): Sequential(\n",
       "          (0): BatchNorm2d(128, eps=1e-05, momentum=0.1, affine=True, track_running_stats=True)\n",
       "          (1): ReLU(inplace=True)\n",
       "        )\n",
       "        (conv): DCN(\n",
       "          (conv_offset_mask): Conv2d(128, 27, kernel_size=(3, 3), stride=(1, 1), padding=(1, 1))\n",
       "        )\n",
       "      )\n",
       "      (proj_2): DeformConv(\n",
       "        (actf): Sequential(\n",
       "          (0): BatchNorm2d(128, eps=1e-05, momentum=0.1, affine=True, track_running_stats=True)\n",
       "          (1): ReLU(inplace=True)\n",
       "        )\n",
       "        (conv): DCN(\n",
       "          (conv_offset_mask): Conv2d(256, 27, kernel_size=(3, 3), stride=(1, 1), padding=(1, 1))\n",
       "        )\n",
       "      )\n",
       "      (up_2): ConvTranspose2d(128, 128, kernel_size=(4, 4), stride=(2, 2), padding=(1, 1), groups=128, bias=False)\n",
       "      (node_2): DeformConv(\n",
       "        (actf): Sequential(\n",
       "          (0): BatchNorm2d(128, eps=1e-05, momentum=0.1, affine=True, track_running_stats=True)\n",
       "          (1): ReLU(inplace=True)\n",
       "        )\n",
       "        (conv): DCN(\n",
       "          (conv_offset_mask): Conv2d(128, 27, kernel_size=(3, 3), stride=(1, 1), padding=(1, 1))\n",
       "        )\n",
       "      )\n",
       "    )\n",
       "    (ida_2): IDAUp(\n",
       "      (proj_1): DeformConv(\n",
       "        (actf): Sequential(\n",
       "          (0): BatchNorm2d(64, eps=1e-05, momentum=0.1, affine=True, track_running_stats=True)\n",
       "          (1): ReLU(inplace=True)\n",
       "        )\n",
       "        (conv): DCN(\n",
       "          (conv_offset_mask): Conv2d(128, 27, kernel_size=(3, 3), stride=(1, 1), padding=(1, 1))\n",
       "        )\n",
       "      )\n",
       "      (up_1): ConvTranspose2d(64, 64, kernel_size=(4, 4), stride=(2, 2), padding=(1, 1), groups=64, bias=False)\n",
       "      (node_1): DeformConv(\n",
       "        (actf): Sequential(\n",
       "          (0): BatchNorm2d(64, eps=1e-05, momentum=0.1, affine=True, track_running_stats=True)\n",
       "          (1): ReLU(inplace=True)\n",
       "        )\n",
       "        (conv): DCN(\n",
       "          (conv_offset_mask): Conv2d(64, 27, kernel_size=(3, 3), stride=(1, 1), padding=(1, 1))\n",
       "        )\n",
       "      )\n",
       "      (proj_2): DeformConv(\n",
       "        (actf): Sequential(\n",
       "          (0): BatchNorm2d(64, eps=1e-05, momentum=0.1, affine=True, track_running_stats=True)\n",
       "          (1): ReLU(inplace=True)\n",
       "        )\n",
       "        (conv): DCN(\n",
       "          (conv_offset_mask): Conv2d(128, 27, kernel_size=(3, 3), stride=(1, 1), padding=(1, 1))\n",
       "        )\n",
       "      )\n",
       "      (up_2): ConvTranspose2d(64, 64, kernel_size=(4, 4), stride=(2, 2), padding=(1, 1), groups=64, bias=False)\n",
       "      (node_2): DeformConv(\n",
       "        (actf): Sequential(\n",
       "          (0): BatchNorm2d(64, eps=1e-05, momentum=0.1, affine=True, track_running_stats=True)\n",
       "          (1): ReLU(inplace=True)\n",
       "        )\n",
       "        (conv): DCN(\n",
       "          (conv_offset_mask): Conv2d(64, 27, kernel_size=(3, 3), stride=(1, 1), padding=(1, 1))\n",
       "        )\n",
       "      )\n",
       "      (proj_3): DeformConv(\n",
       "        (actf): Sequential(\n",
       "          (0): BatchNorm2d(64, eps=1e-05, momentum=0.1, affine=True, track_running_stats=True)\n",
       "          (1): ReLU(inplace=True)\n",
       "        )\n",
       "        (conv): DCN(\n",
       "          (conv_offset_mask): Conv2d(128, 27, kernel_size=(3, 3), stride=(1, 1), padding=(1, 1))\n",
       "        )\n",
       "      )\n",
       "      (up_3): ConvTranspose2d(64, 64, kernel_size=(4, 4), stride=(2, 2), padding=(1, 1), groups=64, bias=False)\n",
       "      (node_3): DeformConv(\n",
       "        (actf): Sequential(\n",
       "          (0): BatchNorm2d(64, eps=1e-05, momentum=0.1, affine=True, track_running_stats=True)\n",
       "          (1): ReLU(inplace=True)\n",
       "        )\n",
       "        (conv): DCN(\n",
       "          (conv_offset_mask): Conv2d(64, 27, kernel_size=(3, 3), stride=(1, 1), padding=(1, 1))\n",
       "        )\n",
       "      )\n",
       "    )\n",
       "  )\n",
       "  (ida_up): IDAUp(\n",
       "    (proj_1): DeformConv(\n",
       "      (actf): Sequential(\n",
       "        (0): BatchNorm2d(64, eps=1e-05, momentum=0.1, affine=True, track_running_stats=True)\n",
       "        (1): ReLU(inplace=True)\n",
       "      )\n",
       "      (conv): DCN(\n",
       "        (conv_offset_mask): Conv2d(128, 27, kernel_size=(3, 3), stride=(1, 1), padding=(1, 1))\n",
       "      )\n",
       "    )\n",
       "    (up_1): ConvTranspose2d(64, 64, kernel_size=(4, 4), stride=(2, 2), padding=(1, 1), groups=64, bias=False)\n",
       "    (node_1): DeformConv(\n",
       "      (actf): Sequential(\n",
       "        (0): BatchNorm2d(64, eps=1e-05, momentum=0.1, affine=True, track_running_stats=True)\n",
       "        (1): ReLU(inplace=True)\n",
       "      )\n",
       "      (conv): DCN(\n",
       "        (conv_offset_mask): Conv2d(64, 27, kernel_size=(3, 3), stride=(1, 1), padding=(1, 1))\n",
       "      )\n",
       "    )\n",
       "    (proj_2): DeformConv(\n",
       "      (actf): Sequential(\n",
       "        (0): BatchNorm2d(64, eps=1e-05, momentum=0.1, affine=True, track_running_stats=True)\n",
       "        (1): ReLU(inplace=True)\n",
       "      )\n",
       "      (conv): DCN(\n",
       "        (conv_offset_mask): Conv2d(256, 27, kernel_size=(3, 3), stride=(1, 1), padding=(1, 1))\n",
       "      )\n",
       "    )\n",
       "    (up_2): ConvTranspose2d(64, 64, kernel_size=(8, 8), stride=(4, 4), padding=(2, 2), groups=64, bias=False)\n",
       "    (node_2): DeformConv(\n",
       "      (actf): Sequential(\n",
       "        (0): BatchNorm2d(64, eps=1e-05, momentum=0.1, affine=True, track_running_stats=True)\n",
       "        (1): ReLU(inplace=True)\n",
       "      )\n",
       "      (conv): DCN(\n",
       "        (conv_offset_mask): Conv2d(64, 27, kernel_size=(3, 3), stride=(1, 1), padding=(1, 1))\n",
       "      )\n",
       "    )\n",
       "  )\n",
       "  (fc_ss): Sequential(\n",
       "    (0): Conv2d(64, 256, kernel_size=(3, 3), stride=(1, 1), padding=(1, 1))\n",
       "    (1): ReLU(inplace=True)\n",
       "    (2): Conv2d(256, 256, kernel_size=(1, 1), stride=(1, 1))\n",
       "    (3): CosDist(\n",
       "      (softmax): Softmax(dim=1)\n",
       "    )\n",
       "  )\n",
       "  (hm): Sequential(\n",
       "    (0): Conv2d(64, 256, kernel_size=(3, 3), stride=(1, 1), padding=(1, 1))\n",
       "    (1): ReLU()\n",
       "    (2): Conv2d(256, 1, kernel_size=(1, 1), stride=(1, 1))\n",
       "  )\n",
       "  (wh): Sequential(\n",
       "    (0): Conv2d(64, 256, kernel_size=(3, 3), stride=(1, 1), padding=(1, 1))\n",
       "    (1): ReLU()\n",
       "    (2): Conv2d(256, 2, kernel_size=(1, 1), stride=(1, 1))\n",
       "  )\n",
       "  (reg): Sequential(\n",
       "    (0): Conv2d(64, 256, kernel_size=(3, 3), stride=(1, 1), padding=(1, 1))\n",
       "    (1): ReLU()\n",
       "    (2): Conv2d(256, 2, kernel_size=(1, 1), stride=(1, 1))\n",
       "  )\n",
       ")"
      ]
     },
     "execution_count": 26,
     "metadata": {},
     "output_type": "execute_result"
    }
   ],
   "source": [
    "detector.model"
   ]
  },
  {
   "cell_type": "code",
   "execution_count": 73,
   "id": "6f2cb53c",
   "metadata": {},
   "outputs": [],
   "source": [
    "loaded_embedding_matrix = torch.load('embedding_matrix.pth')\n",
    "clases = ['aceite', 'aerosol', 'azucarero', 'balsamo', 'borrador', 'cafe', 'cera', 'cloro', 'cloroplano', 'coca', 'colador', 'confort',\n",
    "           'crema', 'cubix', 'desodorante', 'durazno', 'esponja', 'estuche', 'greda', 'guante', 'harina', 'jabon', 'jugoind', 'ketchup',\n",
    "           'lata', 'leche', 'limon', 'linterna', 'mantequilla', 'mostaza', 'papas', 'pelota', 'pepino', 'pescado', 'platano', 'platoperro',\n",
    "           'sarten', 'te', 'uslero', 'yogurt']"
   ]
  },
  {
   "cell_type": "code",
   "execution_count": 104,
   "id": "d155a905",
   "metadata": {},
   "outputs": [
    {
     "data": {
      "text/plain": [
       "'papas'"
      ]
     },
     "execution_count": 104,
     "metadata": {},
     "output_type": "execute_result"
    }
   ],
   "source": [
    "clases[30]"
   ]
  },
  {
   "cell_type": "code",
   "execution_count": 28,
   "id": "b9e8e5ff",
   "metadata": {},
   "outputs": [],
   "source": [
    "image_names = []\n",
    "image_names.append('../images/test/3_imgrgb.png')"
   ]
  },
  {
   "cell_type": "code",
   "execution_count": 59,
   "id": "b33c4123",
   "metadata": {},
   "outputs": [],
   "source": [
    "from torch.nn.functional import normalize\n",
    "import numpy as np\n",
    "def cosdis(x,y):\n",
    "    x = x.unsqueeze(0)\n",
    "    y = y.unsqueeze(1)\n",
    "    x_n = normalize(x,dim=1)\n",
    "    y_n = normalize(y,dim=0)\n",
    "    return x_n@y_n"
   ]
  },
  {
   "cell_type": "code",
   "execution_count": 117,
   "id": "5db81f64",
   "metadata": {
    "scrolled": false
   },
   "outputs": [
    {
     "name": "stdout",
     "output_type": "stream",
     "text": [
      "../images/test/3_imgrgb.png\n",
      "tensor(0.8775)\n",
      "77 77 tensor(0.9389) tensor(6)\n",
      "tensor(0.8030)\n",
      "57 57 tensor(0.8525) tensor(16)\n",
      "tensor(0.7993)\n",
      "50 50 tensor(0.8597) tensor(16)\n",
      "tensor(0.7994)\n",
      "65 65 tensor(0.8814) tensor(16)\n",
      "tensor(0.7940)\n",
      "47 47 tensor(0.8586) tensor(16)\n",
      "tensor(0.6519)\n",
      "126 126 tensor(0.7460) tensor(19)\n",
      "tensor(0.8584)\n",
      "70 70 tensor(0.8883) tensor(16)\n",
      "tensor(0.5728)\n",
      "15 15 tensor(0.6331) tensor(20)\n",
      "-------------------------\n"
     ]
    }
   ],
   "source": [
    "descriptores = {}\n",
    "descriptores2 = {}\n",
    "m = torch.nn.ReLU()\n",
    "for (image_name) in image_names:\n",
    "    print(image_name)\n",
    "    ret = detector.run(image_name)\n",
    "    output = ret['output']\n",
    "    pred_obj = output['objns']\n",
    "    wh = output['wh'] #torch.Size([1, 2, 128, 128])\n",
    "    reg = output['reg'] #torch.Size([1, 2, 128, 128])\n",
    "    pred_obj = _nms(pred_obj)\n",
    "    hm = pred_obj.squeeze(0).squeeze(0)\n",
    "    scores = output['hm'].squeeze(0)\n",
    "    batch, cat, height, width = pred_obj.size()\n",
    "    \n",
    "    K=8\n",
    "    topk_scores, topk_inds = torch.topk(pred_obj.view(batch, cat, -1), K) #top 100 pixeles brillantes\n",
    "    topk_inds = topk_inds.view(-1,K)\n",
    "\n",
    "    topk_inds = topk_inds % (height * width)\n",
    "    topk_ys   = (topk_inds / width).int()\n",
    "    topk_ys   = topk_ys.view(-1,topk_ys.shape[-1])\n",
    "    topk_xs   = (topk_inds % width).int()\n",
    "    topk_xs   = topk_xs.view(-1,topk_xs.shape[-1])\n",
    "    \n",
    "    #Calculo de los topk wh\n",
    "    top_wh = wh.permute(0,2,3,1).contiguous()\n",
    "    top_wh = top_wh.view(top_wh.size(0),-1,top_wh.size(3))\n",
    "    ind = topk_inds.unsqueeze(2).expand(topk_inds.size(0), topk_inds.size(1), top_wh.size(2))\n",
    "    top_wh = top_wh.gather(1, ind) #torch.Size([1, 15, 2])\n",
    "    \n",
    "    #Calculo de los topk reg\n",
    "    top_reg = reg.permute(0,2,3,1).contiguous()\n",
    "    top_reg = top_reg.view(top_reg.size(0),-1,top_reg.size(3))\n",
    "    top_reg = top_reg.gather(1, ind) #torch.Size([1, 15, 2])\n",
    "    \n",
    "    topk_xs = topk_xs.view(1,K,1) + top_reg[:,:,0:1]\n",
    "    topk_ys = topk_ys.view(1,K,1) + top_reg[:,:,1:2]\n",
    "    \n",
    "    bboxes = torch.cat([topk_xs - top_wh[..., 0:1] / 2, \n",
    "                        topk_ys - top_wh[..., 1:2] / 2,\n",
    "                        topk_xs + top_wh[..., 0:1] / 2, \n",
    "                        topk_ys + top_wh[..., 1:2] / 2], dim=2).cpu()\n",
    "    \n",
    "    \n",
    "    labels = []\n",
    "    new_bboxes = []\n",
    "    for bbox in bboxes[0]:\n",
    "        radio = 1\n",
    "        eje_x, eje_y = int((bbox[0]+bbox[2])/2), int((bbox[0]+bbox[2])/2)\n",
    "        \n",
    "\n",
    "        descriptor = output['descriptor'].squeeze(0)[:,eje_x,eje_y]\n",
    "        count = 1\n",
    "        for x in range(eje_x - radio, eje_x + radio+1):\n",
    "            for y in range(eje_y - radio, eje_y + radio+1):\n",
    "                if not (x==eje_x and y==eje_y):\n",
    "                    descriptor = (descriptor+output['descriptor'].squeeze(0)[:,eje_x,eje_y])\n",
    "                    count += 1\n",
    "        descriptor = descriptor/count\n",
    "        cosdis_mat = torch.tensor([cosdis(embedding,descriptor) for embedding in loaded_embedding_matrix])\n",
    "        print(cosdis_mat[30])\n",
    "        print(eje_x,eje_y,cosdis_mat[torch.argmax(cosdis_mat)],torch.argmax(cosdis_mat))\n",
    "        labels.append(torch.argmax(cosdis_mat))\n",
    "        if (cosdis_mat[torch.argmax(cosdis_mat)]>0.80):\n",
    "            new_bboxes.append(bbox)\n",
    "        \n",
    "    new_bboxes = torch.stack(new_bboxes)\n",
    "    print('-------------------------')"
   ]
  },
  {
   "cell_type": "code",
   "execution_count": 112,
   "id": "0042f1dd",
   "metadata": {},
   "outputs": [
    {
     "data": {
      "text/plain": [
       "tensor([72.4791, 67.8735, 82.8488, 81.6815])"
      ]
     },
     "execution_count": 112,
     "metadata": {},
     "output_type": "execute_result"
    }
   ],
   "source": [
    "bboxes[0][0]"
   ]
  },
  {
   "cell_type": "code",
   "execution_count": 120,
   "id": "000745f2",
   "metadata": {},
   "outputs": [
    {
     "name": "stdout",
     "output_type": "stream",
     "text": [
      "480 640 [320. 240.] 640.0\n"
     ]
    }
   ],
   "source": [
    "import numpy as np\n",
    "h_inp, w_inp = cv2.imread(image_name).shape[0:2]\n",
    "c = np.array([w_inp / 2., h_inp / 2.], dtype=np.float32)\n",
    "s = max(h_inp, w_inp) * 1.0 #s = scale = scale_tmp =src_w\n",
    "print(h_inp, w_inp, c, s)"
   ]
  },
  {
   "cell_type": "code",
   "execution_count": 121,
   "id": "51492d79",
   "metadata": {},
   "outputs": [
    {
     "name": "stdout",
     "output_type": "stream",
     "text": [
      "[[  5.  -0.   0.]\n",
      " [  0.   5. -80.]]\n"
     ]
    }
   ],
   "source": [
    "src = np.zeros((3, 2), dtype=np.float32)\n",
    "dst = np.zeros((3, 2), dtype=np.float32)\n",
    "src[0,:] = [320., 240.]\n",
    "src[1,:] = [320., -80.]\n",
    "src[2,:] = [  0., -80.]\n",
    "dst[0,:] = [64.0, 64.0]\n",
    "dst[1,:] = [64.,  0.]\n",
    "dst[2,:] = [0., 0.]\n",
    "trans = cv2.getAffineTransform(np.float32(dst),np.float32(src))\n",
    "print(trans)"
   ]
  },
  {
   "cell_type": "code",
   "execution_count": 127,
   "id": "30dfd417",
   "metadata": {},
   "outputs": [
    {
     "name": "stdout",
     "output_type": "stream",
     "text": [
      "tensor([[72.4791, 67.8735],\n",
      "        [53.6780, 64.5633],\n",
      "        [45.4235, 82.0008],\n",
      "        [62.7729, 70.5452],\n",
      "        [42.3537, 58.7346],\n",
      "        [67.7375, 80.0669]])\n",
      "tensor([[82.8488, 81.6815],\n",
      "        [61.2354, 80.3838],\n",
      "        [55.2599, 88.4868],\n",
      "        [68.4530, 80.8489],\n",
      "        [52.9950, 79.6077],\n",
      "        [73.9287, 88.5153]])\n"
     ]
    }
   ],
   "source": [
    "for i in range(2):\n",
    "    coords = new_bboxes[:,0+2*i:2+2*i]\n",
    "    print(coords)\n",
    "    target_coords = np.zeros(coords.shape)\n",
    "    for p in range(coords.shape[0]):\n",
    "        target_coords[p, 0:2] = np.dot(trans, np.array([coords[p,0], coords[p,1], 1.], dtype=np.float32).T)\n",
    "    \n",
    "    new_bboxes[:,0+2*i:2+2*i] = torch.tensor([target_coords])\n",
    "       \n",
    "    "
   ]
  },
  {
   "cell_type": "code",
   "execution_count": 128,
   "id": "454910a4",
   "metadata": {},
   "outputs": [
    {
     "name": "stdout",
     "output_type": "stream",
     "text": [
      "[362 259 414 328]\n",
      "[268 242 306 321]\n",
      "[227 330 276 362]\n",
      "[313 272 342 324]\n",
      "[211 213 264 318]\n",
      "[338 320 369 362]\n"
     ]
    }
   ],
   "source": [
    "image = cv2.imread(image_name)\n",
    "# Blue color in BGR \n",
    "color = (255, 0, 0) \n",
    "  \n",
    "# Line thickness of 2 px \n",
    "thickness = 2\n",
    "\n",
    "for numero, bbox in enumerate(new_bboxes):\n",
    "    bbox = np.array(bbox.cpu(), dtype=np.int32)\n",
    "    image = cv2.rectangle(image, (bbox[0], bbox[1]), (bbox[2], bbox[3]), color, thickness) \n",
    "    image = cv2.putText(image, clases[labels[numero]], (bbox[0], bbox[1] - 2), \n",
    "                  cv2.FONT_HERSHEY_SIMPLEX, 0.5, (0, 0, 0), thickness=1, lineType=cv2.LINE_AA)\n",
    "    \n",
    "    print(bbox)"
   ]
  },
  {
   "cell_type": "code",
   "execution_count": 171,
   "id": "ab29daac",
   "metadata": {
    "scrolled": true
   },
   "outputs": [
    {
     "data": {
      "text/plain": [
       "<matplotlib.image.AxesImage at 0x17b2e9f3088>"
      ]
     },
     "execution_count": 171,
     "metadata": {},
     "output_type": "execute_result"
    },
    {
     "data": {
      "image/png": "[encoded data removed]",
      "text/plain": [
       "<Figure size 432x288 with 1 Axes>"
      ]
     },
     "metadata": {
      "needs_background": "light"
     },
     "output_type": "display_data"
    }
   ],
   "source": [
    "plt.imshow(image) "
   ]
  },
  {
   "cell_type": "code",
   "execution_count": null,
   "id": "7b9913f6",
   "metadata": {},
   "outputs": [],
   "source": []
  },
  {
   "cell_type": "code",
   "execution_count": 14,
   "id": "ebaebd53",
   "metadata": {},
   "outputs": [
    {
     "data": {
      "text/plain": [
       "<matplotlib.image.AxesImage at 0x1b4ae2fc0c8>"
      ]
     },
     "execution_count": 14,
     "metadata": {},
     "output_type": "execute_result"
    },
    {
     "data": {
      "image/png": "[encoded data removed]",
      "text/plain": [
       "<Figure size 432x288 with 1 Axes>"
      ]
     },
     "metadata": {
      "needs_background": "light"
     },
     "output_type": "display_data"
    }
   ],
   "source": [
    "plt.imshow(output['objns'][0,0].detach().cpu().numpy(), cmap='hot', interpolation='nearest')"
   ]
  },
  {
   "cell_type": "code",
   "execution_count": 15,
   "id": "eed7d718",
   "metadata": {},
   "outputs": [
    {
     "data": {
      "text/plain": [
       "<matplotlib.image.AxesImage at 0x1b481286cc8>"
      ]
     },
     "execution_count": 15,
     "metadata": {},
     "output_type": "execute_result"
    },
    {
     "data": {
      "image/png": "[encoded data removed]",
      "text/plain": [
       "<Figure size 432x288 with 1 Axes>"
      ]
     },
     "metadata": {
      "needs_background": "light"
     },
     "output_type": "display_data"
    }
   ],
   "source": [
    "plt.imshow(pred_obj[0,0].detach().cpu().numpy(), cmap='hot', interpolation='nearest')"
   ]
  },
  {
   "cell_type": "code",
   "execution_count": 172,
   "id": "70cbb066",
   "metadata": {},
   "outputs": [
    {
     "data": {
      "text/plain": [
       "True"
      ]
     },
     "execution_count": 172,
     "metadata": {},
     "output_type": "execute_result"
    }
   ],
   "source": [
    "cv2.imwrite('prueba.png', image)"
   ]
  },
  {
   "cell_type": "markdown",
   "id": "49bb6967",
   "metadata": {},
   "source": [
    "# Calculo de IoU Para una imagen (esto utiliza el codigo de arriba)\n",
    "\n",
    "Precision = Objetos Correctamente detectados de las predicciones realizadas (TP/TP+FP) (Correct/proposals) <br>\n",
    "Recall = Objetos Correctamente detectados de todos los objetos (TP/TP+FN) (Correct/total objetos GT) <br>\n",
    "FP:= Objetos que detectó erroneamente. <br>\n",
    "FN:= Objetos que debía detectar, pero no detectó. "
   ]
  },
  {
   "cell_type": "code",
   "execution_count": 9,
   "id": "18987e48",
   "metadata": {},
   "outputs": [],
   "source": [
    "def bbox_iou(box1, box2):\n",
    "    mx = min(box1[0], box2[0])\n",
    "    Mx = max(box1[2], box2[2])\n",
    "    my = min(box1[1], box2[1])\n",
    "    My = max(box1[3], box2[3])\n",
    "    w1 = box1[2] - box1[0]\n",
    "    h1 = box1[3] - box1[1]\n",
    "    w2 = box2[2] - box2[0]\n",
    "    h2 = box2[3] - box2[1]\n",
    "    \n",
    "    uw = Mx - mx\n",
    "    uh = My - my\n",
    "    cw = w1 + w2 - uw\n",
    "    ch = h1 + h2 - uh\n",
    "    carea = 0\n",
    "    if cw <= 0 or ch <= 0:\n",
    "        return 0.0\n",
    "\n",
    "    area1 = w1 * h1\n",
    "    area2 = w2 * h2\n",
    "    carea = cw * ch\n",
    "    uarea = area1 + area2 - carea\n",
    "    return carea/uarea"
   ]
  },
  {
   "cell_type": "code",
   "execution_count": 17,
   "id": "6599c946",
   "metadata": {},
   "outputs": [],
   "source": [
    "import numpy as np\n",
    "import os\n",
    "import sys\n",
    "import xml.etree.ElementTree as Et\n",
    "from xml.etree.ElementTree import Element, ElementTree\n",
    "\n",
    "data = {}\n",
    "filename = '../images/test/3_imgrgb.xml'\n",
    "xml = open(filename,\"r\")\n",
    "tree = Et.parse(xml)\n",
    "root = tree.getroot()\n",
    "\n",
    "xml_size = root.find(\"size\")\n",
    "size = {\n",
    "    \"width\": xml_size.find(\"width\").text,\n",
    "    \"height\": xml_size.find(\"height\").text,\n",
    "    \"depth\": xml_size.find(\"depth\").text\n",
    "\n",
    "}\n",
    "objects = root.findall(\"object\")\n",
    "obj = {\"num_obj\": len(objects)}\n",
    "obj_index = 0\n",
    "for _object in objects:\n",
    "\n",
    "    tmp = {\n",
    "        \"name\": _object.find(\"name\").text\n",
    "    }\n",
    "\n",
    "    xml_bndbox = _object.find(\"bndbox\")\n",
    "    bndbox = [int(xml_bndbox.find(\"xmin\").text),\n",
    "              int(xml_bndbox.find(\"ymin\").text),\n",
    "              int(xml_bndbox.find(\"xmax\").text),\n",
    "              int(xml_bndbox.find(\"ymax\").text)]\n",
    "                      \n",
    "    tmp[\"bndbox\"] = bndbox\n",
    "    obj[str(obj_index)] = tmp\n",
    "\n",
    "    obj_index += 1\n",
    "\n",
    "annotation = {\n",
    "    \"size\": size,\n",
    "    \"objects\": obj\n",
    "}\n",
    "[name0, ext0] = os.path.splitext(root.find(\"filename\").text);\n",
    "data[name0] = annotation"
   ]
  },
  {
   "cell_type": "code",
   "execution_count": 18,
   "id": "06fb48af",
   "metadata": {},
   "outputs": [
    {
     "data": {
      "text/plain": [
       "{'num_obj': 6,\n",
       " '0': {'name': 'papas', 'bndbox': [210, 212, 267, 319]},\n",
       " '1': {'name': 'balsamo', 'bndbox': [265, 236, 306, 321]},\n",
       " '2': {'name': 'jugoind', 'bndbox': [310, 270, 346, 324]},\n",
       " '3': {'name': 'cafe', 'bndbox': [358, 258, 414, 330]},\n",
       " '4': {'name': 'desodorante', 'bndbox': [338, 316, 371, 369]},\n",
       " '5': {'name': 'mantequilla', 'bndbox': [223, 327, 281, 361]}}"
      ]
     },
     "execution_count": 18,
     "metadata": {},
     "output_type": "execute_result"
    }
   ],
   "source": [
    "data['3_imgrgb']['objects'] #dict_keys(['size', 'objects'])"
   ]
  },
  {
   "cell_type": "code",
   "execution_count": 19,
   "id": "024bad5f",
   "metadata": {},
   "outputs": [
    {
     "data": {
      "text/plain": [
       "{'name': 'papas', 'bndbox': [210, 212, 267, 319]}"
      ]
     },
     "execution_count": 19,
     "metadata": {},
     "output_type": "execute_result"
    }
   ],
   "source": [
    "data['3_imgrgb']['objects']"
   ]
  },
  {
   "cell_type": "code",
   "execution_count": 27,
   "id": "244ca628",
   "metadata": {},
   "outputs": [],
   "source": [
    "\"\"\"\n",
    "ground_truth_boxes = [data['3_imgrgb']['objects'][str(i)]['bndbox'] for i in range(data['3_imgrgb']['objects']['num_obj'])]\n",
    "detection_boxes = [np.array(bbox.cpu(),dtype=np.int32).tolist() for bbox in bboxes[0]]\n",
    "\n",
    "[[210, 212, 267, 319],\n",
    " [265, 236, 306, 321],\n",
    " [310, 270, 346, 324],\n",
    " [358, 258, 414, 330],\n",
    " [338, 316, 371, 369],\n",
    " [223, 327, 281, 361]]\n",
    "\"\"\""
   ]
  },
  {
   "cell_type": "code",
   "execution_count": 68,
   "id": "2caa0fa6",
   "metadata": {},
   "outputs": [
    {
     "name": "stdout",
     "output_type": "stream",
     "text": [
      "IoU para objeto 0: 0.912444663059518\n",
      "IoU para objeto 1: 0.8614060258249642\n",
      "IoU para objeto 2: 0.7757201646090535\n",
      "IoU para objeto 3: 0.8898809523809523\n",
      "IoU para objeto 4: 0.020654044750430294\n",
      "IoU para objeto 5: 0.7516081147946561\n"
     ]
    }
   ],
   "source": [
    "iou_matrix = np.zeros((6,6))\n",
    "ground_truth_boxes = [data['3_imgrgb']['objects'][str(i)]['bndbox'] for i in range(data['3_imgrgb']['objects']['num_obj'])]\n",
    "detection_boxes = [np.array(bbox.cpu(),dtype=np.int32).tolist() for bbox in bboxes[0]]\n",
    "\n",
    "for i, gt_box in enumerate(ground_truth_boxes):\n",
    "    for j, det_box in enumerate(detection_boxes):\n",
    "        iou_matrix[i, j] = bbox_iou(gt_box, det_box)\n",
    "\n",
    "matched_indices = np.argmax(iou_matrix, axis=1)\n",
    "\n",
    "iou_values = iou_matrix[np.arange(len(ground_truth_boxes)), matched_indices]\n",
    "\n",
    "\n",
    "for i, iou in enumerate(iou_values):\n",
    "    print(f\"IoU para objeto {i}: {iou}\")"
   ]
  },
  {
   "cell_type": "code",
   "execution_count": 119,
   "id": "7af540c8",
   "metadata": {},
   "outputs": [
    {
     "data": {
      "text/plain": [
       "array([[0.        , 0.        , 0.        , 0.        , 0.91244466,\n",
       "        0.        ],\n",
       "       [0.        , 0.86140603, 0.        , 0.        , 0.        ,\n",
       "        0.        ],\n",
       "       [0.        , 0.        , 0.        , 0.77572016, 0.        ,\n",
       "        0.        ],\n",
       "       [0.88988095, 0.        , 0.        , 0.        , 0.        ,\n",
       "        0.        ],\n",
       "       [0.02065404, 0.        , 0.        , 0.00992248, 0.        ,\n",
       "        0.        ],\n",
       "       [0.        , 0.        , 0.75160811, 0.        , 0.        ,\n",
       "        0.        ]])"
      ]
     },
     "execution_count": 119,
     "metadata": {},
     "output_type": "execute_result"
    }
   ],
   "source": [
    "iou_matrix"
   ]
  },
  {
   "cell_type": "markdown",
   "id": "b937720c",
   "metadata": {},
   "source": [
    "# Calculo de AP para Varias imagenes. (No utiliza código de arriba)"
   ]
  },
  {
   "cell_type": "code",
   "execution_count": 173,
   "id": "923d6d21",
   "metadata": {},
   "outputs": [],
   "source": [
    "opt.demo = '../images/Evaluacion/6obj +fondos/CAM/'\n",
    "image_names = [opt.demo]\n",
    "\n",
    "image_names = []\n",
    "ls = os.listdir(opt.demo)\n",
    "for file_name in sorted(ls):\n",
    "  ext = file_name[file_name.rfind('.') + 1:].lower()\n",
    "  if ext in image_ext:\n",
    "      image_names.append(os.path.join(opt.demo, file_name).replace(opt.demo,\"\").replace(\".png\",\"\"))"
   ]
  },
  {
   "cell_type": "code",
   "execution_count": 174,
   "id": "414c49a9",
   "metadata": {},
   "outputs": [],
   "source": [
    "#Database Ground Truth\n",
    "import numpy as np\n",
    "import xml.etree.ElementTree as Et\n",
    "from xml.etree.ElementTree import Element, ElementTree\n",
    "\n",
    "data = {}\n",
    "\n",
    "for image_name in image_names:    \n",
    "    filename = '../images/Evaluacion/XML/6obj +fondos/'+image_name+'.xml'\n",
    "    xml = open(filename,\"r\")\n",
    "    tree = Et.parse(xml)\n",
    "    root = tree.getroot()\n",
    "\n",
    "    xml_size = root.find(\"size\")\n",
    "    size = {\n",
    "        \"width\": xml_size.find(\"width\").text,\n",
    "        \"height\": xml_size.find(\"height\").text,\n",
    "        \"depth\": xml_size.find(\"depth\").text\n",
    "\n",
    "    }\n",
    "    objects = root.findall(\"object\")\n",
    "    obj = {\"num_obj\": len(objects)}\n",
    "    obj_index = 0\n",
    "    for _object in objects:\n",
    "\n",
    "        tmp = {\n",
    "            \"name\": _object.find(\"name\").text\n",
    "        }\n",
    "\n",
    "        xml_bndbox = _object.find(\"bndbox\")\n",
    "        bndbox = [int(xml_bndbox.find(\"xmin\").text),\n",
    "                  int(xml_bndbox.find(\"ymin\").text),\n",
    "                  int(xml_bndbox.find(\"xmax\").text),\n",
    "                  int(xml_bndbox.find(\"ymax\").text)]\n",
    "\n",
    "        tmp[\"bndbox\"] = bndbox\n",
    "        obj[str(obj_index)] = tmp\n",
    "\n",
    "        obj_index += 1\n",
    "\n",
    "    annotation = {\n",
    "        \"size\": size,\n",
    "        \"objects\": obj\n",
    "    }\n",
    "    [name0, ext0] = os.path.splitext(root.find(\"filename\").text);\n",
    "    data[name0] = annotation"
   ]
  },
  {
   "cell_type": "code",
   "execution_count": 236,
   "id": "9ecac515",
   "metadata": {},
   "outputs": [
    {
     "name": "stdout",
     "output_type": "stream",
     "text": [
      "IOUth: 0.500000, IOU: 0.000000, Recal: 0.039874, Precision: 0.042035, Fscore: 0.040926\n",
      "\n"
     ]
    }
   ],
   "source": [
    "#Rutina que detecta objetos para cada imagen\n",
    "K=7\n",
    "iou_thresh = 0.50\n",
    "\n",
    "total = 0.0\n",
    "proposals = 0.0\n",
    "correct = 0.0\n",
    "avg_iou = 0.0\n",
    "\n",
    "for (image_name) in image_names:\n",
    "    ret = detector.run(opt.demo+image_name+'.png')\n",
    "    output = ret['output']\n",
    "    pred_obj = output['objns']\n",
    "    wh = output['wh'] #torch.Size([1, 2, 128, 128])\n",
    "    reg = output['reg'] #torch.Size([1, 2, 128, 128])\n",
    "    pred_obj = _nms(pred_obj)\n",
    "    scores = output['hm'].squeeze(0)\n",
    "    batch, cat, height, width = pred_obj.size()\n",
    "    \n",
    "    topk_scores, topk_inds = torch.topk(pred_obj.view(batch, cat, -1), K) #top 100 pixeles brillantes\n",
    "    topk_inds = topk_inds.view(-1,K)\n",
    "\n",
    "    topk_inds = topk_inds % (height * width)\n",
    "    topk_ys   = (topk_inds / width).int()\n",
    "    topk_ys   = topk_ys.view(-1,topk_ys.shape[-1])\n",
    "    topk_xs   = (topk_inds % width).int()\n",
    "    topk_xs   = topk_xs.view(-1,topk_xs.shape[-1])\n",
    "    \n",
    "    #Calculo de los topk wh\n",
    "    top_wh = wh.permute(0,2,3,1).contiguous()\n",
    "    top_wh = top_wh.view(top_wh.size(0),-1,top_wh.size(3))\n",
    "    ind = topk_inds.unsqueeze(2).expand(topk_inds.size(0), topk_inds.size(1), top_wh.size(2))\n",
    "    top_wh = top_wh.gather(1, ind) #torch.Size([1, 15, 2])\n",
    "    \n",
    "    #Calculo de los topk reg\n",
    "    top_reg = reg.permute(0,2,3,1).contiguous()\n",
    "    top_reg = top_reg.view(top_reg.size(0),-1,top_reg.size(3))\n",
    "    top_reg = top_reg.gather(1, ind) #torch.Size([1, 15, 2])\n",
    "    \n",
    "    topk_xs = topk_xs.view(1,K,1) + top_reg[:,:,0:1]\n",
    "    topk_ys = topk_ys.view(1,K,1) + top_reg[:,:,1:2]\n",
    "    \n",
    "    #Calculo bboxes de proposals\n",
    "    bboxes = torch.cat([topk_xs - top_wh[..., 0:1] / 2, \n",
    "                        topk_ys - top_wh[..., 1:2] / 2,\n",
    "                        topk_xs + top_wh[..., 0:1] / 2, \n",
    "                        topk_ys + top_wh[..., 1:2] / 2], dim=2).cpu()\n",
    "    \n",
    "    #-------------------\n",
    "    labels = []\n",
    "    new_bboxes = []\n",
    "    for bbox in bboxes[0]:\n",
    "        radio = 3\n",
    "        eje_x, eje_y = int((bbox[0]+bbox[2])/2), int((bbox[0]+bbox[2])/2)\n",
    "        \n",
    "\n",
    "        descriptor = output['descriptor'].squeeze(0)[:,eje_x,eje_y]\n",
    "        count = 1\n",
    "        for x in range(eje_x - radio, eje_x + radio+1):\n",
    "            for y in range(eje_y - radio, eje_y + radio+1):\n",
    "                if not (x==eje_x and y==eje_y):\n",
    "                    descriptor = (descriptor+output['descriptor'].squeeze(0)[:,eje_x,eje_y])\n",
    "                    count += 1\n",
    "        descriptor = descriptor/count\n",
    "        cosdis_mat = torch.tensor([cosdis(embedding,descriptor) for embedding in loaded_embedding_matrix])\n",
    "        labels.append(torch.argmax(cosdis_mat))\n",
    "        if (cosdis_mat[torch.argmax(cosdis_mat)]>0.8):\n",
    "            new_bboxes.append(bbox)\n",
    "    \n",
    "    if not len(new_bboxes):\n",
    "        total += data[image_name]['objects']['num_obj']\n",
    "        continue   \n",
    "    \n",
    "    new_bboxes = torch.stack(new_bboxes)\n",
    "    #-------------------\n",
    "    \n",
    "    #Calculo de transformación de escalado de bbox\n",
    "    h_inp, w_inp = cv2.imread(opt.demo+image_name+'.png').shape[0:2]\n",
    "    c = np.array([w_inp / 2., h_inp / 2.], dtype=np.float32)\n",
    "    s = max(h_inp, w_inp) * 1.0 #s = scale = scale_tmp =src_w\n",
    "    src_dir = [0,(s*-0.5)]\n",
    "    dst_dir = [0,(width*-0.5)]\n",
    "    src = np.zeros((3, 2), dtype=np.float32)\n",
    "    dst = np.zeros((3, 2), dtype=np.float32)\n",
    "\n",
    "    src[0,:] = c\n",
    "    src[1,:] = c+ src_dir\n",
    "    direct_src = src[0,:] - src[1,:]\n",
    "    src[2,:] = src[1,:] + np.array([-direct_src[1], direct_src[0]], dtype=np.float32)\n",
    "\n",
    "    dst[0,:] = [width * 0.5, height * 0.5]  \n",
    "    dst[1,:] = np.array([width * 0.5, height * 0.5], np.float32) + dst_dir\n",
    "    direct_dst = dst[0,:] - dst[1,:]\n",
    "    dst[2,:] = dst[1,:] + np.array([-direct_dst[1], direct_dst[0]], dtype=np.float32)\n",
    "    trans = cv2.getAffineTransform(np.float32(dst),np.float32(src))\n",
    "    \n",
    "    #Aplicación de transformador a coordenadas\n",
    "    for i in range(2):\n",
    "        #coords = bboxes[0,:,0+2*i:2+2*i]\n",
    "        coords = new_bboxes[:,0+2*i:2+2*i]\n",
    "        target_coords = np.zeros(coords.shape)\n",
    "        for p in range(coords.shape[0]):\n",
    "            target_coords[p, 0:2] = np.dot(trans, np.array([coords[p,0], coords[p,1], 1.], dtype=np.float32).T)\n",
    "\n",
    "        #bboxes[0,:,0+2*i:2+2*i] = torch.tensor([target_coords])\n",
    "        new_bboxes[:,0+2*i:2+2*i] = torch.tensor([target_coords])\n",
    "        \n",
    "    \n",
    "    \n",
    "        \n",
    "    \n",
    "    #Calculo de matriz IoU para K detecciones    \n",
    "    iou_matrix = np.zeros((data[image_name]['objects']['num_obj'],new_bboxes.size(0)))\n",
    "    ground_truth_boxes = [data[image_name]['objects'][str(i)]['bndbox'] for i in range(data[image_name]['objects']['num_obj'])]\n",
    "    detection_boxes = [np.array(bbox.cpu(),dtype=np.int32).tolist() for bbox in new_bboxes]\n",
    "    \n",
    "    for i, gt_box in enumerate(ground_truth_boxes): #Para cada objeto real\n",
    "        for j, det_box in enumerate(detection_boxes): #Para cada prediccion\n",
    "            iou_matrix[i, j] = bbox_iou(gt_box, det_box)\n",
    "\n",
    "    matched_indices = np.argmax(iou_matrix, axis=1)   #Indices con mayor valores de IoU\n",
    "    \n",
    "    for i, gt_box in enumerate(ground_truth_boxes): #Para cada objeto real\n",
    "        best_iou=0\n",
    "        best_j = -1\n",
    "        for j, det_box in enumerate(detection_boxes): #para cada deteccion\n",
    "            iou = bbox_iou(gt_box, det_box)\n",
    "            if iou >= best_iou:\n",
    "                best_iou=iou\n",
    "                best_j=j\n",
    "            \n",
    "        if best_j == -1:\n",
    "            continue\n",
    "        if best_iou>iou_thresh:\n",
    "            if data[image_name]['objects'][str(i)]['name'] == clases[labels[j]]:\n",
    "                correct += 1\n",
    "        \n",
    "            \n",
    "        \n",
    "    \n",
    "    #iou_values = iou_matrix[np.arange(len(ground_truth_boxes)), matched_indices]\n",
    "    #avg_iou += np.sum(iou_values[iou_values > iou_thresh])\n",
    "    \n",
    "    proposals += new_bboxes.size(0)\n",
    "    #correct += np.sum(iou_values > iou_thresh)\n",
    "    total += data[image_name]['objects']['num_obj']\n",
    "\n",
    "precision = 1.0*correct/proposals\n",
    "recall = 1.0*correct/total\n",
    "fscore = 2.0*precision*recall/(precision+recall)\n",
    "    #print(\"%d IOU: %f, Recal: %f, Precision: %f, Fscore: %f\\n\" % (lineId-1, avg_iou/correct, recall, precision, fscore))\n",
    "print(\"IOUth: %f, IOU: %f, Recal: %f, Precision: %f, Fscore: %f\\n\" % (iou_thresh, avg_iou/correct, recall, precision, fscore))"
   ]
  },
  {
   "cell_type": "code",
   "execution_count": 237,
   "id": "acc5f909",
   "metadata": {},
   "outputs": [
    {
     "data": {
      "text/plain": [
       "38.0"
      ]
     },
     "execution_count": 237,
     "metadata": {},
     "output_type": "execute_result"
    }
   ],
   "source": [
    "correct"
   ]
  }
 ],
 "metadata": {
  "kernelspec": {
   "display_name": "Python 3 (ipykernel)",
   "language": "python",
   "name": "python3"
  },
  "language_info": {
   "codemirror_mode": {
    "name": "ipython",
    "version": 3
   },
   "file_extension": ".py",
   "mimetype": "text/x-python",
   "name": "python",
   "nbconvert_exporter": "python",
   "pygments_lexer": "ipython3",
   "version": "3.7.13"
  }
 },
 "nbformat": 4,
 "nbformat_minor": 5
}
