{
 "cells": [
  {
   "cell_type": "markdown",
   "id": "c5872380",
   "metadata": {},
   "source": [
    "Pruebas en el modelo v6"
   ]
  },
  {
   "cell_type": "code",
   "execution_count": 2,
   "id": "7fcac4b9",
   "metadata": {},
   "outputs": [],
   "source": [
    "from __future__ import absolute_import\n",
    "from __future__ import division\n",
    "from __future__ import print_function\n",
    "\n",
    "import _init_paths\n",
    "\n",
    "import os\n",
    "\n",
    "import torch\n",
    "import torch.utils.data\n",
    "from opts import opts\n",
    "from models.model import create_model, load_model, save_model\n",
    "from models.data_parallel import DataParallel\n",
    "from logger import Logger\n",
    "from datasets.dataset_factory import get_dataset\n",
    "from trains.train_factory import train_factory\n",
    "import cv2\n",
    "import sys\n",
    "%matplotlib inline\n",
    "import matplotlib.pyplot as plt\n",
    "from detectors.detector_factory import detector_factory\n",
    "\n",
    "image_ext = ['jpg', 'jpeg', 'png', 'webp']\n",
    "video_ext = ['mp4', 'mov', 'avi', 'mkv']\n",
    "time_stats = ['tot', 'load', 'pre', 'net', 'dec', 'post', 'merge']"
   ]
  },
  {
   "cell_type": "code",
   "execution_count": 3,
   "id": "198d72e0",
   "metadata": {},
   "outputs": [
    {
     "name": "stdout",
     "output_type": "stream",
     "text": [
      "Fix size testing.\n",
      "training chunk_sizes: [32]\n",
      "The output will be saved to  C:\\Users\\avata\\FewShot-CenterNet\\src\\lib\\..\\..\\exp\\ctdetv2\\default\n",
      "ctdetv2\n"
     ]
    }
   ],
   "source": [
    "sys.argv = ['-f', 'ctdetv2', '--demo', '../images/yolo/', '--arch','dlav6_34',  '--load_model' ,'../exp/ctdetv2/coco_dlav6/model_best_35.pth'] #cmd = 'ctdet --exp_id coco_dla --batch_size 4 --lr 1.25e-4  --gpus 0 --num_workers 0'\n",
    "opt = opts().parse()\n",
    "print(opt.task)"
   ]
  },
  {
   "cell_type": "code",
   "execution_count": 4,
   "id": "76344143",
   "metadata": {},
   "outputs": [
    {
     "name": "stdout",
     "output_type": "stream",
     "text": [
      "Fix size testing.\n",
      "training chunk_sizes: [32]\n",
      "The output will be saved to  C:\\Users\\avata\\FewShot-CenterNet\\src\\lib\\..\\..\\exp\\ctdetv2\\default\n",
      "heads {'hm': 80, 'wh': 2, 'reg': 2}\n"
     ]
    }
   ],
   "source": [
    "opt = opts().init()"
   ]
  },
  {
   "cell_type": "code",
   "execution_count": 5,
   "id": "f678e7fe",
   "metadata": {},
   "outputs": [
    {
     "name": "stdout",
     "output_type": "stream",
     "text": [
      "Creating model...\n",
      "loaded ../exp/ctdetv2/coco_dlav6/model_best_35.pth, epoch 35\n"
     ]
    }
   ],
   "source": [
    "os.environ['CUDA_VISIBLE_DEVICES'] = opt.gpus_str\n",
    "opt.debug = max(opt.debug, 1)\n",
    "Detector = detector_factory[opt.task]\n",
    "detector = Detector(opt)"
   ]
  },
  {
   "cell_type": "code",
   "execution_count": 6,
   "id": "b9e8e5ff",
   "metadata": {},
   "outputs": [
    {
     "name": "stdout",
     "output_type": "stream",
     "text": [
      "['../images/yolo/aceite_0.png', '../images/yolo/aceite_4.png', '../images/yolo/cubix_0.png', '../images/yolo/cubix_5.png', '../images/yolo/te_0.png', '../images/yolo/te_8.png']\n"
     ]
    }
   ],
   "source": [
    "image_names = [opt.demo]\n",
    "#image_names.append('../images/Perro1.jpg')\n",
    "\"\"\"\n",
    "image_names.append('../images/aceite_4.png')\n",
    "image_names.append('../images/cubix_0.png')\n",
    "image_names.append('../images/cubix_5.png')\n",
    "image_names.append('../images/te_0.png')\n",
    "image_names.append('../images/te_8.png')\n",
    "\"\"\"\n",
    "image_names = []\n",
    "ls = os.listdir(opt.demo)\n",
    "for file_name in sorted(ls):\n",
    "  ext = file_name[file_name.rfind('.') + 1:].lower()\n",
    "  if ext in image_ext:\n",
    "      image_names.append(os.path.join(opt.demo, file_name))\n",
    "print(image_names)"
   ]
  },
  {
   "cell_type": "code",
   "execution_count": 7,
   "id": "5db81f64",
   "metadata": {
    "scrolled": true
   },
   "outputs": [
    {
     "name": "stdout",
     "output_type": "stream",
     "text": [
      "tensor([[[0.9999]]], device='cuda:0')\n",
      "tensor([[[11839]]], device='cuda:0')\n",
      "tensor(92, device='cuda:0', dtype=torch.int32)\n",
      "tensor(63, device='cuda:0', dtype=torch.int32)\n",
      "tensor(0.9999, device='cuda:0')\n",
      "-------------------------\n",
      "tensor([[[0.9999]]], device='cuda:0')\n",
      "tensor([[[8512]]], device='cuda:0')\n",
      "tensor(66, device='cuda:0', dtype=torch.int32)\n",
      "tensor(64, device='cuda:0', dtype=torch.int32)\n",
      "tensor(0.9999, device='cuda:0')\n",
      "-------------------------\n",
      "tensor([[[0.9995]]], device='cuda:0')\n",
      "tensor([[[8128]]], device='cuda:0')\n",
      "tensor(63, device='cuda:0', dtype=torch.int32)\n",
      "tensor(64, device='cuda:0', dtype=torch.int32)\n",
      "tensor(0.9995, device='cuda:0')\n",
      "-------------------------\n",
      "tensor([[[0.9997]]], device='cuda:0')\n",
      "tensor([[[8250]]], device='cuda:0')\n",
      "tensor(64, device='cuda:0', dtype=torch.int32)\n",
      "tensor(58, device='cuda:0', dtype=torch.int32)\n",
      "tensor(0.9997, device='cuda:0')\n",
      "-------------------------\n",
      "tensor([[[0.9995]]], device='cuda:0')\n",
      "tensor([[[8127]]], device='cuda:0')\n",
      "tensor(63, device='cuda:0', dtype=torch.int32)\n",
      "tensor(63, device='cuda:0', dtype=torch.int32)\n",
      "tensor(0.9995, device='cuda:0')\n",
      "-------------------------\n",
      "tensor([[[0.9999]]], device='cuda:0')\n",
      "tensor([[[8639]]], device='cuda:0')\n",
      "tensor(67, device='cuda:0', dtype=torch.int32)\n",
      "tensor(63, device='cuda:0', dtype=torch.int32)\n",
      "tensor(0.9999, device='cuda:0')\n",
      "-------------------------\n"
     ]
    }
   ],
   "source": [
    "descriptores = {}\n",
    "m = torch.nn.ReLU()\n",
    "for (image_name) in image_names:\n",
    "    ret = detector.run(image_name)\n",
    "    output = ret['output']\n",
    "    pred_obj = output['objns']\n",
    "    hm = pred_obj.squeeze(0).squeeze(0)\n",
    "    batch, cat, height, width = pred_obj.size()\n",
    "    topk_scores, topk_inds = torch.topk(pred_obj.view(batch, cat, -1), 1)\n",
    "    print(topk_scores)\n",
    "    print(topk_inds)\n",
    "\n",
    "    topk_inds = topk_inds % (height * width)\n",
    "    topk_ys   = (topk_inds / width).int()\n",
    "    topk_xs   = (topk_inds % width).int()\n",
    "    print(topk_ys[0,0,0])\n",
    "    print(topk_xs[0,0,0])\n",
    "    print(hm[topk_ys[0,0,0],topk_xs[0,0,0]])\n",
    "    descriptores[image_name] = torch.nn.ReLU()(output['descriptor'].squeeze(0)[:,int(topk_xs),int(topk_ys)])\n",
    "    print('-------------------------')"
   ]
  },
  {
   "cell_type": "code",
   "execution_count": 8,
   "id": "31eabfc2",
   "metadata": {},
   "outputs": [
    {
     "name": "stdout",
     "output_type": "stream",
     "text": [
      "C heatmaps summed\n",
      "torch.Size([1, 1, 128, 128])\n",
      "tensor(0.9999, device='cuda:0')\n"
     ]
    },
    {
     "data": {
      "text/plain": [
       "<matplotlib.image.AxesImage at 0x16f9064bd08>"
      ]
     },
     "execution_count": 8,
     "metadata": {},
     "output_type": "execute_result"
    },
    {
     "data": {
      "image/png": "[encoded data removed]",
      "text/plain": [
       "<Figure size 432x288 with 1 Axes>"
      ]
     },
     "metadata": {
      "needs_background": "light"
     },
     "output_type": "display_data"
    }
   ],
   "source": [
    "print('C heatmaps summed')\n",
    "ret = detector.run(image_names[0])\n",
    "output = ret['output']\n",
    "pred_obj = output['objns']\n",
    "img_gt2 = pred_obj.detach().cpu().numpy()\n",
    "img_r = img_gt2[0,0,:,:]\n",
    "print(pred_obj.size())\n",
    "print(pred_obj.max())\n",
    "plt.imshow(img_r, cmap='hot', interpolation='nearest')"
   ]
  },
  {
   "cell_type": "code",
   "execution_count": null,
   "id": "5c9a9ec2",
   "metadata": {},
   "outputs": [],
   "source": [
    "torch.max(pred_obj)"
   ]
  },
  {
   "cell_type": "code",
   "execution_count": null,
   "id": "88672d2d",
   "metadata": {
    "scrolled": false
   },
   "outputs": [],
   "source": [
    "descriptores.keys()"
   ]
  },
  {
   "cell_type": "code",
   "execution_count": 9,
   "id": "8b1a11d1",
   "metadata": {},
   "outputs": [],
   "source": [
    "from torch.nn.functional import normalize"
   ]
  },
  {
   "cell_type": "code",
   "execution_count": 19,
   "id": "8a11fe99",
   "metadata": {},
   "outputs": [],
   "source": [
    "def cosdis(x,y):\n",
    "    x = x.unsqueeze(0)\n",
    "    y = y.unsqueeze(1)\n",
    "    x_n = normalize(x,dim=1)\n",
    "    y_n = normalize(y,dim=0)\n",
    "    return x_n@y_n"
   ]
  },
  {
   "cell_type": "code",
   "execution_count": 20,
   "id": "5fe3e574",
   "metadata": {},
   "outputs": [],
   "source": [
    "D = []\n",
    "D.append(descriptores['../images/yolo/aceite_0.png'])\n",
    "D.append(descriptores['../images/yolo/aceite_4.png'])\n",
    "D.append(descriptores['../images/yolo/cubix_0.png'])\n",
    "D.append(descriptores['../images/yolo/cubix_5.png'])\n",
    "D.append(descriptores['../images/yolo/te_0.png'])\n",
    "D.append(descriptores['../images/yolo/te_8.png'])"
   ]
  },
  {
   "cell_type": "code",
   "execution_count": 21,
   "id": "aa560e85",
   "metadata": {},
   "outputs": [],
   "source": [
    "matrix = torch.zeros((len(image_names),len(image_names)))\n",
    "for i in range(len(image_names)):\n",
    "    for j in range(len(image_names)):\n",
    "        score = cosdis(D[i],D[j])[0,0]\n",
    "        matrix[i,j]=score  \n",
    "    "
   ]
  },
  {
   "cell_type": "code",
   "execution_count": 22,
   "id": "ecfa527e",
   "metadata": {},
   "outputs": [
    {
     "data": {
      "text/plain": [
       "tensor([[1.0000, 0.7123, 0.6338, 0.6081, 0.6203, 0.7259],\n",
       "        [0.7123, 1.0000, 0.6726, 0.6441, 0.6701, 0.7740],\n",
       "        [0.6338, 0.6726, 1.0000, 0.6881, 0.8588, 0.7186],\n",
       "        [0.6081, 0.6441, 0.6881, 1.0000, 0.6014, 0.7129],\n",
       "        [0.6203, 0.6701, 0.8588, 0.6014, 1.0000, 0.7977],\n",
       "        [0.7259, 0.7740, 0.7186, 0.7129, 0.7977, 1.0000]])"
      ]
     },
     "execution_count": 22,
     "metadata": {},
     "output_type": "execute_result"
    }
   ],
   "source": [
    "matrix"
   ]
  },
  {
   "cell_type": "code",
   "execution_count": null,
   "id": "e0f8b465",
   "metadata": {},
   "outputs": [],
   "source": []
  },
  {
   "cell_type": "code",
   "execution_count": null,
   "id": "1bcde815",
   "metadata": {},
   "outputs": [],
   "source": []
  },
  {
   "cell_type": "code",
   "execution_count": null,
   "id": "83d42886",
   "metadata": {},
   "outputs": [],
   "source": []
  },
  {
   "cell_type": "code",
   "execution_count": null,
   "id": "01d28a1d",
   "metadata": {},
   "outputs": [],
   "source": []
  },
  {
   "cell_type": "code",
   "execution_count": null,
   "id": "83d25b83",
   "metadata": {},
   "outputs": [],
   "source": []
  },
  {
   "cell_type": "code",
   "execution_count": 7,
   "id": "6b6a64b8",
   "metadata": {},
   "outputs": [
    {
     "data": {
      "text/plain": [
       "dict_keys(['results', 'tot', 'load', 'pre', 'net', 'dec', 'post', 'merge', 'output', 'dets'])"
      ]
     },
     "execution_count": 7,
     "metadata": {},
     "output_type": "execute_result"
    }
   ],
   "source": [
    "ret.keys()"
   ]
  },
  {
   "cell_type": "code",
   "execution_count": 8,
   "id": "af70ffad",
   "metadata": {},
   "outputs": [
    {
     "name": "stdout",
     "output_type": "stream",
     "text": [
      "dict_keys(['objns', 'hm', 'wh', 'reg', 'descriptor'])\n"
     ]
    }
   ],
   "source": [
    "\n",
    "print(output.keys())"
   ]
  },
  {
   "cell_type": "code",
   "execution_count": 26,
   "id": "1aa06e76",
   "metadata": {},
   "outputs": [
    {
     "name": "stdout",
     "output_type": "stream",
     "text": [
      "tensor(0.7310, device='cuda:0')\n",
      "tensor(8241, device='cuda:0')\n"
     ]
    }
   ],
   "source": [
    "hm = pred_obj.squeeze(0).squeeze(0)\n",
    "print(torch.max(hm))\n",
    "print(torch.argmax(hm))"
   ]
  },
  {
   "cell_type": "code",
   "execution_count": 30,
   "id": "684e7a1d",
   "metadata": {},
   "outputs": [
    {
     "name": "stdout",
     "output_type": "stream",
     "text": [
      "64\n",
      "49\n",
      "tensor(0.7310, device='cuda:0')\n"
     ]
    }
   ],
   "source": [
    "x = int(8241/128)\n",
    "print(x)\n",
    "y = 8241 % 128\n",
    "print(y)\n",
    "print(hm[x,y])"
   ]
  },
  {
   "cell_type": "code",
   "execution_count": 32,
   "id": "9ddbaa7e",
   "metadata": {},
   "outputs": [
    {
     "name": "stdout",
     "output_type": "stream",
     "text": [
      "torch.Size([256])\n"
     ]
    }
   ],
   "source": [
    "decrp = output['descriptor'].squeeze(0)[:,x,y]\n",
    "print(decrp.shape)"
   ]
  }
 ],
 "metadata": {
  "kernelspec": {
   "display_name": "Python 3 (ipykernel)",
   "language": "python",
   "name": "python3"
  },
  "language_info": {
   "codemirror_mode": {
    "name": "ipython",
    "version": 3
   },
   "file_extension": ".py",
   "mimetype": "text/x-python",
   "name": "python",
   "nbconvert_exporter": "python",
   "pygments_lexer": "ipython3",
   "version": "3.7.13"
  }
 },
 "nbformat": 4,
 "nbformat_minor": 5
}
